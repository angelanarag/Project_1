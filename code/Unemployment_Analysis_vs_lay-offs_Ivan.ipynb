{
 "cells": [
  {
   "cell_type": "code",
   "execution_count": 2,
   "metadata": {},
   "outputs": [],
   "source": [
    "# Import Dependencies\n",
    "import pandas as pd\n",
    "import numpy as np\n",
    "import matplotlib.pyplot as plt\n",
    "import plotly.graph_objects as go\n",
    "import plotly.express as px\n",
    "import warnings\n",
    "import requests\n",
    "import json\n",
    "import hvplot.pandas\n",
    "import bokeh\n",
    "import scipy.stats as st\n",
    "from scipy.stats import linregress\n",
    "# Import API key\n",
    "from config1 import geoapify_key"
   ]
  },
  {
   "attachments": {},
   "cell_type": "markdown",
   "metadata": {},
   "source": [
    "**Importing Unemployment data capture in the main file**"
   ]
  },
  {
   "cell_type": "code",
   "execution_count": 3,
   "metadata": {},
   "outputs": [
    {
     "data": {
      "text/html": [
       "<div>\n",
       "<style scoped>\n",
       "    .dataframe tbody tr th:only-of-type {\n",
       "        vertical-align: middle;\n",
       "    }\n",
       "\n",
       "    .dataframe tbody tr th {\n",
       "        vertical-align: top;\n",
       "    }\n",
       "\n",
       "    .dataframe thead th {\n",
       "        text-align: right;\n",
       "    }\n",
       "</style>\n",
       "<table border=\"1\" class=\"dataframe\">\n",
       "  <thead>\n",
       "    <tr style=\"text-align: right;\">\n",
       "      <th></th>\n",
       "      <th>Unnamed: 0</th>\n",
       "      <th>Unemployment Rate (S)</th>\n",
       "      <th>Unemployment Rate (U)</th>\n",
       "      <th>Women (S)</th>\n",
       "      <th>Men (S)</th>\n",
       "      <th>Part-Time Workers (S)</th>\n",
       "      <th>Full-Time Workers (S)</th>\n",
       "      <th>Leisure and Hospitality (U)</th>\n",
       "      <th>Education and Health Services (U)</th>\n",
       "      <th>Financial Activities Industry (U)</th>\n",
       "      <th>...</th>\n",
       "      <th>South Dakota (S)</th>\n",
       "      <th>Tennessee (S)</th>\n",
       "      <th>Texas (S)</th>\n",
       "      <th>Utah (S)</th>\n",
       "      <th>Vermont (S)</th>\n",
       "      <th>Virginia (S)</th>\n",
       "      <th>Washington (S)</th>\n",
       "      <th>West Virginia (S)</th>\n",
       "      <th>Wisconsin (S)</th>\n",
       "      <th>Wyoming (S)</th>\n",
       "    </tr>\n",
       "  </thead>\n",
       "  <tbody>\n",
       "    <tr>\n",
       "      <th>0</th>\n",
       "      <td>2018-01-01</td>\n",
       "      <td>4.0</td>\n",
       "      <td>4.5</td>\n",
       "      <td>4.0</td>\n",
       "      <td>4.1</td>\n",
       "      <td>4.6</td>\n",
       "      <td>3.9</td>\n",
       "      <td>6.8</td>\n",
       "      <td>2.7</td>\n",
       "      <td>2.2</td>\n",
       "      <td>...</td>\n",
       "      <td>2.9</td>\n",
       "      <td>3.5</td>\n",
       "      <td>4.1</td>\n",
       "      <td>3.0</td>\n",
       "      <td>3.0</td>\n",
       "      <td>3.3</td>\n",
       "      <td>4.6</td>\n",
       "      <td>5.4</td>\n",
       "      <td>2.9</td>\n",
       "      <td>4.2</td>\n",
       "    </tr>\n",
       "    <tr>\n",
       "      <th>1</th>\n",
       "      <td>2018-02-01</td>\n",
       "      <td>4.1</td>\n",
       "      <td>4.4</td>\n",
       "      <td>4.1</td>\n",
       "      <td>4.0</td>\n",
       "      <td>4.6</td>\n",
       "      <td>4.0</td>\n",
       "      <td>6.8</td>\n",
       "      <td>2.5</td>\n",
       "      <td>2.2</td>\n",
       "      <td>...</td>\n",
       "      <td>2.9</td>\n",
       "      <td>3.5</td>\n",
       "      <td>4.0</td>\n",
       "      <td>3.0</td>\n",
       "      <td>2.9</td>\n",
       "      <td>3.2</td>\n",
       "      <td>4.5</td>\n",
       "      <td>5.4</td>\n",
       "      <td>2.9</td>\n",
       "      <td>4.1</td>\n",
       "    </tr>\n",
       "  </tbody>\n",
       "</table>\n",
       "<p>2 rows × 62 columns</p>\n",
       "</div>"
      ],
      "text/plain": [
       "   Unnamed: 0  Unemployment Rate (S)  Unemployment Rate (U)  Women (S)  \\\n",
       "0  2018-01-01                    4.0                    4.5        4.0   \n",
       "1  2018-02-01                    4.1                    4.4        4.1   \n",
       "\n",
       "   Men (S)  Part-Time Workers (S)  Full-Time Workers (S)  \\\n",
       "0      4.1                    4.6                    3.9   \n",
       "1      4.0                    4.6                    4.0   \n",
       "\n",
       "   Leisure and Hospitality (U)  Education and Health Services (U)  \\\n",
       "0                          6.8                                2.7   \n",
       "1                          6.8                                2.5   \n",
       "\n",
       "   Financial Activities Industry (U)  ...  South Dakota (S)  Tennessee (S)  \\\n",
       "0                                2.2  ...               2.9            3.5   \n",
       "1                                2.2  ...               2.9            3.5   \n",
       "\n",
       "   Texas (S)  Utah (S)  Vermont (S)  Virginia (S)  Washington (S)  \\\n",
       "0        4.1       3.0          3.0           3.3             4.6   \n",
       "1        4.0       3.0          2.9           3.2             4.5   \n",
       "\n",
       "   West Virginia (S)  Wisconsin (S)  Wyoming (S)  \n",
       "0                5.4            2.9          4.2  \n",
       "1                5.4            2.9          4.1  \n",
       "\n",
       "[2 rows x 62 columns]"
      ]
     },
     "execution_count": 3,
     "metadata": {},
     "output_type": "execute_result"
    }
   ],
   "source": [
    "# read the unemployment data from csv\n",
    "csv_path = \"../output/Unemployment_Rates.csv\"\n",
    "\n",
    "# Import the the data as a df\n",
    "unemployment_df = pd.read_csv(csv_path)\n",
    "\n",
    "unemployment_df.head(2)"
   ]
  },
  {
   "attachments": {},
   "cell_type": "markdown",
   "metadata": {},
   "source": [
    "**Select from the data the Industries captured in the  Data research and Plot the unemployment rates.**"
   ]
  },
  {
   "cell_type": "code",
   "execution_count": 4,
   "metadata": {},
   "outputs": [
    {
     "data": {
      "image/png": "[encoded data removed]",
      "text/plain": [
       "<Figure size 640x480 with 1 Axes>"
      ]
     },
     "metadata": {},
     "output_type": "display_data"
    }
   ],
   "source": [
    "#Creaton of variable  that will be use for the manipulation of the data for the graph\n",
    "indus_unmp=unemployment_df\n",
    "indus_unmp['Unnamed: 0']=pd.to_datetime(indus_unmp['Unnamed: 0'])\n",
    "indus_unmp['month']=(indus_unmp['Unnamed: 0']).dt.month\n",
    "indus_unmp['year']=(indus_unmp['Unnamed: 0']).dt.year\n",
    "indus_unmp['period']=indus_unmp['year'].astype(str)  + ' '+indus_unmp['month'].astype(str) \n",
    "#Getting the axis data  capture for the graph\n",
    "x_axis=np.arange(0, len(indus_unmp))\n",
    "tick_locations = []\n",
    "for x in x_axis:\n",
    "    tick_locations.append(x)\n",
    "x=indus_unmp['Unnamed: 0']\n",
    "y1=indus_unmp['Leisure and Hospitality (U)']\n",
    "y2=indus_unmp['Financial Activities Industry (U)']\n",
    "y3=indus_unmp['Education and Health Services (U)']\n",
    "\n",
    "#Modifiying the labels and title\n",
    "plt.title(\"Hospitality,Financial and Heatlth Industries Unemployment numbers\")\n",
    "plt.xlabel(\"Years\")\n",
    "plt.ylabel(\"Industry Unemployment x1000\")\n",
    "plt.plot(x,y1,label='Hospitality')\n",
    "plt.plot(x,y2,label='Financial')\n",
    "plt.plot(x,y3,label='Health')\n",
    "plt.legend()\n",
    "plt.savefig('../output/Industry Unemployment_Rates_2018-2022 linePlot.png', dpi=500)\n",
    "#print(indus_unmp)"
   ]
  },
  {
   "attachments": {},
   "cell_type": "markdown",
   "metadata": {},
   "source": [
    "**Looking to the data starting 2020 and creating a graph using another library that make nicer graphs**"
   ]
  },
  {
   "cell_type": "code",
   "execution_count": 5,
   "metadata": {},
   "outputs": [
    {
     "data": {},
     "metadata": {},
     "output_type": "display_data"
    },
    {
     "data": {
      "application/vnd.holoviews_exec.v0+json": "",
      "text/html": [
       "<div id='1002'>\n",
       "  <div class=\"bk-root\" id=\"ce287130-6558-4020-8485-d4286dd6a6b3\" data-root-id=\"1002\"></div>\n",
       "</div>\n",
       "<script type=\"application/javascript\">(function(root) {\n",
       "  function embed_document(root) {\n",
       "    var docs_json = {\"0d64b7d2-b50c-4633-9fd1-c287d700fdb2\":{\"defs\":[{\"extends\":null,\"module\":null,\"name\":\"ReactiveHTML1\",\"overrides\":[],\"properties\":[]},{\"extends\":null,\"module\":null,\"name\":\"FlexBox1\",\"overrides\":[],\"properties\":[{\"default\":\"flex-start\",\"kind\":null,\"name\":\"align_content\"},{\"default\":\"flex-start\",\"kind\":null,\"name\":\"align_items\"},{\"default\":\"row\",\"kind\":null,\"name\":\"flex_direction\"},{\"default\":\"wrap\",\"kind\":null,\"name\":\"flex_wrap\"},{\"default\":\"flex-start\",\"kind\":null,\"name\":\"justify_content\"}]},{\"extends\":null,\"module\":null,\"name\":\"GridStack1\",\"overrides\":[],\"properties\":[{\"default\":\"warn\",\"kind\":null,\"name\":\"mode\"},{\"default\":null,\"kind\":null,\"name\":\"ncols\"},{\"default\":null,\"kind\":null,\"name\":\"nrows\"},{\"default\":true,\"kind\":null,\"name\":\"allow_resize\"},{\"default\":true,\"kind\":null,\"name\":\"allow_drag\"},{\"default\":[],\"kind\":null,\"name\":\"state\"}]},{\"extends\":null,\"module\":null,\"name\":\"click1\",\"overrides\":[],\"properties\":[{\"default\":\"\",\"kind\":null,\"name\":\"terminal_output\"},{\"default\":\"\",\"kind\":null,\"name\":\"debug_name\"},{\"default\":0,\"kind\":null,\"name\":\"clears\"}]},{\"extends\":null,\"module\":null,\"name\":\"NotificationAreaBase1\",\"overrides\":[],\"properties\":[{\"default\":\"bottom-right\",\"kind\":null,\"name\":\"position\"},{\"default\":0,\"kind\":null,\"name\":\"_clear\"}]},{\"extends\":null,\"module\":null,\"name\":\"NotificationArea1\",\"overrides\":[],\"properties\":[{\"default\":[],\"kind\":null,\"name\":\"notifications\"},{\"default\":\"bottom-right\",\"kind\":null,\"name\":\"position\"},{\"default\":0,\"kind\":null,\"name\":\"_clear\"},{\"default\":[{\"background\":\"#ffc107\",\"icon\":{\"className\":\"fas fa-exclamation-triangle\",\"color\":\"white\",\"tagName\":\"i\"},\"type\":\"warning\"},{\"background\":\"#007bff\",\"icon\":{\"className\":\"fas fa-info-circle\",\"color\":\"white\",\"tagName\":\"i\"},\"type\":\"info\"}],\"kind\":null,\"name\":\"types\"}]},{\"extends\":null,\"module\":null,\"name\":\"Notification\",\"overrides\":[],\"properties\":[{\"default\":null,\"kind\":null,\"name\":\"background\"},{\"default\":3000,\"kind\":null,\"name\":\"duration\"},{\"default\":null,\"kind\":null,\"name\":\"icon\"},{\"default\":\"\",\"kind\":null,\"name\":\"message\"},{\"default\":null,\"kind\":null,\"name\":\"notification_type\"},{\"default\":false,\"kind\":null,\"name\":\"_destroyed\"}]},{\"extends\":null,\"module\":null,\"name\":\"TemplateActions1\",\"overrides\":[],\"properties\":[{\"default\":0,\"kind\":null,\"name\":\"open_modal\"},{\"default\":0,\"kind\":null,\"name\":\"close_modal\"}]},{\"extends\":null,\"module\":null,\"name\":\"MaterialTemplateActions1\",\"overrides\":[],\"properties\":[{\"default\":0,\"kind\":null,\"name\":\"open_modal\"},{\"default\":0,\"kind\":null,\"name\":\"close_modal\"}]}],\"roots\":{\"references\":[{\"attributes\":{\"axis_label\":\"\",\"coordinates\":null,\"formatter\":{\"id\":\"1043\"},\"group\":null,\"major_label_policy\":{\"id\":\"1044\"},\"ticker\":{\"id\":\"1023\"}},\"id\":\"1022\",\"type\":\"LinearAxis\"},{\"attributes\":{\"line_color\":\"#fc4f30\",\"line_width\":2,\"x\":{\"field\":\"Unnamed: 0\"},\"y\":{\"field\":\"value\"}},\"id\":\"1111\",\"type\":\"Line\"},{\"attributes\":{\"axis\":{\"id\":\"1022\"},\"coordinates\":null,\"dimension\":1,\"grid_line_color\":null,\"group\":null,\"ticker\":null},\"id\":\"1025\",\"type\":\"Grid\"},{\"attributes\":{},\"id\":\"1023\",\"type\":\"BasicTicker\"},{\"attributes\":{},\"id\":\"1041\",\"type\":\"AllLabels\"},{\"attributes\":{\"line_alpha\":0.2,\"line_color\":\"#e5ae38\",\"line_width\":2,\"x\":{\"field\":\"Unnamed: 0\"},\"y\":{\"field\":\"value\"}},\"id\":\"1117\",\"type\":\"Line\"},{\"attributes\":{},\"id\":\"1026\",\"type\":\"SaveTool\"},{\"attributes\":{\"bottom_units\":\"screen\",\"coordinates\":null,\"fill_alpha\":0.5,\"fill_color\":\"lightgrey\",\"group\":null,\"left_units\":\"screen\",\"level\":\"overlay\",\"line_alpha\":1.0,\"line_color\":\"black\",\"line_dash\":[4,4],\"line_width\":2,\"right_units\":\"screen\",\"syncable\":false,\"top_units\":\"screen\"},\"id\":\"1031\",\"type\":\"BoxAnnotation\"},{\"attributes\":{},\"id\":\"1027\",\"type\":\"PanTool\"},{\"attributes\":{\"line_color\":\"#e5ae38\",\"line_width\":2,\"x\":{\"field\":\"Unnamed: 0\"},\"y\":{\"field\":\"value\"}},\"id\":\"1115\",\"type\":\"Line\"},{\"attributes\":{},\"id\":\"1028\",\"type\":\"WheelZoomTool\"},{\"attributes\":{},\"id\":\"1113\",\"type\":\"Selection\"},{\"attributes\":{\"overlay\":{\"id\":\"1031\"}},\"id\":\"1029\",\"type\":\"BoxZoomTool\"},{\"attributes\":{},\"id\":\"1030\",\"type\":\"ResetTool\"},{\"attributes\":{},\"id\":\"1060\",\"type\":\"UnionRenderers\"},{\"attributes\":{\"line_alpha\":0.1,\"line_color\":\"#e5ae38\",\"line_width\":2,\"x\":{\"field\":\"Unnamed: 0\"},\"y\":{\"field\":\"value\"}},\"id\":\"1116\",\"type\":\"Line\"},{\"attributes\":{\"source\":{\"id\":\"1112\"}},\"id\":\"1119\",\"type\":\"CDSView\"},{\"attributes\":{},\"id\":\"1046\",\"type\":\"Selection\"},{\"attributes\":{\"coordinates\":null,\"data_source\":{\"id\":\"1112\"},\"glyph\":{\"id\":\"1115\"},\"group\":null,\"hover_glyph\":null,\"muted_glyph\":{\"id\":\"1117\"},\"nonselection_glyph\":{\"id\":\"1116\"},\"selection_glyph\":{\"id\":\"1147\"},\"view\":{\"id\":\"1119\"}},\"id\":\"1118\",\"type\":\"GlyphRenderer\"},{\"attributes\":{\"children\":[{\"id\":\"1003\"},{\"id\":\"1009\"},{\"id\":\"1174\"}],\"margin\":[0,0,0,0],\"name\":\"Row00985\",\"tags\":[\"embedded\"]},\"id\":\"1002\",\"type\":\"Row\"},{\"attributes\":{\"label\":{\"value\":\"Financial Activities Industry (U)\"},\"renderers\":[{\"id\":\"1118\"}]},\"id\":\"1146\",\"type\":\"LegendItem\"},{\"attributes\":{\"margin\":[5,5,5,5],\"name\":\"HSpacer00989\",\"sizing_mode\":\"stretch_width\"},\"id\":\"1003\",\"type\":\"Spacer\"},{\"attributes\":{},\"id\":\"1131\",\"type\":\"UnionRenderers\"},{\"attributes\":{\"line_alpha\":0.1,\"line_color\":\"#30a2da\",\"line_width\":2,\"x\":{\"field\":\"Unnamed: 0\"},\"y\":{\"field\":\"value\"}},\"id\":\"1049\",\"type\":\"Line\"},{\"attributes\":{\"tools\":[{\"id\":\"1006\"},{\"id\":\"1026\"},{\"id\":\"1027\"},{\"id\":\"1028\"},{\"id\":\"1029\"},{\"id\":\"1030\"}]},\"id\":\"1032\",\"type\":\"Toolbar\"},{\"attributes\":{\"line_color\":\"#30a2da\",\"line_width\":2,\"x\":{\"field\":\"Unnamed: 0\"},\"y\":{\"field\":\"value\"}},\"id\":\"1077\",\"type\":\"Line\"},{\"attributes\":{\"click_policy\":\"mute\",\"coordinates\":null,\"group\":null,\"items\":[{\"id\":\"1076\"},{\"id\":\"1110\"},{\"id\":\"1146\"}],\"location\":[0,0],\"title\":\"Variable\"},\"id\":\"1075\",\"type\":\"Legend\"},{\"attributes\":{},\"id\":\"1079\",\"type\":\"Selection\"},{\"attributes\":{\"line_color\":\"#fc4f30\",\"line_width\":2,\"x\":{\"field\":\"Unnamed: 0\"},\"y\":{\"field\":\"value\"}},\"id\":\"1081\",\"type\":\"Line\"},{\"attributes\":{\"mantissas\":[1,2,5],\"max_interval\":500.0,\"num_minor_ticks\":0},\"id\":\"1063\",\"type\":\"AdaptiveTicker\"},{\"attributes\":{\"line_alpha\":0.1,\"line_color\":\"#fc4f30\",\"line_width\":2,\"x\":{\"field\":\"Unnamed: 0\"},\"y\":{\"field\":\"value\"}},\"id\":\"1082\",\"type\":\"Line\"},{\"attributes\":{\"base\":60,\"mantissas\":[1,2,5,10,15,20,30],\"max_interval\":1800000.0,\"min_interval\":1000.0,\"num_minor_ticks\":0},\"id\":\"1064\",\"type\":\"AdaptiveTicker\"},{\"attributes\":{\"line_alpha\":0.2,\"line_color\":\"#fc4f30\",\"line_width\":2,\"x\":{\"field\":\"Unnamed: 0\"},\"y\":{\"field\":\"value\"}},\"id\":\"1083\",\"type\":\"Line\"},{\"attributes\":{},\"id\":\"1074\",\"type\":\"YearsTicker\"},{\"attributes\":{\"base\":24,\"mantissas\":[1,2,4,6,8,12],\"max_interval\":43200000.0,\"min_interval\":3600000.0,\"num_minor_ticks\":0},\"id\":\"1065\",\"type\":\"AdaptiveTicker\"},{\"attributes\":{\"label\":{\"value\":\"Education and Health Services (U)\"},\"renderers\":[{\"id\":\"1084\"}]},\"id\":\"1110\",\"type\":\"LegendItem\"},{\"attributes\":{\"months\":[0,1,2,3,4,5,6,7,8,9,10,11]},\"id\":\"1070\",\"type\":\"MonthsTicker\"},{\"attributes\":{\"days\":[1,15]},\"id\":\"1069\",\"type\":\"DaysTicker\"},{\"attributes\":{\"coordinates\":null,\"data_source\":{\"id\":\"1078\"},\"glyph\":{\"id\":\"1081\"},\"group\":null,\"hover_glyph\":null,\"muted_glyph\":{\"id\":\"1083\"},\"nonselection_glyph\":{\"id\":\"1082\"},\"selection_glyph\":{\"id\":\"1111\"},\"view\":{\"id\":\"1085\"}},\"id\":\"1084\",\"type\":\"GlyphRenderer\"},{\"attributes\":{\"days\":[1,2,3,4,5,6,7,8,9,10,11,12,13,14,15,16,17,18,19,20,21,22,23,24,25,26,27,28,29,30,31]},\"id\":\"1066\",\"type\":\"DaysTicker\"},{\"attributes\":{\"source\":{\"id\":\"1078\"}},\"id\":\"1085\",\"type\":\"CDSView\"},{\"attributes\":{\"line_color\":\"#e5ae38\",\"line_width\":2,\"x\":{\"field\":\"Unnamed: 0\"},\"y\":{\"field\":\"value\"}},\"id\":\"1147\",\"type\":\"Line\"},{\"attributes\":{\"callback\":null,\"formatters\":{\"@{Unnamed: 0}\":\"datetime\",\"@{Unnamed_colon_0}\":\"datetime\"},\"renderers\":[{\"id\":\"1051\"},{\"id\":\"1084\"},{\"id\":\"1118\"}],\"tags\":[\"hv_created\"],\"tooltips\":[[\"Variable\",\"@{Variable}\"],[\"Unnamed: 0\",\"@{Unnamed_colon_0}{%F %T}\"],[\"value\",\"@{value}\"]]},\"id\":\"1006\",\"type\":\"HoverTool\"},{\"attributes\":{\"days\":[1,4,7,10,13,16,19,22,25,28]},\"id\":\"1067\",\"type\":\"DaysTicker\"},{\"attributes\":{\"days\":[1,8,15,22]},\"id\":\"1068\",\"type\":\"DaysTicker\"},{\"attributes\":{\"months\":[0,6]},\"id\":\"1073\",\"type\":\"MonthsTicker\"},{\"attributes\":{\"data\":{\"Unnamed: 0\":{\"__ndarray__\":\"AACAbub1dkIAAMDA4P92QgAAgEc2CXdCAADAmTATd0IAAECG2Bx3QgAAgNjSJndCAAAAxXowd0IAAEAXdTp3QgAAgGlvRHdCAAAAVhdOd0IAAECoEVh3QgAAwJS5YXdCAAAA57Nrd0IAAEA5rnV3QgAAQFqxfndCAACArKuId0IAAACZU5J3QgAAQOtNnHdCAADA1/Wld0IAAAAq8K93QgAAQHzquXdCAADAaJLDd0IAAAC7jM13QgAAgKc013dCAADA+S7hd0IAAABMKet3QgAAAG0s9HdCAABAvyb+d0IAAMCrzgd4QgAAAP7IEXhCAACA6nAbeEIAAMA8ayV4QgAAAI9lL3hCAACAew05eEIAAMDNB0N4QgAAQLqvTHhC\",\"dtype\":\"float64\",\"order\":\"little\",\"shape\":[36]},\"Unnamed_colon_0\":{\"__ndarray__\":\"AACAbub1dkIAAMDA4P92QgAAgEc2CXdCAADAmTATd0IAAECG2Bx3QgAAgNjSJndCAAAAxXowd0IAAEAXdTp3QgAAgGlvRHdCAAAAVhdOd0IAAECoEVh3QgAAwJS5YXdCAAAA57Nrd0IAAEA5rnV3QgAAQFqxfndCAACArKuId0IAAACZU5J3QgAAQOtNnHdCAADA1/Wld0IAAAAq8K93QgAAQHzquXdCAADAaJLDd0IAAAC7jM13QgAAgKc013dCAADA+S7hd0IAAABMKet3QgAAAG0s9HdCAABAvyb+d0IAAMCrzgd4QgAAAP7IEXhCAACA6nAbeEIAAMA8ayV4QgAAAI9lL3hCAACAew05eEIAAMDNB0N4QgAAQLqvTHhC\",\"dtype\":\"float64\",\"order\":\"little\",\"shape\":[36]},\"Variable\":[\"Education and Health Services (U)\",\"Education and Health Services (U)\",\"Education and Health Services (U)\",\"Education and Health Services (U)\",\"Education and Health Services (U)\",\"Education and Health Services (U)\",\"Education and Health Services (U)\",\"Education and Health Services (U)\",\"Education and Health Services (U)\",\"Education and Health Services (U)\",\"Education and Health Services (U)\",\"Education and Health Services (U)\",\"Education and Health Services (U)\",\"Education and Health Services (U)\",\"Education and Health Services (U)\",\"Education and Health Services (U)\",\"Education and Health Services (U)\",\"Education and Health Services (U)\",\"Education and Health Services (U)\",\"Education and Health Services (U)\",\"Education and Health Services (U)\",\"Education and Health Services (U)\",\"Education and Health Services (U)\",\"Education and Health Services (U)\",\"Education and Health Services (U)\",\"Education and Health Services (U)\",\"Education and Health Services (U)\",\"Education and Health Services (U)\",\"Education and Health Services (U)\",\"Education and Health Services (U)\",\"Education and Health Services (U)\",\"Education and Health Services (U)\",\"Education and Health Services (U)\",\"Education and Health Services (U)\",\"Education and Health Services (U)\",\"Education and Health Services (U)\"],\"value\":{\"__ndarray__\":\"MzMzMzMzA0AzMzMzMzMDQM3MzMzMzAhAzczMzMzMJUAzMzMzMzMkQDMzMzMzMyFAAAAAAAAAIEAzMzMzMzMZQGZmZmZmZhRAzczMzMzMEECamZmZmZkNQGZmZmZmZhBAMzMzMzMzEUCamZmZmZkNQGZmZmZmZg5AMzMzMzMzC0AzMzMzMzMLQJqZmZmZmRFAmpmZmZmZEUAzMzMzMzMRQGZmZmZmZgpAZmZmZmZmBkBmZmZmZmYCQM3MzMzMzABAMzMzMzMzB0AAAAAAAAAIQAAAAAAAAARAmpmZmZmZAUAAAAAAAAAEQGZmZmZmZgpAmpmZmZmZCUDNzMzMzMwIQM3MzMzMzARAmpmZmZmZBUDNzMzMzMwAQAAAAAAAAABA\",\"dtype\":\"float64\",\"order\":\"little\",\"shape\":[36]}},\"selected\":{\"id\":\"1079\"},\"selection_policy\":{\"id\":\"1095\"}},\"id\":\"1078\",\"type\":\"ColumnDataSource\"},{\"attributes\":{\"months\":[0,2,4,6,8,10]},\"id\":\"1071\",\"type\":\"MonthsTicker\"},{\"attributes\":{\"below\":[{\"id\":\"1018\"}],\"center\":[{\"id\":\"1021\"},{\"id\":\"1025\"}],\"frame_width\":1000,\"height\":300,\"left\":[{\"id\":\"1022\"}],\"margin\":[5,5,5,5],\"min_border_bottom\":10,\"min_border_left\":10,\"min_border_right\":10,\"min_border_top\":10,\"renderers\":[{\"id\":\"1051\"},{\"id\":\"1084\"},{\"id\":\"1118\"}],\"right\":[{\"id\":\"1075\"}],\"sizing_mode\":\"fixed\",\"title\":{\"id\":\"1010\"},\"toolbar\":{\"id\":\"1032\"},\"width\":null,\"x_range\":{\"id\":\"1004\"},\"x_scale\":{\"id\":\"1014\"},\"y_range\":{\"id\":\"1005\"},\"y_scale\":{\"id\":\"1016\"}},\"id\":\"1009\",\"subtype\":\"Figure\",\"type\":\"Plot\"},{\"attributes\":{\"margin\":[5,5,5,5],\"name\":\"HSpacer00990\",\"sizing_mode\":\"stretch_width\"},\"id\":\"1174\",\"type\":\"Spacer\"},{\"attributes\":{},\"id\":\"1095\",\"type\":\"UnionRenderers\"},{\"attributes\":{\"months\":[0,4,8]},\"id\":\"1072\",\"type\":\"MonthsTicker\"},{\"attributes\":{},\"id\":\"1043\",\"type\":\"BasicTickFormatter\"},{\"attributes\":{},\"id\":\"1044\",\"type\":\"AllLabels\"},{\"attributes\":{\"end\":1669852800000.0,\"reset_end\":1669852800000.0,\"reset_start\":1577836800000.0,\"start\":1577836800000.0,\"tags\":[[[\"Unnamed: 0\",\"Unnamed: 0\",null]]]},\"id\":\"1004\",\"type\":\"Range1d\"},{\"attributes\":{\"label\":{\"value\":\"Leisure and Hospitality (U)\"},\"renderers\":[{\"id\":\"1051\"}]},\"id\":\"1076\",\"type\":\"LegendItem\"},{\"attributes\":{},\"id\":\"1014\",\"type\":\"LinearScale\"},{\"attributes\":{\"data\":{\"Unnamed: 0\":{\"__ndarray__\":\"AACAbub1dkIAAMDA4P92QgAAgEc2CXdCAADAmTATd0IAAECG2Bx3QgAAgNjSJndCAAAAxXowd0IAAEAXdTp3QgAAgGlvRHdCAAAAVhdOd0IAAECoEVh3QgAAwJS5YXdCAAAA57Nrd0IAAEA5rnV3QgAAQFqxfndCAACArKuId0IAAACZU5J3QgAAQOtNnHdCAADA1/Wld0IAAAAq8K93QgAAQHzquXdCAADAaJLDd0IAAAC7jM13QgAAgKc013dCAADA+S7hd0IAAABMKet3QgAAAG0s9HdCAABAvyb+d0IAAMCrzgd4QgAAAP7IEXhCAACA6nAbeEIAAMA8ayV4QgAAAI9lL3hCAACAew05eEIAAMDNB0N4QgAAQLqvTHhC\",\"dtype\":\"float64\",\"order\":\"little\",\"shape\":[36]},\"Unnamed_colon_0\":{\"__ndarray__\":\"AACAbub1dkIAAMDA4P92QgAAgEc2CXdCAADAmTATd0IAAECG2Bx3QgAAgNjSJndCAAAAxXowd0IAAEAXdTp3QgAAgGlvRHdCAAAAVhdOd0IAAECoEVh3QgAAwJS5YXdCAAAA57Nrd0IAAEA5rnV3QgAAQFqxfndCAACArKuId0IAAACZU5J3QgAAQOtNnHdCAADA1/Wld0IAAAAq8K93QgAAQHzquXdCAADAaJLDd0IAAAC7jM13QgAAgKc013dCAADA+S7hd0IAAABMKet3QgAAAG0s9HdCAABAvyb+d0IAAMCrzgd4QgAAAP7IEXhCAACA6nAbeEIAAMA8ayV4QgAAAI9lL3hCAACAew05eEIAAMDNB0N4QgAAQLqvTHhC\",\"dtype\":\"float64\",\"order\":\"little\",\"shape\":[36]},\"Variable\":[\"Leisure and Hospitality (U)\",\"Leisure and Hospitality (U)\",\"Leisure and Hospitality (U)\",\"Leisure and Hospitality (U)\",\"Leisure and Hospitality (U)\",\"Leisure and Hospitality (U)\",\"Leisure and Hospitality (U)\",\"Leisure and Hospitality (U)\",\"Leisure and Hospitality (U)\",\"Leisure and Hospitality (U)\",\"Leisure and Hospitality (U)\",\"Leisure and Hospitality (U)\",\"Leisure and Hospitality (U)\",\"Leisure and Hospitality (U)\",\"Leisure and Hospitality (U)\",\"Leisure and Hospitality (U)\",\"Leisure and Hospitality (U)\",\"Leisure and Hospitality (U)\",\"Leisure and Hospitality (U)\",\"Leisure and Hospitality (U)\",\"Leisure and Hospitality (U)\",\"Leisure and Hospitality (U)\",\"Leisure and Hospitality (U)\",\"Leisure and Hospitality (U)\",\"Leisure and Hospitality (U)\",\"Leisure and Hospitality (U)\",\"Leisure and Hospitality (U)\",\"Leisure and Hospitality (U)\",\"Leisure and Hospitality (U)\",\"Leisure and Hospitality (U)\",\"Leisure and Hospitality (U)\",\"Leisure and Hospitality (U)\",\"Leisure and Hospitality (U)\",\"Leisure and Hospitality (U)\",\"Leisure and Hospitality (U)\",\"Leisure and Hospitality (U)\"],\"value\":{\"__ndarray__\":\"mpmZmZmZF0DNzMzMzMwWQDMzMzMzMyBAZmZmZmamQ0AzMzMzM/NBQGZmZmZm5jxAAAAAAAAAOUDNzMzMzEw1QAAAAAAAADNAzczMzMxMMEAAAAAAAAAuQDMzMzMzszBAzczMzMzML0AAAAAAAAArQAAAAAAAACpAmpmZmZmZJUAzMzMzMzMkQM3MzMzMzCVAAAAAAAAAIkAzMzMzMzMiQM3MzMzMzB5AAAAAAAAAHkAAAAAAAAAeQM3MzMzMzBpAZmZmZmZmIEBmZmZmZmYaQJqZmZmZmRdAMzMzMzMzE0BmZmZmZmYUQM3MzMzMzBRAMzMzMzMzE0BmZmZmZmYYQJqZmZmZmRdAAAAAAAAAFkAzMzMzMzMXQJqZmZmZmRVA\",\"dtype\":\"float64\",\"order\":\"little\",\"shape\":[36]}},\"selected\":{\"id\":\"1046\"},\"selection_policy\":{\"id\":\"1060\"}},\"id\":\"1045\",\"type\":\"ColumnDataSource\"},{\"attributes\":{\"source\":{\"id\":\"1045\"}},\"id\":\"1052\",\"type\":\"CDSView\"},{\"attributes\":{\"end\":43.099999999999994,\"reset_end\":43.099999999999994,\"reset_start\":-2.5,\"start\":-2.5,\"tags\":[[[\"value\",\"value\",null]]]},\"id\":\"1005\",\"type\":\"Range1d\"},{\"attributes\":{\"coordinates\":null,\"data_source\":{\"id\":\"1045\"},\"glyph\":{\"id\":\"1048\"},\"group\":null,\"hover_glyph\":null,\"muted_glyph\":{\"id\":\"1050\"},\"nonselection_glyph\":{\"id\":\"1049\"},\"selection_glyph\":{\"id\":\"1077\"},\"view\":{\"id\":\"1052\"}},\"id\":\"1051\",\"type\":\"GlyphRenderer\"},{\"attributes\":{\"axis\":{\"id\":\"1018\"},\"coordinates\":null,\"grid_line_color\":null,\"group\":null,\"ticker\":null},\"id\":\"1021\",\"type\":\"Grid\"},{\"attributes\":{\"line_color\":\"#30a2da\",\"line_width\":2,\"x\":{\"field\":\"Unnamed: 0\"},\"y\":{\"field\":\"value\"}},\"id\":\"1048\",\"type\":\"Line\"},{\"attributes\":{},\"id\":\"1016\",\"type\":\"LinearScale\"},{\"attributes\":{\"data\":{\"Unnamed: 0\":{\"__ndarray__\":\"AACAbub1dkIAAMDA4P92QgAAgEc2CXdCAADAmTATd0IAAECG2Bx3QgAAgNjSJndCAAAAxXowd0IAAEAXdTp3QgAAgGlvRHdCAAAAVhdOd0IAAECoEVh3QgAAwJS5YXdCAAAA57Nrd0IAAEA5rnV3QgAAQFqxfndCAACArKuId0IAAACZU5J3QgAAQOtNnHdCAADA1/Wld0IAAAAq8K93QgAAQHzquXdCAADAaJLDd0IAAAC7jM13QgAAgKc013dCAADA+S7hd0IAAABMKet3QgAAAG0s9HdCAABAvyb+d0IAAMCrzgd4QgAAAP7IEXhCAACA6nAbeEIAAMA8ayV4QgAAAI9lL3hCAACAew05eEIAAMDNB0N4QgAAQLqvTHhC\",\"dtype\":\"float64\",\"order\":\"little\",\"shape\":[36]},\"Unnamed_colon_0\":{\"__ndarray__\":\"AACAbub1dkIAAMDA4P92QgAAgEc2CXdCAADAmTATd0IAAECG2Bx3QgAAgNjSJndCAAAAxXowd0IAAEAXdTp3QgAAgGlvRHdCAAAAVhdOd0IAAECoEVh3QgAAwJS5YXdCAAAA57Nrd0IAAEA5rnV3QgAAQFqxfndCAACArKuId0IAAACZU5J3QgAAQOtNnHdCAADA1/Wld0IAAAAq8K93QgAAQHzquXdCAADAaJLDd0IAAAC7jM13QgAAgKc013dCAADA+S7hd0IAAABMKet3QgAAAG0s9HdCAABAvyb+d0IAAMCrzgd4QgAAAP7IEXhCAACA6nAbeEIAAMA8ayV4QgAAAI9lL3hCAACAew05eEIAAMDNB0N4QgAAQLqvTHhC\",\"dtype\":\"float64\",\"order\":\"little\",\"shape\":[36]},\"Variable\":[\"Financial Activities Industry (U)\",\"Financial Activities Industry (U)\",\"Financial Activities Industry (U)\",\"Financial Activities Industry (U)\",\"Financial Activities Industry (U)\",\"Financial Activities Industry (U)\",\"Financial Activities Industry (U)\",\"Financial Activities Industry (U)\",\"Financial Activities Industry (U)\",\"Financial Activities Industry (U)\",\"Financial Activities Industry (U)\",\"Financial Activities Industry (U)\",\"Financial Activities Industry (U)\",\"Financial Activities Industry (U)\",\"Financial Activities Industry (U)\",\"Financial Activities Industry (U)\",\"Financial Activities Industry (U)\",\"Financial Activities Industry (U)\",\"Financial Activities Industry (U)\",\"Financial Activities Industry (U)\",\"Financial Activities Industry (U)\",\"Financial Activities Industry (U)\",\"Financial Activities Industry (U)\",\"Financial Activities Industry (U)\",\"Financial Activities Industry (U)\",\"Financial Activities Industry (U)\",\"Financial Activities Industry (U)\",\"Financial Activities Industry (U)\",\"Financial Activities Industry (U)\",\"Financial Activities Industry (U)\",\"Financial Activities Industry (U)\",\"Financial Activities Industry (U)\",\"Financial Activities Industry (U)\",\"Financial Activities Industry (U)\",\"Financial Activities Industry (U)\",\"Financial Activities Industry (U)\"],\"value\":{\"__ndarray__\":\"AAAAAAAABEAzMzMzMzP7P5qZmZmZmQFAmpmZmZmZFUDNzMzMzMwWQGZmZmZmZhRAzczMzMzMEkDNzMzMzMwQQJqZmZmZmRFAZmZmZmZmDkAAAAAAAAAMQM3MzMzMzAhAMzMzMzMzC0CamZmZmZkNQDMzMzMzMwtAmpmZmZmZBUAAAAAAAAAIQDMzMzMzMwtAAAAAAAAACECamZmZmZkJQAAAAAAAAARAZmZmZmZm/j8AAAAAAAAAQDMzMzMzMwNAZmZmZmZm/j8zMzMzMzMDQAAAAAAAAABAZmZmZmZm/j9mZmZmZmb+P83MzMzMzABAmpmZmZmZ+T/NzMzMzMz8P83MzMzMzPQ/ZmZmZmZm/j9mZmZmZmb+P83MzMzMzARA\",\"dtype\":\"float64\",\"order\":\"little\",\"shape\":[36]}},\"selected\":{\"id\":\"1113\"},\"selection_policy\":{\"id\":\"1131\"}},\"id\":\"1112\",\"type\":\"ColumnDataSource\"},{\"attributes\":{\"line_alpha\":0.2,\"line_color\":\"#30a2da\",\"line_width\":2,\"x\":{\"field\":\"Unnamed: 0\"},\"y\":{\"field\":\"value\"}},\"id\":\"1050\",\"type\":\"Line\"},{\"attributes\":{\"num_minor_ticks\":5,\"tickers\":[{\"id\":\"1063\"},{\"id\":\"1064\"},{\"id\":\"1065\"},{\"id\":\"1066\"},{\"id\":\"1067\"},{\"id\":\"1068\"},{\"id\":\"1069\"},{\"id\":\"1070\"},{\"id\":\"1071\"},{\"id\":\"1072\"},{\"id\":\"1073\"},{\"id\":\"1074\"}]},\"id\":\"1019\",\"type\":\"DatetimeTicker\"},{\"attributes\":{},\"id\":\"1040\",\"type\":\"DatetimeTickFormatter\"},{\"attributes\":{\"axis_label\":\"Unnamed: 0\",\"coordinates\":null,\"formatter\":{\"id\":\"1040\"},\"group\":null,\"major_label_policy\":{\"id\":\"1041\"},\"ticker\":{\"id\":\"1019\"}},\"id\":\"1018\",\"type\":\"DatetimeAxis\"},{\"attributes\":{\"coordinates\":null,\"group\":null,\"text_color\":\"black\",\"text_font_size\":\"12pt\"},\"id\":\"1010\",\"type\":\"Title\"}],\"root_ids\":[\"1002\"]},\"title\":\"Bokeh Application\",\"version\":\"2.4.3\"}};\n",
       "    var render_items = [{\"docid\":\"0d64b7d2-b50c-4633-9fd1-c287d700fdb2\",\"root_ids\":[\"1002\"],\"roots\":{\"1002\":\"ce287130-6558-4020-8485-d4286dd6a6b3\"}}];\n",
       "    root.Bokeh.embed.embed_items_notebook(docs_json, render_items);\n",
       "    for (const render_item of render_items) {\n",
       "      for (const root_id of render_item.root_ids) {\n",
       "\tconst id_el = document.getElementById(root_id)\n",
       "\tif (id_el.children.length && (id_el.children[0].className === 'bk-root')) {\n",
       "\t  const root_el = id_el.children[0]\n",
       "\t  root_el.id = root_el.id + '-rendered'\n",
       "\t}\n",
       "      }\n",
       "    }\n",
       "  }\n",
       "  if (root.Bokeh !== undefined && root.Bokeh.Panel !== undefined) {\n",
       "    embed_document(root);\n",
       "  } else {\n",
       "    var attempts = 0;\n",
       "    var timer = setInterval(function(root) {\n",
       "      if (root.Bokeh !== undefined && root.Bokeh.Panel !== undefined) {\n",
       "        clearInterval(timer);\n",
       "        embed_document(root);\n",
       "      } else if (document.readyState == \"complete\") {\n",
       "        attempts++;\n",
       "        if (attempts > 200) {\n",
       "          clearInterval(timer);\n",
       "          console.log(\"Bokeh: ERROR: Unable to run BokehJS code because BokehJS library is missing\");\n",
       "        }\n",
       "      }\n",
       "    }, 25, root)\n",
       "  }\n",
       "})(window);</script>"
      ],
      "text/plain": [
       ":NdOverlay   [Variable]\n",
       "   :Curve   [Unnamed: 0]   (value)"
      ]
     },
     "execution_count": 5,
     "metadata": {
      "application/vnd.holoviews_exec.v0+json": {
       "id": "1002"
      }
     },
     "output_type": "execute_result"
    }
   ],
   "source": [
    "#Making sure the format of the date column is correct \n",
    "indus_unmp['Unnamed: 0']=pd.to_datetime(indus_unmp['Unnamed: 0'])\n",
    "#Filtering the dat to start in 2020\n",
    "indus_unmp2=indus_unmp.loc[indus_unmp['Unnamed: 0']>='1/1/2020']\n",
    "#plotting\n",
    "indus_unmp2.hvplot.line(x='Unnamed: 0', y=['Leisure and Hospitality (U)','Education and Health Services (U)','Financial Activities Industry (U)'],by='industry',frame_width = 1000)"
   ]
  },
  {
   "attachments": {},
   "cell_type": "markdown",
   "metadata": {},
   "source": [
    "**Importing data for Lay-off numbers, Source is Keagle site,  format csv**"
   ]
  },
  {
   "cell_type": "code",
   "execution_count": 6,
   "metadata": {},
   "outputs": [
    {
     "data": {
      "text/html": [
       "<div>\n",
       "<style scoped>\n",
       "    .dataframe tbody tr th:only-of-type {\n",
       "        vertical-align: middle;\n",
       "    }\n",
       "\n",
       "    .dataframe tbody tr th {\n",
       "        vertical-align: top;\n",
       "    }\n",
       "\n",
       "    .dataframe thead th {\n",
       "        text-align: right;\n",
       "    }\n",
       "</style>\n",
       "<table border=\"1\" class=\"dataframe\">\n",
       "  <thead>\n",
       "    <tr style=\"text-align: right;\">\n",
       "      <th></th>\n",
       "      <th>company</th>\n",
       "      <th>location</th>\n",
       "      <th>industry</th>\n",
       "      <th>total_laid_off</th>\n",
       "      <th>percentage_laid_off</th>\n",
       "      <th>date</th>\n",
       "      <th>stage</th>\n",
       "      <th>country</th>\n",
       "      <th>funds_raised</th>\n",
       "    </tr>\n",
       "  </thead>\n",
       "  <tbody>\n",
       "    <tr>\n",
       "      <th>0</th>\n",
       "      <td>Gusto</td>\n",
       "      <td>SF Bay Area</td>\n",
       "      <td>HR</td>\n",
       "      <td>126.0</td>\n",
       "      <td>0.05</td>\n",
       "      <td>2023-02-08</td>\n",
       "      <td>Series E</td>\n",
       "      <td>United States</td>\n",
       "      <td>746.0</td>\n",
       "    </tr>\n",
       "    <tr>\n",
       "      <th>1</th>\n",
       "      <td>Gong</td>\n",
       "      <td>SF Bay Area</td>\n",
       "      <td>Sales</td>\n",
       "      <td>80.0</td>\n",
       "      <td>0.07</td>\n",
       "      <td>2023-02-08</td>\n",
       "      <td>Series E</td>\n",
       "      <td>United States</td>\n",
       "      <td>583.0</td>\n",
       "    </tr>\n",
       "    <tr>\n",
       "      <th>2</th>\n",
       "      <td>Equitybee</td>\n",
       "      <td>SF Bay Area</td>\n",
       "      <td>Finance</td>\n",
       "      <td>24.0</td>\n",
       "      <td>0.25</td>\n",
       "      <td>2023-02-08</td>\n",
       "      <td>Series B</td>\n",
       "      <td>United States</td>\n",
       "      <td>85.0</td>\n",
       "    </tr>\n",
       "    <tr>\n",
       "      <th>3</th>\n",
       "      <td>Affirm</td>\n",
       "      <td>SF Bay Area</td>\n",
       "      <td>Finance</td>\n",
       "      <td>NaN</td>\n",
       "      <td>0.19</td>\n",
       "      <td>2023-02-08</td>\n",
       "      <td>Post-IPO</td>\n",
       "      <td>United States</td>\n",
       "      <td>1500.0</td>\n",
       "    </tr>\n",
       "    <tr>\n",
       "      <th>4</th>\n",
       "      <td>Baraja</td>\n",
       "      <td>Sydney</td>\n",
       "      <td>Transportation</td>\n",
       "      <td>NaN</td>\n",
       "      <td>0.75</td>\n",
       "      <td>2023-02-08</td>\n",
       "      <td>Unknown</td>\n",
       "      <td>Australia</td>\n",
       "      <td>63.0</td>\n",
       "    </tr>\n",
       "  </tbody>\n",
       "</table>\n",
       "</div>"
      ],
      "text/plain": [
       "     company     location        industry  total_laid_off  \\\n",
       "0      Gusto  SF Bay Area              HR           126.0   \n",
       "1       Gong  SF Bay Area           Sales            80.0   \n",
       "2  Equitybee  SF Bay Area         Finance            24.0   \n",
       "3     Affirm  SF Bay Area         Finance             NaN   \n",
       "4     Baraja       Sydney  Transportation             NaN   \n",
       "\n",
       "   percentage_laid_off        date     stage        country  funds_raised  \n",
       "0                 0.05  2023-02-08  Series E  United States         746.0  \n",
       "1                 0.07  2023-02-08  Series E  United States         583.0  \n",
       "2                 0.25  2023-02-08  Series B  United States          85.0  \n",
       "3                 0.19  2023-02-08  Post-IPO  United States        1500.0  \n",
       "4                 0.75  2023-02-08   Unknown      Australia          63.0  "
      ]
     },
     "execution_count": 6,
     "metadata": {},
     "output_type": "execute_result"
    }
   ],
   "source": [
    "# read the layoff data from csv\n",
    "csv_path = \"../resource/layoffs.csv\"\n",
    "\n",
    "# Import the the data as a df\n",
    "original_industry_lay_df = pd.read_csv(csv_path)\n",
    "\n",
    "original_industry_lay_df.head()"
   ]
  },
  {
   "cell_type": "code",
   "execution_count": 7,
   "metadata": {},
   "outputs": [
    {
     "name": "stdout",
     "output_type": "stream",
     "text": [
      "Unique values for: location 182 industry 30 country 57\n"
     ]
    }
   ],
   "source": [
    "# create a copy of df\n",
    "industry_lay_df1 = original_industry_lay_df.copy()\n",
    "# notice that I had NaN values and replace with 0\n",
    "industry_lay_df=industry_lay_df1.fillna(0) \n",
    "#count unique elements\n",
    "count_location= industry_lay_df.location.nunique() \n",
    "count_industry= industry_lay_df.industry.nunique()\n",
    "count_country= industry_lay_df.country.nunique()\n",
    "\n",
    "print(f'Unique values for: location {count_location} industry {count_industry} country {count_country}')\n",
    "\n",
    "#industry_lay_df\n"
   ]
  },
  {
   "attachments": {},
   "cell_type": "markdown",
   "metadata": {},
   "source": [
    "**In a new column labeling the data as (US) and (The rest of the world) Then grouping it for grapth**"
   ]
  },
  {
   "cell_type": "code",
   "execution_count": 8,
   "metadata": {},
   "outputs": [],
   "source": [
    "#filtering and adding label\n",
    "industry_lay_df.loc[industry_lay_df['country']==\"United States\",\"World\"]=\"US\"\n",
    "industry_lay_df.loc[industry_lay_df['country']!=\"United States\",\"World\"]=\"Rest of the world\"\n",
    "industry_Group=industry_lay_df\n",
    "#Making sure the data is significat for the measure selected\n",
    "industry_Group=industry_lay_df.loc[industry_lay_df['total_laid_off']>0,:]\n",
    "#Grouping data and sorting\n",
    "industry_Group_clean=industry_Group.groupby(['World','industry']).sum().sort_values(by = ['total_laid_off'], ascending = False)\n",
    "df=industry_Group_clean.drop(['percentage_laid_off','funds_raised'],axis=1)\n",
    "#getting dataframe ready for the graph\n",
    "df4=df.reset_index()\n",
    "#print(df4)\n",
    "#industry_lay_df"
   ]
  },
  {
   "cell_type": "code",
   "execution_count": 9,
   "metadata": {},
   "outputs": [
    {
     "data": {
      "application/vnd.plotly.v1+json": {
       "config": {
        "plotlyServerURL": "https://plot.ly"
       },
       "data": [
        {
         "alignmentgroup": "True",
         "customdata": [
          [
           "US"
          ],
          [
           "Rest of the world"
          ]
         ],
         "hovertemplate": "US (Bottom) vs World (Top)=%{x}<br>Employees lay-off x 1000=%{y}<br>World=%{customdata[0]}<extra></extra>",
         "legendgroup": "Consumer",
         "marker": {
          "color": "#636efa",
          "pattern": {
           "shape": ""
          }
         },
         "name": "Consumer",
         "offsetgroup": "Consumer",
         "orientation": "v",
         "showlegend": true,
         "textposition": "auto",
         "texttemplate": "%{y:.1s}",
         "type": "bar",
         "x": [
          "Consumer",
          "Consumer"
         ],
         "xaxis": "x",
         "y": [
          35786,
          6762
         ],
         "yaxis": "y"
        },
        {
         "alignmentgroup": "True",
         "customdata": [
          [
           "US"
          ],
          [
           "Rest of the world"
          ]
         ],
         "hovertemplate": "US (Bottom) vs World (Top)=%{x}<br>Employees lay-off x 1000=%{y}<br>World=%{customdata[0]}<extra></extra>",
         "legendgroup": "Retail",
         "marker": {
          "color": "#EF553B",
          "pattern": {
           "shape": ""
          }
         },
         "name": "Retail",
         "offsetgroup": "Retail",
         "orientation": "v",
         "showlegend": true,
         "textposition": "auto",
         "texttemplate": "%{y:.1s}",
         "type": "bar",
         "x": [
          "Retail",
          "Retail"
         ],
         "xaxis": "x",
         "y": [
          32863,
          8460
         ],
         "yaxis": "y"
        },
        {
         "alignmentgroup": "True",
         "customdata": [
          [
           "US"
          ],
          [
           "Rest of the world"
          ]
         ],
         "hovertemplate": "US (Bottom) vs World (Top)=%{x}<br>Employees lay-off x 1000=%{y}<br>World=%{customdata[0]}<extra></extra>",
         "legendgroup": "Transportation",
         "marker": {
          "color": "#00cc96",
          "pattern": {
           "shape": ""
          }
         },
         "name": "Transportation",
         "offsetgroup": "Transportation",
         "orientation": "v",
         "showlegend": true,
         "textposition": "auto",
         "texttemplate": "%{y:.1s}",
         "type": "bar",
         "x": [
          "Transportation",
          "Transportation"
         ],
         "xaxis": "x",
         "y": [
          19886,
          12905
         ],
         "yaxis": "y"
        },
        {
         "alignmentgroup": "True",
         "customdata": [
          [
           "US"
          ],
          [
           "Rest of the world"
          ]
         ],
         "hovertemplate": "US (Bottom) vs World (Top)=%{x}<br>Employees lay-off x 1000=%{y}<br>World=%{customdata[0]}<extra></extra>",
         "legendgroup": "Other",
         "marker": {
          "color": "#ab63fa",
          "pattern": {
           "shape": ""
          }
         },
         "name": "Other",
         "offsetgroup": "Other",
         "orientation": "v",
         "showlegend": true,
         "textposition": "auto",
         "texttemplate": "%{y:.1s}",
         "type": "bar",
         "x": [
          "Other",
          "Other"
         ],
         "xaxis": "x",
         "y": [
          16731,
          6510
         ],
         "yaxis": "y"
        },
        {
         "alignmentgroup": "True",
         "customdata": [
          [
           "US"
          ],
          [
           "Rest of the world"
          ]
         ],
         "hovertemplate": "US (Bottom) vs World (Top)=%{x}<br>Employees lay-off x 1000=%{y}<br>World=%{customdata[0]}<extra></extra>",
         "legendgroup": "Finance",
         "marker": {
          "color": "#FFA15A",
          "pattern": {
           "shape": ""
          }
         },
         "name": "Finance",
         "offsetgroup": "Finance",
         "orientation": "v",
         "showlegend": true,
         "textposition": "auto",
         "texttemplate": "%{y:.1s}",
         "type": "bar",
         "x": [
          "Finance",
          "Finance"
         ],
         "xaxis": "x",
         "y": [
          15777,
          11585
         ],
         "yaxis": "y"
        },
        {
         "alignmentgroup": "True",
         "customdata": [
          [
           "US"
          ],
          [
           "Rest of the world"
          ]
         ],
         "hovertemplate": "US (Bottom) vs World (Top)=%{x}<br>Employees lay-off x 1000=%{y}<br>World=%{customdata[0]}<extra></extra>",
         "legendgroup": "Real Estate",
         "marker": {
          "color": "#19d3f3",
          "pattern": {
           "shape": ""
          }
         },
         "name": "Real Estate",
         "offsetgroup": "Real Estate",
         "orientation": "v",
         "showlegend": true,
         "textposition": "auto",
         "texttemplate": "%{y:.1s}",
         "type": "bar",
         "x": [
          "Real Estate",
          "Real Estate"
         ],
         "xaxis": "x",
         "y": [
          14837,
          2288
         ],
         "yaxis": "y"
        },
        {
         "alignmentgroup": "True",
         "customdata": [
          [
           "Rest of the world"
          ],
          [
           "US"
          ]
         ],
         "hovertemplate": "US (Bottom) vs World (Top)=%{x}<br>Employees lay-off x 1000=%{y}<br>World=%{customdata[0]}<extra></extra>",
         "legendgroup": "Healthcare",
         "marker": {
          "color": "#FF6692",
          "pattern": {
           "shape": ""
          }
         },
         "name": "Healthcare",
         "offsetgroup": "Healthcare",
         "orientation": "v",
         "showlegend": true,
         "textposition": "auto",
         "texttemplate": "%{y:.1s}",
         "type": "bar",
         "x": [
          "Healthcare",
          "Healthcare"
         ],
         "xaxis": "x",
         "y": [
          12637,
          12086
         ],
         "yaxis": "y"
        },
        {
         "alignmentgroup": "True",
         "customdata": [
          [
           "US"
          ],
          [
           "Rest of the world"
          ]
         ],
         "hovertemplate": "US (Bottom) vs World (Top)=%{x}<br>Employees lay-off x 1000=%{y}<br>World=%{customdata[0]}<extra></extra>",
         "legendgroup": "Hardware",
         "marker": {
          "color": "#B6E880",
          "pattern": {
           "shape": ""
          }
         },
         "name": "Hardware",
         "offsetgroup": "Hardware",
         "orientation": "v",
         "showlegend": true,
         "textposition": "auto",
         "texttemplate": "%{y:.1s}",
         "type": "bar",
         "x": [
          "Hardware",
          "Hardware"
         ],
         "xaxis": "x",
         "y": [
          12547,
          930
         ],
         "yaxis": "y"
        },
        {
         "alignmentgroup": "True",
         "customdata": [
          [
           "US"
          ],
          [
           "Rest of the world"
          ]
         ],
         "hovertemplate": "US (Bottom) vs World (Top)=%{x}<br>Employees lay-off x 1000=%{y}<br>World=%{customdata[0]}<extra></extra>",
         "legendgroup": "Sales",
         "marker": {
          "color": "#FF97FF",
          "pattern": {
           "shape": ""
          }
         },
         "name": "Sales",
         "offsetgroup": "Sales",
         "orientation": "v",
         "showlegend": true,
         "textposition": "auto",
         "texttemplate": "%{y:.1s}",
         "type": "bar",
         "x": [
          "Sales",
          "Sales"
         ],
         "xaxis": "x",
         "y": [
          11885,
          360
         ],
         "yaxis": "y"
        },
        {
         "alignmentgroup": "True",
         "customdata": [
          [
           "US"
          ],
          [
           "Rest of the world"
          ]
         ],
         "hovertemplate": "US (Bottom) vs World (Top)=%{x}<br>Employees lay-off x 1000=%{y}<br>World=%{customdata[0]}<extra></extra>",
         "legendgroup": "Food",
         "marker": {
          "color": "#FECB52",
          "pattern": {
           "shape": ""
          }
         },
         "name": "Food",
         "offsetgroup": "Food",
         "orientation": "v",
         "showlegend": true,
         "textposition": "auto",
         "texttemplate": "%{y:.1s}",
         "type": "bar",
         "x": [
          "Food",
          "Food"
         ],
         "xaxis": "x",
         "y": [
          11588,
          9763
         ],
         "yaxis": "y"
        },
        {
         "alignmentgroup": "True",
         "customdata": [
          [
           "Rest of the world"
          ],
          [
           "US"
          ]
         ],
         "hovertemplate": "US (Bottom) vs World (Top)=%{x}<br>Employees lay-off x 1000=%{y}<br>World=%{customdata[0]}<extra></extra>",
         "legendgroup": "Education",
         "marker": {
          "color": "#636efa",
          "pattern": {
           "shape": ""
          }
         },
         "name": "Education",
         "offsetgroup": "Education",
         "orientation": "v",
         "showlegend": true,
         "textposition": "auto",
         "texttemplate": "%{y:.1s}",
         "type": "bar",
         "x": [
          "Education",
          "Education"
         ],
         "xaxis": "x",
         "y": [
          11188,
          1951
         ],
         "yaxis": "y"
        },
        {
         "alignmentgroup": "True",
         "customdata": [
          [
           "Rest of the world"
          ],
          [
           "US"
          ]
         ],
         "hovertemplate": "US (Bottom) vs World (Top)=%{x}<br>Employees lay-off x 1000=%{y}<br>World=%{customdata[0]}<extra></extra>",
         "legendgroup": "Travel",
         "marker": {
          "color": "#EF553B",
          "pattern": {
           "shape": ""
          }
         },
         "name": "Travel",
         "offsetgroup": "Travel",
         "orientation": "v",
         "showlegend": true,
         "textposition": "auto",
         "texttemplate": "%{y:.1s}",
         "type": "bar",
         "x": [
          "Travel",
          "Travel"
         ],
         "xaxis": "x",
         "y": [
          10518,
          6511
         ],
         "yaxis": "y"
        },
        {
         "alignmentgroup": "True",
         "customdata": [
          [
           "US"
          ],
          [
           "Rest of the world"
          ]
         ],
         "hovertemplate": "US (Bottom) vs World (Top)=%{x}<br>Employees lay-off x 1000=%{y}<br>World=%{customdata[0]}<extra></extra>",
         "legendgroup": "Fitness",
         "marker": {
          "color": "#00cc96",
          "pattern": {
           "shape": ""
          }
         },
         "name": "Fitness",
         "offsetgroup": "Fitness",
         "orientation": "v",
         "showlegend": true,
         "textposition": "auto",
         "texttemplate": "%{y:.1s}",
         "type": "bar",
         "x": [
          "Fitness",
          "Fitness"
         ],
         "xaxis": "x",
         "y": [
          7026,
          1692
         ],
         "yaxis": "y"
        },
        {
         "alignmentgroup": "True",
         "customdata": [
          [
           "Rest of the world"
          ],
          [
           "US"
          ]
         ],
         "hovertemplate": "US (Bottom) vs World (Top)=%{x}<br>Employees lay-off x 1000=%{y}<br>World=%{customdata[0]}<extra></extra>",
         "legendgroup": "Crypto",
         "marker": {
          "color": "#ab63fa",
          "pattern": {
           "shape": ""
          }
         },
         "name": "Crypto",
         "offsetgroup": "Crypto",
         "orientation": "v",
         "showlegend": true,
         "textposition": "auto",
         "texttemplate": "%{y:.1s}",
         "type": "bar",
         "x": [
          "Crypto",
          "Crypto"
         ],
         "xaxis": "x",
         "y": [
          5549,
          4992
         ],
         "yaxis": "y"
        },
        {
         "alignmentgroup": "True",
         "customdata": [
          [
           "US"
          ],
          [
           "Rest of the world"
          ]
         ],
         "hovertemplate": "US (Bottom) vs World (Top)=%{x}<br>Employees lay-off x 1000=%{y}<br>World=%{customdata[0]}<extra></extra>",
         "legendgroup": "Infrastructure",
         "marker": {
          "color": "#FFA15A",
          "pattern": {
           "shape": ""
          }
         },
         "name": "Infrastructure",
         "offsetgroup": "Infrastructure",
         "orientation": "v",
         "showlegend": true,
         "textposition": "auto",
         "texttemplate": "%{y:.1s}",
         "type": "bar",
         "x": [
          "Infrastructure",
          "Infrastructure"
         ],
         "xaxis": "x",
         "y": [
          5365,
          180
         ],
         "yaxis": "y"
        },
        {
         "alignmentgroup": "True",
         "customdata": [
          [
           "US"
          ],
          [
           "Rest of the world"
          ]
         ],
         "hovertemplate": "US (Bottom) vs World (Top)=%{x}<br>Employees lay-off x 1000=%{y}<br>World=%{customdata[0]}<extra></extra>",
         "legendgroup": "Marketing",
         "marker": {
          "color": "#19d3f3",
          "pattern": {
           "shape": ""
          }
         },
         "name": "Marketing",
         "offsetgroup": "Marketing",
         "orientation": "v",
         "showlegend": true,
         "textposition": "auto",
         "texttemplate": "%{y:.1s}",
         "type": "bar",
         "x": [
          "Marketing",
          "Marketing"
         ],
         "xaxis": "x",
         "y": [
          5056,
          3889
         ],
         "yaxis": "y"
        },
        {
         "alignmentgroup": "True",
         "customdata": [
          [
           "US"
          ],
          [
           "Rest of the world"
          ]
         ],
         "hovertemplate": "US (Bottom) vs World (Top)=%{x}<br>Employees lay-off x 1000=%{y}<br>World=%{customdata[0]}<extra></extra>",
         "legendgroup": "Security",
         "marker": {
          "color": "#FF6692",
          "pattern": {
           "shape": ""
          }
         },
         "name": "Security",
         "offsetgroup": "Security",
         "orientation": "v",
         "showlegend": true,
         "textposition": "auto",
         "texttemplate": "%{y:.1s}",
         "type": "bar",
         "x": [
          "Security",
          "Security"
         ],
         "xaxis": "x",
         "y": [
          5010,
          633
         ],
         "yaxis": "y"
        },
        {
         "alignmentgroup": "True",
         "customdata": [
          [
           "US"
          ],
          [
           "Rest of the world"
          ]
         ],
         "hovertemplate": "US (Bottom) vs World (Top)=%{x}<br>Employees lay-off x 1000=%{y}<br>World=%{customdata[0]}<extra></extra>",
         "legendgroup": "Data",
         "marker": {
          "color": "#B6E880",
          "pattern": {
           "shape": ""
          }
         },
         "name": "Data",
         "offsetgroup": "Data",
         "orientation": "v",
         "showlegend": true,
         "textposition": "auto",
         "texttemplate": "%{y:.1s}",
         "type": "bar",
         "x": [
          "Data",
          "Data"
         ],
         "xaxis": "x",
         "y": [
          4580,
          480
         ],
         "yaxis": "y"
        },
        {
         "alignmentgroup": "True",
         "customdata": [
          [
           "US"
          ],
          [
           "Rest of the world"
          ]
         ],
         "hovertemplate": "US (Bottom) vs World (Top)=%{x}<br>Employees lay-off x 1000=%{y}<br>World=%{customdata[0]}<extra></extra>",
         "legendgroup": "Construction",
         "marker": {
          "color": "#FF97FF",
          "pattern": {
           "shape": ""
          }
         },
         "name": "Construction",
         "offsetgroup": "Construction",
         "orientation": "v",
         "showlegend": true,
         "textposition": "auto",
         "texttemplate": "%{y:.1s}",
         "type": "bar",
         "x": [
          "Construction",
          "Construction"
         ],
         "xaxis": "x",
         "y": [
          3330,
          533
         ],
         "yaxis": "y"
        },
        {
         "alignmentgroup": "True",
         "customdata": [
          [
           "US"
          ],
          [
           "Rest of the world"
          ]
         ],
         "hovertemplate": "US (Bottom) vs World (Top)=%{x}<br>Employees lay-off x 1000=%{y}<br>World=%{customdata[0]}<extra></extra>",
         "legendgroup": "Media",
         "marker": {
          "color": "#FECB52",
          "pattern": {
           "shape": ""
          }
         },
         "name": "Media",
         "offsetgroup": "Media",
         "orientation": "v",
         "showlegend": true,
         "textposition": "auto",
         "texttemplate": "%{y:.1s}",
         "type": "bar",
         "x": [
          "Media",
          "Media"
         ],
         "xaxis": "x",
         "y": [
          2871,
          1383
         ],
         "yaxis": "y"
        },
        {
         "alignmentgroup": "True",
         "customdata": [
          [
           "US"
          ],
          [
           "Rest of the world"
          ]
         ],
         "hovertemplate": "US (Bottom) vs World (Top)=%{x}<br>Employees lay-off x 1000=%{y}<br>World=%{customdata[0]}<extra></extra>",
         "legendgroup": "Recruiting",
         "marker": {
          "color": "#636efa",
          "pattern": {
           "shape": ""
          }
         },
         "name": "Recruiting",
         "offsetgroup": "Recruiting",
         "orientation": "v",
         "showlegend": true,
         "textposition": "auto",
         "texttemplate": "%{y:.1s}",
         "type": "bar",
         "x": [
          "Recruiting",
          "Recruiting"
         ],
         "xaxis": "x",
         "y": [
          2550,
          225
         ],
         "yaxis": "y"
        },
        {
         "alignmentgroup": "True",
         "customdata": [
          [
           "US"
          ],
          [
           "Rest of the world"
          ]
         ],
         "hovertemplate": "US (Bottom) vs World (Top)=%{x}<br>Employees lay-off x 1000=%{y}<br>World=%{customdata[0]}<extra></extra>",
         "legendgroup": "Logistics",
         "marker": {
          "color": "#EF553B",
          "pattern": {
           "shape": ""
          }
         },
         "name": "Logistics",
         "offsetgroup": "Logistics",
         "orientation": "v",
         "showlegend": true,
         "textposition": "auto",
         "texttemplate": "%{y:.1s}",
         "type": "bar",
         "x": [
          "Logistics",
          "Logistics"
         ],
         "xaxis": "x",
         "y": [
          2360,
          1666
         ],
         "yaxis": "y"
        },
        {
         "alignmentgroup": "True",
         "customdata": [
          [
           "US"
          ],
          [
           "Rest of the world"
          ]
         ],
         "hovertemplate": "US (Bottom) vs World (Top)=%{x}<br>Employees lay-off x 1000=%{y}<br>World=%{customdata[0]}<extra></extra>",
         "legendgroup": "Support",
         "marker": {
          "color": "#00cc96",
          "pattern": {
           "shape": ""
          }
         },
         "name": "Support",
         "offsetgroup": "Support",
         "orientation": "v",
         "showlegend": true,
         "textposition": "auto",
         "texttemplate": "%{y:.1s}",
         "type": "bar",
         "x": [
          "Support",
          "Support"
         ],
         "xaxis": "x",
         "y": [
          2348,
          630
         ],
         "yaxis": "y"
        },
        {
         "alignmentgroup": "True",
         "customdata": [
          [
           "US"
          ],
          [
           "Rest of the world"
          ]
         ],
         "hovertemplate": "US (Bottom) vs World (Top)=%{x}<br>Employees lay-off x 1000=%{y}<br>World=%{customdata[0]}<extra></extra>",
         "legendgroup": "HR",
         "marker": {
          "color": "#ab63fa",
          "pattern": {
           "shape": ""
          }
         },
         "name": "HR",
         "offsetgroup": "HR",
         "orientation": "v",
         "showlegend": true,
         "textposition": "auto",
         "texttemplate": "%{y:.1s}",
         "type": "bar",
         "x": [
          "HR",
          "HR"
         ],
         "xaxis": "x",
         "y": [
          1987,
          596
         ],
         "yaxis": "y"
        },
        {
         "alignmentgroup": "True",
         "customdata": [
          [
           "US"
          ],
          [
           "Rest of the world"
          ]
         ],
         "hovertemplate": "US (Bottom) vs World (Top)=%{x}<br>Employees lay-off x 1000=%{y}<br>World=%{customdata[0]}<extra></extra>",
         "legendgroup": "Product",
         "marker": {
          "color": "#FFA15A",
          "pattern": {
           "shape": ""
          }
         },
         "name": "Product",
         "offsetgroup": "Product",
         "orientation": "v",
         "showlegend": true,
         "textposition": "auto",
         "texttemplate": "%{y:.1s}",
         "type": "bar",
         "x": [
          "Product",
          "Product"
         ],
         "xaxis": "x",
         "y": [
          838,
          265
         ],
         "yaxis": "y"
        },
        {
         "alignmentgroup": "True",
         "customdata": [
          [
           "US"
          ],
          [
           "Rest of the world"
          ]
         ],
         "hovertemplate": "US (Bottom) vs World (Top)=%{x}<br>Employees lay-off x 1000=%{y}<br>World=%{customdata[0]}<extra></extra>",
         "legendgroup": "Legal",
         "marker": {
          "color": "#19d3f3",
          "pattern": {
           "shape": ""
          }
         },
         "name": "Legal",
         "offsetgroup": "Legal",
         "orientation": "v",
         "showlegend": true,
         "textposition": "auto",
         "texttemplate": "%{y:.1s}",
         "type": "bar",
         "x": [
          "Legal",
          "Legal"
         ],
         "xaxis": "x",
         "y": [
          806,
          30
         ],
         "yaxis": "y"
        },
        {
         "alignmentgroup": "True",
         "customdata": [
          [
           "US"
          ],
          [
           "Rest of the world"
          ]
         ],
         "hovertemplate": "US (Bottom) vs World (Top)=%{x}<br>Employees lay-off x 1000=%{y}<br>World=%{customdata[0]}<extra></extra>",
         "legendgroup": "Energy",
         "marker": {
          "color": "#FF6692",
          "pattern": {
           "shape": ""
          }
         },
         "name": "Energy",
         "offsetgroup": "Energy",
         "orientation": "v",
         "showlegend": true,
         "textposition": "auto",
         "texttemplate": "%{y:.1s}",
         "type": "bar",
         "x": [
          "Energy",
          "Energy"
         ],
         "xaxis": "x",
         "y": [
          667,
          135
         ],
         "yaxis": "y"
        },
        {
         "alignmentgroup": "True",
         "customdata": [
          [
           "Rest of the world"
          ],
          [
           "US"
          ]
         ],
         "hovertemplate": "US (Bottom) vs World (Top)=%{x}<br>Employees lay-off x 1000=%{y}<br>World=%{customdata[0]}<extra></extra>",
         "legendgroup": "Aerospace",
         "marker": {
          "color": "#B6E880",
          "pattern": {
           "shape": ""
          }
         },
         "name": "Aerospace",
         "offsetgroup": "Aerospace",
         "orientation": "v",
         "showlegend": true,
         "textposition": "auto",
         "texttemplate": "%{y:.1s}",
         "type": "bar",
         "x": [
          "Aerospace",
          "Aerospace"
         ],
         "xaxis": "x",
         "y": [
          451,
          210
         ],
         "yaxis": "y"
        },
        {
         "alignmentgroup": "True",
         "customdata": [
          [
           "US"
          ]
         ],
         "hovertemplate": "US (Bottom) vs World (Top)=%{x}<br>Employees lay-off x 1000=%{y}<br>World=%{customdata[0]}<extra></extra>",
         "legendgroup": "Manufacturing",
         "marker": {
          "color": "#FF97FF",
          "pattern": {
           "shape": ""
          }
         },
         "name": "Manufacturing",
         "offsetgroup": "Manufacturing",
         "orientation": "v",
         "showlegend": true,
         "textposition": "auto",
         "texttemplate": "%{y:.1s}",
         "type": "bar",
         "x": [
          "Manufacturing"
         ],
         "xaxis": "x",
         "y": [
          20
         ],
         "yaxis": "y"
        }
       ],
       "layout": {
        "barmode": "relative",
        "height": 500,
        "legend": {
         "title": {
          "text": "US (Bottom) vs World (Top)"
         },
         "tracegroupgap": 0
        },
        "margin": {
         "t": 60
        },
        "template": {
         "data": {
          "bar": [
           {
            "error_x": {
             "color": "#2a3f5f"
            },
            "error_y": {
             "color": "#2a3f5f"
            },
            "marker": {
             "line": {
              "color": "white",
              "width": 0.5
             },
             "pattern": {
              "fillmode": "overlay",
              "size": 10,
              "solidity": 0.2
             }
            },
            "type": "bar"
           }
          ],
          "barpolar": [
           {
            "marker": {
             "line": {
              "color": "white",
              "width": 0.5
             },
             "pattern": {
              "fillmode": "overlay",
              "size": 10,
              "solidity": 0.2
             }
            },
            "type": "barpolar"
           }
          ],
          "carpet": [
           {
            "aaxis": {
             "endlinecolor": "#2a3f5f",
             "gridcolor": "#C8D4E3",
             "linecolor": "#C8D4E3",
             "minorgridcolor": "#C8D4E3",
             "startlinecolor": "#2a3f5f"
            },
            "baxis": {
             "endlinecolor": "#2a3f5f",
             "gridcolor": "#C8D4E3",
             "linecolor": "#C8D4E3",
             "minorgridcolor": "#C8D4E3",
             "startlinecolor": "#2a3f5f"
            },
            "type": "carpet"
           }
          ],
          "choropleth": [
           {
            "colorbar": {
             "outlinewidth": 0,
             "ticks": ""
            },
            "type": "choropleth"
           }
          ],
          "contour": [
           {
            "colorbar": {
             "outlinewidth": 0,
             "ticks": ""
            },
            "colorscale": [
             [
              0,
              "#0d0887"
             ],
             [
              0.1111111111111111,
              "#46039f"
             ],
             [
              0.2222222222222222,
              "#7201a8"
             ],
             [
              0.3333333333333333,
              "#9c179e"
             ],
             [
              0.4444444444444444,
              "#bd3786"
             ],
             [
              0.5555555555555556,
              "#d8576b"
             ],
             [
              0.6666666666666666,
              "#ed7953"
             ],
             [
              0.7777777777777778,
              "#fb9f3a"
             ],
             [
              0.8888888888888888,
              "#fdca26"
             ],
             [
              1,
              "#f0f921"
             ]
            ],
            "type": "contour"
           }
          ],
          "contourcarpet": [
           {
            "colorbar": {
             "outlinewidth": 0,
             "ticks": ""
            },
            "type": "contourcarpet"
           }
          ],
          "heatmap": [
           {
            "colorbar": {
             "outlinewidth": 0,
             "ticks": ""
            },
            "colorscale": [
             [
              0,
              "#0d0887"
             ],
             [
              0.1111111111111111,
              "#46039f"
             ],
             [
              0.2222222222222222,
              "#7201a8"
             ],
             [
              0.3333333333333333,
              "#9c179e"
             ],
             [
              0.4444444444444444,
              "#bd3786"
             ],
             [
              0.5555555555555556,
              "#d8576b"
             ],
             [
              0.6666666666666666,
              "#ed7953"
             ],
             [
              0.7777777777777778,
              "#fb9f3a"
             ],
             [
              0.8888888888888888,
              "#fdca26"
             ],
             [
              1,
              "#f0f921"
             ]
            ],
            "type": "heatmap"
           }
          ],
          "heatmapgl": [
           {
            "colorbar": {
             "outlinewidth": 0,
             "ticks": ""
            },
            "colorscale": [
             [
              0,
              "#0d0887"
             ],
             [
              0.1111111111111111,
              "#46039f"
             ],
             [
              0.2222222222222222,
              "#7201a8"
             ],
             [
              0.3333333333333333,
              "#9c179e"
             ],
             [
              0.4444444444444444,
              "#bd3786"
             ],
             [
              0.5555555555555556,
              "#d8576b"
             ],
             [
              0.6666666666666666,
              "#ed7953"
             ],
             [
              0.7777777777777778,
              "#fb9f3a"
             ],
             [
              0.8888888888888888,
              "#fdca26"
             ],
             [
              1,
              "#f0f921"
             ]
            ],
            "type": "heatmapgl"
           }
          ],
          "histogram": [
           {
            "marker": {
             "pattern": {
              "fillmode": "overlay",
              "size": 10,
              "solidity": 0.2
             }
            },
            "type": "histogram"
           }
          ],
          "histogram2d": [
           {
            "colorbar": {
             "outlinewidth": 0,
             "ticks": ""
            },
            "colorscale": [
             [
              0,
              "#0d0887"
             ],
             [
              0.1111111111111111,
              "#46039f"
             ],
             [
              0.2222222222222222,
              "#7201a8"
             ],
             [
              0.3333333333333333,
              "#9c179e"
             ],
             [
              0.4444444444444444,
              "#bd3786"
             ],
             [
              0.5555555555555556,
              "#d8576b"
             ],
             [
              0.6666666666666666,
              "#ed7953"
             ],
             [
              0.7777777777777778,
              "#fb9f3a"
             ],
             [
              0.8888888888888888,
              "#fdca26"
             ],
             [
              1,
              "#f0f921"
             ]
            ],
            "type": "histogram2d"
           }
          ],
          "histogram2dcontour": [
           {
            "colorbar": {
             "outlinewidth": 0,
             "ticks": ""
            },
            "colorscale": [
             [
              0,
              "#0d0887"
             ],
             [
              0.1111111111111111,
              "#46039f"
             ],
             [
              0.2222222222222222,
              "#7201a8"
             ],
             [
              0.3333333333333333,
              "#9c179e"
             ],
             [
              0.4444444444444444,
              "#bd3786"
             ],
             [
              0.5555555555555556,
              "#d8576b"
             ],
             [
              0.6666666666666666,
              "#ed7953"
             ],
             [
              0.7777777777777778,
              "#fb9f3a"
             ],
             [
              0.8888888888888888,
              "#fdca26"
             ],
             [
              1,
              "#f0f921"
             ]
            ],
            "type": "histogram2dcontour"
           }
          ],
          "mesh3d": [
           {
            "colorbar": {
             "outlinewidth": 0,
             "ticks": ""
            },
            "type": "mesh3d"
           }
          ],
          "parcoords": [
           {
            "line": {
             "colorbar": {
              "outlinewidth": 0,
              "ticks": ""
             }
            },
            "type": "parcoords"
           }
          ],
          "pie": [
           {
            "automargin": true,
            "type": "pie"
           }
          ],
          "scatter": [
           {
            "fillpattern": {
             "fillmode": "overlay",
             "size": 10,
             "solidity": 0.2
            },
            "type": "scatter"
           }
          ],
          "scatter3d": [
           {
            "line": {
             "colorbar": {
              "outlinewidth": 0,
              "ticks": ""
             }
            },
            "marker": {
             "colorbar": {
              "outlinewidth": 0,
              "ticks": ""
             }
            },
            "type": "scatter3d"
           }
          ],
          "scattercarpet": [
           {
            "marker": {
             "colorbar": {
              "outlinewidth": 0,
              "ticks": ""
             }
            },
            "type": "scattercarpet"
           }
          ],
          "scattergeo": [
           {
            "marker": {
             "colorbar": {
              "outlinewidth": 0,
              "ticks": ""
             }
            },
            "type": "scattergeo"
           }
          ],
          "scattergl": [
           {
            "marker": {
             "colorbar": {
              "outlinewidth": 0,
              "ticks": ""
             }
            },
            "type": "scattergl"
           }
          ],
          "scattermapbox": [
           {
            "marker": {
             "colorbar": {
              "outlinewidth": 0,
              "ticks": ""
             }
            },
            "type": "scattermapbox"
           }
          ],
          "scatterpolar": [
           {
            "marker": {
             "colorbar": {
              "outlinewidth": 0,
              "ticks": ""
             }
            },
            "type": "scatterpolar"
           }
          ],
          "scatterpolargl": [
           {
            "marker": {
             "colorbar": {
              "outlinewidth": 0,
              "ticks": ""
             }
            },
            "type": "scatterpolargl"
           }
          ],
          "scatterternary": [
           {
            "marker": {
             "colorbar": {
              "outlinewidth": 0,
              "ticks": ""
             }
            },
            "type": "scatterternary"
           }
          ],
          "surface": [
           {
            "colorbar": {
             "outlinewidth": 0,
             "ticks": ""
            },
            "colorscale": [
             [
              0,
              "#0d0887"
             ],
             [
              0.1111111111111111,
              "#46039f"
             ],
             [
              0.2222222222222222,
              "#7201a8"
             ],
             [
              0.3333333333333333,
              "#9c179e"
             ],
             [
              0.4444444444444444,
              "#bd3786"
             ],
             [
              0.5555555555555556,
              "#d8576b"
             ],
             [
              0.6666666666666666,
              "#ed7953"
             ],
             [
              0.7777777777777778,
              "#fb9f3a"
             ],
             [
              0.8888888888888888,
              "#fdca26"
             ],
             [
              1,
              "#f0f921"
             ]
            ],
            "type": "surface"
           }
          ],
          "table": [
           {
            "cells": {
             "fill": {
              "color": "#EBF0F8"
             },
             "line": {
              "color": "white"
             }
            },
            "header": {
             "fill": {
              "color": "#C8D4E3"
             },
             "line": {
              "color": "white"
             }
            },
            "type": "table"
           }
          ]
         },
         "layout": {
          "annotationdefaults": {
           "arrowcolor": "#2a3f5f",
           "arrowhead": 0,
           "arrowwidth": 1
          },
          "autotypenumbers": "strict",
          "coloraxis": {
           "colorbar": {
            "outlinewidth": 0,
            "ticks": ""
           }
          },
          "colorscale": {
           "diverging": [
            [
             0,
             "#8e0152"
            ],
            [
             0.1,
             "#c51b7d"
            ],
            [
             0.2,
             "#de77ae"
            ],
            [
             0.3,
             "#f1b6da"
            ],
            [
             0.4,
             "#fde0ef"
            ],
            [
             0.5,
             "#f7f7f7"
            ],
            [
             0.6,
             "#e6f5d0"
            ],
            [
             0.7,
             "#b8e186"
            ],
            [
             0.8,
             "#7fbc41"
            ],
            [
             0.9,
             "#4d9221"
            ],
            [
             1,
             "#276419"
            ]
           ],
           "sequential": [
            [
             0,
             "#0d0887"
            ],
            [
             0.1111111111111111,
             "#46039f"
            ],
            [
             0.2222222222222222,
             "#7201a8"
            ],
            [
             0.3333333333333333,
             "#9c179e"
            ],
            [
             0.4444444444444444,
             "#bd3786"
            ],
            [
             0.5555555555555556,
             "#d8576b"
            ],
            [
             0.6666666666666666,
             "#ed7953"
            ],
            [
             0.7777777777777778,
             "#fb9f3a"
            ],
            [
             0.8888888888888888,
             "#fdca26"
            ],
            [
             1,
             "#f0f921"
            ]
           ],
           "sequentialminus": [
            [
             0,
             "#0d0887"
            ],
            [
             0.1111111111111111,
             "#46039f"
            ],
            [
             0.2222222222222222,
             "#7201a8"
            ],
            [
             0.3333333333333333,
             "#9c179e"
            ],
            [
             0.4444444444444444,
             "#bd3786"
            ],
            [
             0.5555555555555556,
             "#d8576b"
            ],
            [
             0.6666666666666666,
             "#ed7953"
            ],
            [
             0.7777777777777778,
             "#fb9f3a"
            ],
            [
             0.8888888888888888,
             "#fdca26"
            ],
            [
             1,
             "#f0f921"
            ]
           ]
          },
          "colorway": [
           "#636efa",
           "#EF553B",
           "#00cc96",
           "#ab63fa",
           "#FFA15A",
           "#19d3f3",
           "#FF6692",
           "#B6E880",
           "#FF97FF",
           "#FECB52"
          ],
          "font": {
           "color": "#2a3f5f"
          },
          "geo": {
           "bgcolor": "white",
           "lakecolor": "white",
           "landcolor": "white",
           "showlakes": true,
           "showland": true,
           "subunitcolor": "#C8D4E3"
          },
          "hoverlabel": {
           "align": "left"
          },
          "hovermode": "closest",
          "mapbox": {
           "style": "light"
          },
          "paper_bgcolor": "white",
          "plot_bgcolor": "white",
          "polar": {
           "angularaxis": {
            "gridcolor": "#EBF0F8",
            "linecolor": "#EBF0F8",
            "ticks": ""
           },
           "bgcolor": "white",
           "radialaxis": {
            "gridcolor": "#EBF0F8",
            "linecolor": "#EBF0F8",
            "ticks": ""
           }
          },
          "scene": {
           "xaxis": {
            "backgroundcolor": "white",
            "gridcolor": "#DFE8F3",
            "gridwidth": 2,
            "linecolor": "#EBF0F8",
            "showbackground": true,
            "ticks": "",
            "zerolinecolor": "#EBF0F8"
           },
           "yaxis": {
            "backgroundcolor": "white",
            "gridcolor": "#DFE8F3",
            "gridwidth": 2,
            "linecolor": "#EBF0F8",
            "showbackground": true,
            "ticks": "",
            "zerolinecolor": "#EBF0F8"
           },
           "zaxis": {
            "backgroundcolor": "white",
            "gridcolor": "#DFE8F3",
            "gridwidth": 2,
            "linecolor": "#EBF0F8",
            "showbackground": true,
            "ticks": "",
            "zerolinecolor": "#EBF0F8"
           }
          },
          "shapedefaults": {
           "line": {
            "color": "#2a3f5f"
           }
          },
          "ternary": {
           "aaxis": {
            "gridcolor": "#DFE8F3",
            "linecolor": "#A2B1C6",
            "ticks": ""
           },
           "baxis": {
            "gridcolor": "#DFE8F3",
            "linecolor": "#A2B1C6",
            "ticks": ""
           },
           "bgcolor": "white",
           "caxis": {
            "gridcolor": "#DFE8F3",
            "linecolor": "#A2B1C6",
            "ticks": ""
           }
          },
          "title": {
           "x": 0.05
          },
          "xaxis": {
           "automargin": true,
           "gridcolor": "#EBF0F8",
           "linecolor": "#EBF0F8",
           "ticks": "",
           "title": {
            "standoff": 15
           },
           "zerolinecolor": "#EBF0F8",
           "zerolinewidth": 2
          },
          "yaxis": {
           "automargin": true,
           "gridcolor": "#EBF0F8",
           "linecolor": "#EBF0F8",
           "ticks": "",
           "title": {
            "standoff": 15
           },
           "zerolinecolor": "#EBF0F8",
           "zerolinewidth": 2
          }
         }
        },
        "title": {
         "text": "Employees lay-off from 2020 to 2023 Jan"
        },
        "xaxis": {
         "anchor": "y",
         "categoryarray": [
          "Consumer",
          "Retail",
          "Transportation",
          "Other",
          "Finance",
          "Real Estate",
          "Healthcare",
          "Hardware",
          "Sales",
          "Food",
          "Education",
          "Travel",
          "Fitness",
          "Crypto",
          "Infrastructure",
          "Marketing",
          "Security",
          "Data",
          "Construction",
          "Media",
          "Recruiting",
          "Logistics",
          "Support",
          "HR",
          "Product",
          "Legal",
          "Energy",
          "Aerospace",
          "Manufacturing"
         ],
         "categoryorder": "array",
         "domain": [
          0,
          1
         ],
         "title": {
          "text": "US (Bottom) vs World (Top)"
         }
        },
        "yaxis": {
         "anchor": "x",
         "domain": [
          0,
          1
         ],
         "title": {
          "text": "Employees lay-off x 1000"
         }
        }
       }
      }
     },
     "metadata": {},
     "output_type": "display_data"
    }
   ],
   "source": [
    "# Save graph parameters in to variable, added labels and Title\n",
    "fig = px.bar(df4,x = 'industry', y = 'total_laid_off', color = 'industry',text_auto='.1s',barmode='relative',hover_data=['World'],\n",
    "             labels={\n",
    "                      \"industry\": \"US (Bottom) vs World (Top)\",\n",
    "                      \"total_laid_off\": \"Employees lay-off x 1000\"\n",
    "                      },template=\"plotly_white\")\n",
    "fig.update_layout(height=500,title=\"Employees lay-off from 2020 to 2023 Jan\")\n",
    "fig.show()\n",
    "#saving graph  to png format\n",
    "fig.write_image(\"../output/Industry lay off US and World.png\")\n",
    "\n"
   ]
  },
  {
   "attachments": {},
   "cell_type": "markdown",
   "metadata": {},
   "source": [
    "**Getting ready the df to request Lat Long data for the city**"
   ]
  },
  {
   "cell_type": "code",
   "execution_count": 10,
   "metadata": {},
   "outputs": [
    {
     "data": {
      "text/html": [
       "<div>\n",
       "<style scoped>\n",
       "    .dataframe tbody tr th:only-of-type {\n",
       "        vertical-align: middle;\n",
       "    }\n",
       "\n",
       "    .dataframe tbody tr th {\n",
       "        vertical-align: top;\n",
       "    }\n",
       "\n",
       "    .dataframe thead th {\n",
       "        text-align: right;\n",
       "    }\n",
       "</style>\n",
       "<table border=\"1\" class=\"dataframe\">\n",
       "  <thead>\n",
       "    <tr style=\"text-align: right;\">\n",
       "      <th></th>\n",
       "      <th>location</th>\n",
       "      <th>country</th>\n",
       "      <th>total_laid_off</th>\n",
       "      <th>percentage_laid_off</th>\n",
       "      <th>funds_raised</th>\n",
       "      <th>Lat</th>\n",
       "      <th>Lon</th>\n",
       "    </tr>\n",
       "  </thead>\n",
       "  <tbody>\n",
       "    <tr>\n",
       "      <th>0</th>\n",
       "      <td>Ahmedabad</td>\n",
       "      <td>India</td>\n",
       "      <td>500.0</td>\n",
       "      <td>0.50</td>\n",
       "      <td>200.0</td>\n",
       "      <td></td>\n",
       "      <td></td>\n",
       "    </tr>\n",
       "    <tr>\n",
       "      <th>1</th>\n",
       "      <td>Amsterdam</td>\n",
       "      <td>Netherlands</td>\n",
       "      <td>17140.0</td>\n",
       "      <td>1.84</td>\n",
       "      <td>28737.0</td>\n",
       "      <td></td>\n",
       "      <td></td>\n",
       "    </tr>\n",
       "    <tr>\n",
       "      <th>2</th>\n",
       "      <td>Atlanta</td>\n",
       "      <td>United States</td>\n",
       "      <td>1877.0</td>\n",
       "      <td>2.33</td>\n",
       "      <td>4408.0</td>\n",
       "      <td></td>\n",
       "      <td></td>\n",
       "    </tr>\n",
       "    <tr>\n",
       "      <th>3</th>\n",
       "      <td>Austin</td>\n",
       "      <td>United States</td>\n",
       "      <td>8980.0</td>\n",
       "      <td>6.28</td>\n",
       "      <td>25841.3</td>\n",
       "      <td></td>\n",
       "      <td></td>\n",
       "    </tr>\n",
       "    <tr>\n",
       "      <th>4</th>\n",
       "      <td>Barcelona</td>\n",
       "      <td>Spain</td>\n",
       "      <td>250.0</td>\n",
       "      <td>0.21</td>\n",
       "      <td>1554.0</td>\n",
       "      <td></td>\n",
       "      <td></td>\n",
       "    </tr>\n",
       "    <tr>\n",
       "      <th>...</th>\n",
       "      <td>...</td>\n",
       "      <td>...</td>\n",
       "      <td>...</td>\n",
       "      <td>...</td>\n",
       "      <td>...</td>\n",
       "      <td>...</td>\n",
       "      <td>...</td>\n",
       "    </tr>\n",
       "    <tr>\n",
       "      <th>89</th>\n",
       "      <td>Vienna</td>\n",
       "      <td>Austria</td>\n",
       "      <td>570.0</td>\n",
       "      <td>0.27</td>\n",
       "      <td>1918.0</td>\n",
       "      <td></td>\n",
       "      <td></td>\n",
       "    </tr>\n",
       "    <tr>\n",
       "      <th>90</th>\n",
       "      <td>Walldorf</td>\n",
       "      <td>Germany</td>\n",
       "      <td>3000.0</td>\n",
       "      <td>0.03</td>\n",
       "      <td>1300.0</td>\n",
       "      <td></td>\n",
       "      <td></td>\n",
       "    </tr>\n",
       "    <tr>\n",
       "      <th>91</th>\n",
       "      <td>Washington D.C.</td>\n",
       "      <td>United States</td>\n",
       "      <td>2282.0</td>\n",
       "      <td>2.16</td>\n",
       "      <td>3780.6</td>\n",
       "      <td></td>\n",
       "      <td></td>\n",
       "    </tr>\n",
       "    <tr>\n",
       "      <th>92</th>\n",
       "      <td>Winnipeg</td>\n",
       "      <td>Canada</td>\n",
       "      <td>350.0</td>\n",
       "      <td>0.00</td>\n",
       "      <td>6.0</td>\n",
       "      <td></td>\n",
       "      <td></td>\n",
       "    </tr>\n",
       "    <tr>\n",
       "      <th>93</th>\n",
       "      <td>Yangon</td>\n",
       "      <td>Myanmar</td>\n",
       "      <td>200.0</td>\n",
       "      <td>0.33</td>\n",
       "      <td>0.0</td>\n",
       "      <td></td>\n",
       "      <td></td>\n",
       "    </tr>\n",
       "  </tbody>\n",
       "</table>\n",
       "<p>94 rows × 7 columns</p>\n",
       "</div>"
      ],
      "text/plain": [
       "           location        country  total_laid_off  percentage_laid_off  \\\n",
       "0         Ahmedabad          India           500.0                 0.50   \n",
       "1         Amsterdam    Netherlands         17140.0                 1.84   \n",
       "2           Atlanta  United States          1877.0                 2.33   \n",
       "3            Austin  United States          8980.0                 6.28   \n",
       "4         Barcelona          Spain           250.0                 0.21   \n",
       "..              ...            ...             ...                  ...   \n",
       "89           Vienna        Austria           570.0                 0.27   \n",
       "90         Walldorf        Germany          3000.0                 0.03   \n",
       "91  Washington D.C.  United States          2282.0                 2.16   \n",
       "92         Winnipeg         Canada           350.0                 0.00   \n",
       "93           Yangon        Myanmar           200.0                 0.33   \n",
       "\n",
       "    funds_raised Lat Lon  \n",
       "0          200.0          \n",
       "1        28737.0          \n",
       "2         4408.0          \n",
       "3        25841.3          \n",
       "4         1554.0          \n",
       "..           ...  ..  ..  \n",
       "89        1918.0          \n",
       "90        1300.0          \n",
       "91        3780.6          \n",
       "92           6.0          \n",
       "93           0.0          \n",
       "\n",
       "[94 rows x 7 columns]"
      ]
     },
     "execution_count": 10,
     "metadata": {},
     "output_type": "execute_result"
    }
   ],
   "source": [
    "#Copy of original df\n",
    "added_list=industry_lay_df\n",
    "#Grouping data by Country and City\n",
    "added_list2=added_list.groupby(['location','country']).sum()\n",
    "#Filtering for cities with Layoff data greatest than 129\n",
    "added_list3=added_list2.loc[added_list2['total_laid_off']>=129]\n",
    "addedlist4=added_list3.reset_index()\n",
    "#Creation of columns for the Lat and the Long\n",
    "addedlist4[\"Lat\"] = \"\"\n",
    "addedlist4[\"Lon\"] = \"\"\n",
    "addedlist4\n",
    "# added_list4.to_csv('resource/lat and long.csv')\n",
    "# added_list4.dtypes\n"
   ]
  },
  {
   "attachments": {},
   "cell_type": "markdown",
   "metadata": {},
   "source": [
    "**API request to capture LAT and LONG from GeoAPIfy*"
   ]
  },
  {
   "cell_type": "code",
   "execution_count": 11,
   "metadata": {},
   "outputs": [],
   "source": [
    "#API request\n",
    "params = {\n",
    "    \"apiKey\":geoapify_key,\n",
    "    \"format\":\"json\"\n",
    "}\n",
    "\n",
    "# Set the base URL\n",
    "base_url = \"https://api.geoapify.com/v1/geocode/search\"\n",
    "\n",
    "for index, row in addedlist4.iterrows():\n",
    "\n",
    "    # Get the city's name & add \", Australia\" to the string so geoapify finds the correct city\n",
    "    city = row[\"location\"] +\",\"+row['country']\n",
    "    \n",
    "      # Add the current city to the parameters\n",
    "    params[\"text\"] = f\"{city}\"\n",
    "    # Make the API request\n",
    "    response = requests.get(base_url, params=params)\n",
    "\n",
    "    # Convert reponse to JSON\n",
    "    response = response.json()\n",
    "\n",
    "    # Extract latitude and longitude\n",
    "    addedlist4.loc[index, \"Lat\"] = response[\"results\"][0][\"lat\"]\n",
    "    addedlist4.loc[index, \"Lon\"] = response[\"results\"][0][\"lon\"]\n",
    "\n",
    "   "
   ]
  },
  {
   "attachments": {},
   "cell_type": "markdown",
   "metadata": {},
   "source": [
    "**WIth the captured data we graph the points capture in a GEO map**"
   ]
  },
  {
   "cell_type": "code",
   "execution_count": 12,
   "metadata": {},
   "outputs": [
    {
     "data": {},
     "metadata": {},
     "output_type": "display_data"
    },
    {
     "data": {
      "application/vnd.holoviews_exec.v0+json": "",
      "text/html": [
       "<div id='1490'>\n",
       "  <div class=\"bk-root\" id=\"c1da3b0b-85e5-4646-b973-97548f0660e3\" data-root-id=\"1490\"></div>\n",
       "</div>\n",
       "<script type=\"application/javascript\">(function(root) {\n",
       "  function embed_document(root) {\n",
       "    var docs_json = {\"4e86d0e1-8c83-4986-ad66-bd0bae4d9693\":{\"defs\":[{\"extends\":null,\"module\":null,\"name\":\"ReactiveHTML1\",\"overrides\":[],\"properties\":[]},{\"extends\":null,\"module\":null,\"name\":\"FlexBox1\",\"overrides\":[],\"properties\":[{\"default\":\"flex-start\",\"kind\":null,\"name\":\"align_content\"},{\"default\":\"flex-start\",\"kind\":null,\"name\":\"align_items\"},{\"default\":\"row\",\"kind\":null,\"name\":\"flex_direction\"},{\"default\":\"wrap\",\"kind\":null,\"name\":\"flex_wrap\"},{\"default\":\"flex-start\",\"kind\":null,\"name\":\"justify_content\"}]},{\"extends\":null,\"module\":null,\"name\":\"GridStack1\",\"overrides\":[],\"properties\":[{\"default\":\"warn\",\"kind\":null,\"name\":\"mode\"},{\"default\":null,\"kind\":null,\"name\":\"ncols\"},{\"default\":null,\"kind\":null,\"name\":\"nrows\"},{\"default\":true,\"kind\":null,\"name\":\"allow_resize\"},{\"default\":true,\"kind\":null,\"name\":\"allow_drag\"},{\"default\":[],\"kind\":null,\"name\":\"state\"}]},{\"extends\":null,\"module\":null,\"name\":\"click1\",\"overrides\":[],\"properties\":[{\"default\":\"\",\"kind\":null,\"name\":\"terminal_output\"},{\"default\":\"\",\"kind\":null,\"name\":\"debug_name\"},{\"default\":0,\"kind\":null,\"name\":\"clears\"}]},{\"extends\":null,\"module\":null,\"name\":\"NotificationAreaBase1\",\"overrides\":[],\"properties\":[{\"default\":\"bottom-right\",\"kind\":null,\"name\":\"position\"},{\"default\":0,\"kind\":null,\"name\":\"_clear\"}]},{\"extends\":null,\"module\":null,\"name\":\"NotificationArea1\",\"overrides\":[],\"properties\":[{\"default\":[],\"kind\":null,\"name\":\"notifications\"},{\"default\":\"bottom-right\",\"kind\":null,\"name\":\"position\"},{\"default\":0,\"kind\":null,\"name\":\"_clear\"},{\"default\":[{\"background\":\"#ffc107\",\"icon\":{\"className\":\"fas fa-exclamation-triangle\",\"color\":\"white\",\"tagName\":\"i\"},\"type\":\"warning\"},{\"background\":\"#007bff\",\"icon\":{\"className\":\"fas fa-info-circle\",\"color\":\"white\",\"tagName\":\"i\"},\"type\":\"info\"}],\"kind\":null,\"name\":\"types\"}]},{\"extends\":null,\"module\":null,\"name\":\"Notification\",\"overrides\":[],\"properties\":[{\"default\":null,\"kind\":null,\"name\":\"background\"},{\"default\":3000,\"kind\":null,\"name\":\"duration\"},{\"default\":null,\"kind\":null,\"name\":\"icon\"},{\"default\":\"\",\"kind\":null,\"name\":\"message\"},{\"default\":null,\"kind\":null,\"name\":\"notification_type\"},{\"default\":false,\"kind\":null,\"name\":\"_destroyed\"}]},{\"extends\":null,\"module\":null,\"name\":\"TemplateActions1\",\"overrides\":[],\"properties\":[{\"default\":0,\"kind\":null,\"name\":\"open_modal\"},{\"default\":0,\"kind\":null,\"name\":\"close_modal\"}]},{\"extends\":null,\"module\":null,\"name\":\"MaterialTemplateActions1\",\"overrides\":[],\"properties\":[{\"default\":0,\"kind\":null,\"name\":\"open_modal\"},{\"default\":0,\"kind\":null,\"name\":\"close_modal\"}]}],\"roots\":{\"references\":[{\"attributes\":{\"axis_label\":\"Lat\",\"coordinates\":null,\"formatter\":{\"id\":\"1536\"},\"group\":null,\"major_label_policy\":{\"id\":\"1541\"},\"ticker\":{\"id\":\"1535\"}},\"id\":\"1512\",\"type\":\"LinearAxis\"},{\"attributes\":{\"angle\":{\"value\":0.0},\"fill_alpha\":{\"value\":1.0},\"fill_color\":{\"value\":\"red\"},\"hatch_alpha\":{\"value\":1.0},\"hatch_color\":{\"value\":\"red\"},\"hatch_scale\":{\"value\":12.0},\"hatch_weight\":{\"value\":1.0},\"line_alpha\":{\"value\":1.0},\"line_cap\":{\"value\":\"butt\"},\"line_color\":{\"value\":\"red\"},\"line_dash\":{\"value\":[]},\"line_dash_offset\":{\"value\":0},\"line_join\":{\"value\":\"bevel\"},\"line_width\":{\"value\":1},\"marker\":{\"value\":\"circle\"},\"size\":{\"value\":5.477225575051661},\"x\":{\"field\":\"Lon\"},\"y\":{\"field\":\"Lat\"}},\"id\":\"1576\",\"type\":\"Scatter\"},{\"attributes\":{\"margin\":[5,5,5,5],\"name\":\"HSpacer01924\",\"sizing_mode\":\"stretch_width\"},\"id\":\"1491\",\"type\":\"Spacer\"},{\"attributes\":{\"dimension\":\"lon\"},\"id\":\"1536\",\"type\":\"MercatorTickFormatter\"},{\"attributes\":{\"children\":[{\"id\":\"1491\"},{\"id\":\"1503\"},{\"id\":\"1583\"}],\"margin\":[0,0,0,0],\"name\":\"Row01920\",\"tags\":[\"embedded\"]},\"id\":\"1490\",\"type\":\"Row\"},{\"attributes\":{\"tools\":[{\"id\":\"1500\"},{\"id\":\"1520\"},{\"id\":\"1521\"},{\"id\":\"1522\"},{\"id\":\"1523\"},{\"id\":\"1524\"}]},\"id\":\"1526\",\"type\":\"Toolbar\"},{\"attributes\":{\"fill_alpha\":{\"value\":0.1},\"fill_color\":{\"value\":\"red\"},\"hatch_alpha\":{\"value\":0.1},\"hatch_color\":{\"value\":\"red\"},\"line_alpha\":{\"value\":0.1},\"line_color\":{\"value\":\"red\"},\"size\":{\"value\":5.477225575051661},\"x\":{\"field\":\"Lon\"},\"y\":{\"field\":\"Lat\"}},\"id\":\"1570\",\"type\":\"Scatter\"},{\"attributes\":{\"match_aspect\":true,\"overlay\":{\"id\":\"1525\"}},\"id\":\"1523\",\"type\":\"BoxZoomTool\"},{\"attributes\":{\"axis\":{\"id\":\"1512\"},\"coordinates\":null,\"grid_line_color\":null,\"group\":null,\"ticker\":null},\"id\":\"1515\",\"type\":\"Grid\"},{\"attributes\":{\"attribution\":\"Map tiles by <a href=\\\"https://stamen.com\\\">Stamen Design</a>, under <a href=\\\"https://creativecommons.org/licenses/by/3.0\\\">CC BY 3.0</a>. Data by <a href=\\\"https://openstreetmap.org\\\">OpenStreetMap</a>, under <a href=\\\"https://www.openstreetmap.org/copyright\\\">ODbL</a>.\",\"url\":\"https://stamen-tiles.a.ssl.fastly.net/toner-background/{Z}/{X}/{Y}.png\"},\"id\":\"1561\",\"type\":\"WMTSTileSource\"},{\"attributes\":{\"end\":8986086.28987517,\"min_interval\":5,\"reset_end\":8986086.28987517,\"reset_start\":-5102178.460615293,\"start\":-5102178.460615293,\"tags\":[[[\"Lat\",\"Lat\",null]]]},\"id\":\"1497\",\"type\":\"Range1d\"},{\"attributes\":{\"below\":[{\"id\":\"1512\"}],\"center\":[{\"id\":\"1515\"},{\"id\":\"1519\"}],\"frame_height\":381,\"frame_width\":1000,\"height\":null,\"left\":[{\"id\":\"1516\"}],\"margin\":[5,5,5,5],\"match_aspect\":true,\"min_border_bottom\":10,\"min_border_left\":10,\"min_border_right\":10,\"min_border_top\":10,\"renderers\":[{\"id\":\"1564\"},{\"id\":\"1572\"}],\"sizing_mode\":\"fixed\",\"title\":{\"id\":\"1504\"},\"toolbar\":{\"id\":\"1526\"},\"width\":null,\"x_range\":{\"id\":\"1496\"},\"x_scale\":{\"id\":\"1508\"},\"y_range\":{\"id\":\"1497\"},\"y_scale\":{\"id\":\"1510\"}},\"id\":\"1503\",\"subtype\":\"Figure\",\"type\":\"Plot\"},{\"attributes\":{},\"id\":\"1510\",\"type\":\"LinearScale\"},{\"attributes\":{\"code\":\"\\n        var projections = Bokeh.require(\\\"core/util/projections\\\");\\n        var x = special_vars.data_x\\n        var y = special_vars.data_y\\n        var coords = projections.wgs84_mercator.invert(x, y)\\n        return \\\"\\\" + (coords[0]).toFixed(4)\\n    \"},\"id\":\"1574\",\"type\":\"CustomJSHover\"},{\"attributes\":{\"axis_label\":\"Long\",\"coordinates\":null,\"formatter\":{\"id\":\"1538\"},\"group\":null,\"major_label_policy\":{\"id\":\"1548\"},\"ticker\":{\"id\":\"1537\"}},\"id\":\"1516\",\"type\":\"LinearAxis\"},{\"attributes\":{\"data\":{\"Lat\":{\"__ndarray__\":\"nW2i8MQZREHOskT41zJaQeRTDbcFe05BdVNxXAj/SkH3lAXiLVZTQdtnXdWYglJB4bZw2KNFQcEm3XseuTs2QQojR2qTTFpBfyqwX79tUkEuTrkw/6YfQVoqU88o5FNBMEjYCwaSUkHzL+wmNUdIwcKhHyWrXE/BQ9g64RJKWUEt2Xk6fABQQcd2KrhvazZBHHA5V9WdU0H+xDjiiopSQQBaZZubmFxByD1ioE+8TEGZjirn7VdGwRJ30ZqFPDlB4odkN/ZqUkFWNKeRpeBTQfb6vPJpMEZB4Hg4YMfiWkHs1dhrM8xcQW/tOObsqVhBr2ZUlgI+VEEG3nQwTzxJQUp/akGwF2BBuxYtQNGCQ0Gvp+4sEQUlwQMuhGCUfUxBpVglOVUrR8GAIUrQ7vBXQT3CuFTF+SVBGXnp/1J+UEEyqoq5IcdSQfIZW/X5zlJBOch3IDqaWUEAVXNnCQ5QQdkgYdfWyk5BMcd0iH9eUcGmu3LteNRAQX5fsRxgG1JBd1APBwGrRkG6Pb4dR25VQfghiwt4v1VB57mdBeikXEEzDMnB7IJAQb7zyMUHYldBTZ4PY3hwAcEnHYkSXStRQVjPtmBBYUlB7EhEQZP1UkGmeQiJlFZJQcO0nhCwFVVBXUMswQz4X0GayVNOtrJVQU7BMiQMHU9BSCbxpTCJUkH7JB9qkSxOQVa1zUzIzlJBgseLmkOmVEF0TH4f4UxSQbxra4UwTlFBHmUkgk38UkF//fYA4G5NQSzEyjHhB1BBBKgBs8fCVkECFc3g/ZZEwXlFf3ebC1dB8XPbujPyS0Et23E1k6dDQXlM8rmohwFBa97RFTcUV0Hns9CFqM9RQfSRaXOQJlNBSnzA3pt5X0FBRJVglrFWQXIAI02lmk7BDzGWA4mRX0HvFHxgGMxMQdN4yFUhpVRBXXnHnSIbWEHZPPAHRdNVQYRAne6kbVdBIh0skkoiWEHn6inoVfRRQcKDPxCLhVhBVlrpANbyPEE=\",\"dtype\":\"float64\",\"order\":\"little\",\"shape\":[94]},\"Lon\":{\"__ndarray__\":\"NIgvACzSXkEUA3oI458gQTRwWSgN62HBFjFpW+HAZMEdnmEmtZYNQQQFZjF5tmhBXCfdZEqpUsG1NGcNbXlgQfmn/RAJvjZBx3I1zLQWY8G7HfBqqnVfwcgWmvkELV7ByrXg7gBaZsH8yvwf0D5wQQLMRMK40FjBPYRjrw04aMECPpxZPiphweSjZ4caC2FBzYdePtiaYsE3C0KMhZ9hwbavDQ/+WTVBQkPoJc2KY8EAVBM9TexUwR5Y1JIXoz3Bj3kfrHlKZsFMrrq2BKJhwfGRMP/eeldBmS/SA3pEJcGFWtAUwakVwUhm2w2sfi1BcQKT334wYsFVGuls+lpgQW2C1vYSL0VBsL80ON07aEHbfalzna5mQWnAS/rQ6k1BGkwGV1y+VMHMF2PCUIwsQRV+m1W5DxdBoMdVRexyaMHkMRotjr9nwV1z2OXIx2HBLcd4YNLAy8A5g/fvyMxjwSwUCZAcG2nB7CvPJ4HHbkHwXXHeZwxlwZ5aTvg6gmPBIEMvHvEGYcHJL0cRd81jwX4DblnOPV/BCAW7J9TyT0HNB05cnvJeQf9M+aZ1qTNBHO4yetZET0HJzADmx+VkwZ6sX2a2ZGBBo31f+zltX8G6kgzHIWtgQfW827y9il3BlqLkrsA9MkF1FT4SJxJgwaAzv+/PAWPBprGeXQ/rX8GZsdSJ0MtnwUy05vTg+2DB/TmSzG/VXcE3lOOCcXBpwdI9iH6SAGrBDMRfqqHBZ8EPIqiGaOBowdrp1dx6nmnBcr1yH525aME/v34Yic1TwZjSvAZH+WnBb4MBSXzKaUEpsHexiDpoQdpgra3kDGZBYjjkqpTuaMEgVLTeKyljwfAAwJttOl/BFvMu7RCyPkGmYtg+hu9cwTlWSNR6DXBB/vRZ7SgERUGYwxh9SopNQb3aA2bu2mDBKytHzuIjasFFxCM+/wtqwUY8n9RyzztBkqbQCvtcLUE5OpaWVltgwRuON3f7n2TBRJLPE9pqZEE=\",\"dtype\":\"float64\",\"order\":\"little\",\"shape\":[94]},\"location\":[\"Ahmedabad\",\"Amsterdam\",\"Atlanta\",\"Austin\",\"Barcelona\",\"Beijing\",\"Belo Horizonte\",\"Bengaluru\",\"Berlin\",\"Berlin\",\"Bogota\",\"Boston\",\"Boulder\",\"Brisbane\",\"Buenos Aires\",\"Calgary\",\"Charlotte\",\"Chennai\",\"Chicago\",\"Columbus\",\"Copenhagen\",\"Copenhagen\",\"Curitiba\",\"Dakar\",\"Denver\",\"Detroit\",\"Dubai\",\"Dublin\",\"Edinburgh\",\"Frankfurt\",\"Grand Rapids\",\"Gurugram\",\"Helsinki\",\"Hong Kong\",\"Jakarta\",\"Jerusalem\",\"Joinville\",\"Karlsruhe\",\"Lagos\",\"Las Vegas\",\"Lehi\",\"Logan\",\"London\",\"London\",\"Los Angeles\",\"Melbourne\",\"Mexico City\",\"Mexico City\",\"Miami\",\"Minneapolis\",\"Montreal\",\"Moscow\",\"Mumbai\",\"Munich\",\"Nairobi\",\"Nashville\",\"New Delhi\",\"New York City\",\"Noida\",\"Non-U.S.\",\"Oslo\",\"Ottawa\",\"Oxford\",\"Philadelphia\",\"Phoenix\",\"Pittsburgh\",\"Portland\",\"Reno\",\"SF Bay Area\",\"Salt Lake City\",\"San Diego\",\"San Luis Obispo\",\"Santa Fe\",\"Sao Paulo\",\"Seattle\",\"Shanghai\",\"Shenzen\",\"Singapore\",\"Spokane\",\"St. Louis\",\"Stamford\",\"Stockholm\",\"Stockholm\",\"Sydney\",\"Tallin\",\"Tel Aviv\",\"Toronto\",\"Vancouver\",\"Vancouver\",\"Vienna\",\"Walldorf\",\"Washington D.C.\",\"Winnipeg\",\"Yangon\"],\"total_laid_off\":{\"__ndarray__\":\"AAAAAABAf0AAAAAAAL3QQAAAAAAAVJ1AAAAAAACKwUAAAAAAAEBvQAAAAAAA+IFAAAAAAADgfkAAAAAAwLDUQAAAAAAAXrFAAAAAAAAAZEAAAAAAAEBgQAAAAAAA5sRAAAAAAADQckAAAAAAAEBoQAAAAAAAMHRAAAAAAADgaUAAAAAAAIBuQAAAAAAAwGJAAAAAAACdtkAAAAAAAKiNQAAAAAAAAG5AAAAAAADAYkAAAAAAAOB8QAAAAAAAwHJAAAAAAAB4gEAAAAAAAHCSQAAAAAAAGI9AAAAAAACAbUAAAAAAAMByQAAAAAAAAGlAAAAAAABAbEAAAAAAAAC1QAAAAAAAQG9AAAAAAADQhkAAAAAAALKoQAAAAAAAwGFAAAAAAADgZ0AAAAAAACBiQAAAAAAAqIFAAAAAAABQeUAAAAAAAIBrQAAAAAAAwHJAAAAAAAD3t0AAAAAAAEBuQAAAAAAACrhAAAAAAABQfUAAAAAAAIBmQAAAAAAAgGZAAAAAAACuokAAAAAAAIBqQAAAAAAAYJBAAAAAAAAAeUAAAAAAAHu2QAAAAAAAkHVAAAAAAADQdUAAAAAAAIB1QAAAAAAA2J1AAAAAAEA720AAAAAAAEBvQAAAAAAAQH9AAAAAAACAYUAAAAAAAPiRQAAAAAAAIHxAAAAAAABIokAAAAAAALmxQAAAAAAACIBAAAAAAAAkmUAAAAAAAAiJQAAAAACwmPxAAAAAAAAYl0AAAAAAAJSfQAAAAAAAMJFAAAAAAACgakAAAAAAAC6/QAAAAACA4+BAAAAAAACkoEAAAAAAAMCiQAAAAAAAL7dAAAAAAABgbkAAAAAAAOiHQAAAAAAAII5AAAAAAADwo0AAAAAAAKBkQAAAAAAAoItAAAAAAACwcEAAAAAAANqmQAAAAAAAQqFAAAAAAABUkkAAAAAAAMBlQAAAAAAA0IFAAAAAAABwp0AAAAAAANShQAAAAAAA4HVAAAAAAAAAaUA=\",\"dtype\":\"float64\",\"order\":\"little\",\"shape\":[94]}},\"selected\":{\"id\":\"1567\"},\"selection_policy\":{\"id\":\"1580\"}},\"id\":\"1566\",\"type\":\"ColumnDataSource\"},{\"attributes\":{},\"id\":\"1524\",\"type\":\"ResetTool\"},{\"attributes\":{\"coordinates\":null,\"group\":null,\"level\":\"glyph\",\"tile_source\":{\"id\":\"1561\"}},\"id\":\"1564\",\"type\":\"TileRenderer\"},{\"attributes\":{\"callback\":null,\"formatters\":{\"$x\":{\"id\":\"1574\"},\"$y\":{\"id\":\"1575\"}},\"renderers\":[{\"id\":\"1572\"}],\"tags\":[\"hv_created\"],\"tooltips\":[[\"Lon\",\"$x{custom}\"],[\"Lat\",\"$y{custom}\"],[\"total_laid_off\",\"@{total_laid_off}\"],[\"location\",\"@{location}\"]]},\"id\":\"1500\",\"type\":\"HoverTool\"},{\"attributes\":{\"dimension\":\"lat\"},\"id\":\"1537\",\"type\":\"MercatorTicker\"},{\"attributes\":{},\"id\":\"1541\",\"type\":\"AllLabels\"},{\"attributes\":{},\"id\":\"1580\",\"type\":\"UnionRenderers\"},{\"attributes\":{\"zoom_on_axis\":false},\"id\":\"1522\",\"type\":\"WheelZoomTool\"},{\"attributes\":{},\"id\":\"1508\",\"type\":\"LinearScale\"},{\"attributes\":{\"end\":20108445.91017408,\"min_interval\":5,\"reset_end\":20108445.91017408,\"reset_start\":-16778930.35714465,\"start\":-16778930.35714465,\"tags\":[[[\"Lon\",\"Lon\",null]]]},\"id\":\"1496\",\"type\":\"Range1d\"},{\"attributes\":{},\"id\":\"1548\",\"type\":\"AllLabels\"},{\"attributes\":{},\"id\":\"1567\",\"type\":\"Selection\"},{\"attributes\":{\"fill_alpha\":{\"value\":0.2},\"fill_color\":{\"value\":\"red\"},\"hatch_alpha\":{\"value\":0.2},\"hatch_color\":{\"value\":\"red\"},\"line_alpha\":{\"value\":0.2},\"line_color\":{\"value\":\"red\"},\"size\":{\"value\":5.477225575051661},\"x\":{\"field\":\"Lon\"},\"y\":{\"field\":\"Lat\"}},\"id\":\"1571\",\"type\":\"Scatter\"},{\"attributes\":{\"dimension\":\"lat\"},\"id\":\"1538\",\"type\":\"MercatorTickFormatter\"},{\"attributes\":{\"fill_color\":{\"value\":\"red\"},\"hatch_color\":{\"value\":\"red\"},\"line_color\":{\"value\":\"red\"},\"size\":{\"value\":5.477225575051661},\"x\":{\"field\":\"Lon\"},\"y\":{\"field\":\"Lat\"}},\"id\":\"1569\",\"type\":\"Scatter\"},{\"attributes\":{},\"id\":\"1520\",\"type\":\"SaveTool\"},{\"attributes\":{\"dimension\":\"lon\"},\"id\":\"1535\",\"type\":\"MercatorTicker\"},{\"attributes\":{\"axis\":{\"id\":\"1516\"},\"coordinates\":null,\"dimension\":1,\"grid_line_color\":null,\"group\":null,\"ticker\":null},\"id\":\"1519\",\"type\":\"Grid\"},{\"attributes\":{\"source\":{\"id\":\"1566\"}},\"id\":\"1573\",\"type\":\"CDSView\"},{\"attributes\":{\"bottom_units\":\"screen\",\"coordinates\":null,\"fill_alpha\":0.5,\"fill_color\":\"lightgrey\",\"group\":null,\"left_units\":\"screen\",\"level\":\"overlay\",\"line_alpha\":1.0,\"line_color\":\"black\",\"line_dash\":[4,4],\"line_width\":2,\"right_units\":\"screen\",\"syncable\":false,\"top_units\":\"screen\"},\"id\":\"1525\",\"type\":\"BoxAnnotation\"},{\"attributes\":{\"code\":\"\\n        var projections = Bokeh.require(\\\"core/util/projections\\\");\\n        var x = special_vars.data_x\\n        var y = special_vars.data_y\\n        var coords = projections.wgs84_mercator.invert(x, y)\\n        return \\\"\\\" + (coords[1]).toFixed(4)\\n    \"},\"id\":\"1575\",\"type\":\"CustomJSHover\"},{\"attributes\":{\"margin\":[5,5,5,5],\"name\":\"HSpacer01925\",\"sizing_mode\":\"stretch_width\"},\"id\":\"1583\",\"type\":\"Spacer\"},{\"attributes\":{\"coordinates\":null,\"group\":null,\"text\":\"2020 -2023 World Lay-off population 'Location'\",\"text_color\":\"black\",\"text_font_size\":\"12pt\"},\"id\":\"1504\",\"type\":\"Title\"},{\"attributes\":{\"coordinates\":null,\"data_source\":{\"id\":\"1566\"},\"glyph\":{\"id\":\"1569\"},\"group\":null,\"hover_glyph\":null,\"muted_glyph\":{\"id\":\"1571\"},\"nonselection_glyph\":{\"id\":\"1570\"},\"selection_glyph\":{\"id\":\"1576\"},\"view\":{\"id\":\"1573\"}},\"id\":\"1572\",\"type\":\"GlyphRenderer\"},{\"attributes\":{},\"id\":\"1521\",\"type\":\"PanTool\"}],\"root_ids\":[\"1490\"]},\"title\":\"Bokeh Application\",\"version\":\"2.4.3\"}};\n",
       "    var render_items = [{\"docid\":\"4e86d0e1-8c83-4986-ad66-bd0bae4d9693\",\"root_ids\":[\"1490\"],\"roots\":{\"1490\":\"c1da3b0b-85e5-4646-b973-97548f0660e3\"}}];\n",
       "    root.Bokeh.embed.embed_items_notebook(docs_json, render_items);\n",
       "    for (const render_item of render_items) {\n",
       "      for (const root_id of render_item.root_ids) {\n",
       "\tconst id_el = document.getElementById(root_id)\n",
       "\tif (id_el.children.length && (id_el.children[0].className === 'bk-root')) {\n",
       "\t  const root_el = id_el.children[0]\n",
       "\t  root_el.id = root_el.id + '-rendered'\n",
       "\t}\n",
       "      }\n",
       "    }\n",
       "  }\n",
       "  if (root.Bokeh !== undefined && root.Bokeh.Panel !== undefined) {\n",
       "    embed_document(root);\n",
       "  } else {\n",
       "    var attempts = 0;\n",
       "    var timer = setInterval(function(root) {\n",
       "      if (root.Bokeh !== undefined && root.Bokeh.Panel !== undefined) {\n",
       "        clearInterval(timer);\n",
       "        embed_document(root);\n",
       "      } else if (document.readyState == \"complete\") {\n",
       "        attempts++;\n",
       "        if (attempts > 200) {\n",
       "          clearInterval(timer);\n",
       "          console.log(\"Bokeh: ERROR: Unable to run BokehJS code because BokehJS library is missing\");\n",
       "        }\n",
       "      }\n",
       "    }, 25, root)\n",
       "  }\n",
       "})(window);</script>"
      ],
      "text/plain": [
       ":Overlay\n",
       "   .Tiles.I  :Tiles   [x,y]\n",
       "   .Points.I :Points   [Lon,Lat]   (total_laid_off,location)"
      ]
     },
     "execution_count": 12,
     "metadata": {
      "application/vnd.holoviews_exec.v0+json": {
       "id": "1490"
      }
     },
     "output_type": "execute_result"
    }
   ],
   "source": [
    "#Potting the data captured as points\n",
    "world_graph=addedlist4.hvplot.points(\n",
    "    \"Lon\",\n",
    "    \"Lat\",\n",
    "    geo=\"True\",\n",
    "     #tiles = \"OSM\",\n",
    "     frame_width = 1000,\n",
    "    # frame_height = 600 ,\n",
    "    color='red',\n",
    "    hover_cols=[\"total_laid_off\",\"location\"],\n",
    "    scale=1,\n",
    "     project=False, \n",
    "    rasterize=False,  dynamic=False,tiles='StamenTonerBackground',title=\"2020 -2023 World Lay-off population 'Location'\",).opts(\n",
    "    xlabel='Lat',\n",
    "    ylabel='Long',\n",
    ")\n",
    "hvplot.save(world_graph ,'../output/World main countries layoff numbers.png') #saving file to PNG\n",
    "world_graph   \n",
    "\n",
    "#['CartoDark', 'CartoEco', 'CartoLight', 'CartoMidnight', 'EsriImagery', 'EsriNatGeo', 'EsriReference', 'EsriStreet', 'EsriTerrain', 'EsriUSATopo', 'OSM', 'OpenTopoMap', 'StamenLabels', 'StamenLabelsRetina', 'StamenTerrain', 'StamenTerrainRetina', 'StamenToner', 'StamenTonerBackground', 'StamenTonerBackgroundRetina', 'StamenTonerRetina', 'StamenWatercolor', 'Wikipedia"
   ]
  },
  {
   "attachments": {},
   "cell_type": "markdown",
   "metadata": {},
   "source": [
    "**Map showing in comparative the size of the impact  of the lay-offs around the world.   The size of the graph is intetonally big, so we can see the detail by country**"
   ]
  },
  {
   "cell_type": "code",
   "execution_count": 13,
   "metadata": {},
   "outputs": [
    {
     "data": {},
     "metadata": {},
     "output_type": "display_data"
    },
    {
     "data": {
      "application/vnd.holoviews_exec.v0+json": "",
      "text/html": [
       "<div id='1817'>\n",
       "  <div class=\"bk-root\" id=\"2d4d0509-78fb-4df6-ba1b-4c6680278600\" data-root-id=\"1817\"></div>\n",
       "</div>\n",
       "<script type=\"application/javascript\">(function(root) {\n",
       "  function embed_document(root) {\n",
       "    var docs_json = {\"cffa564f-58c1-4e9a-9a71-169c23f2755b\":{\"defs\":[{\"extends\":null,\"module\":null,\"name\":\"ReactiveHTML1\",\"overrides\":[],\"properties\":[]},{\"extends\":null,\"module\":null,\"name\":\"FlexBox1\",\"overrides\":[],\"properties\":[{\"default\":\"flex-start\",\"kind\":null,\"name\":\"align_content\"},{\"default\":\"flex-start\",\"kind\":null,\"name\":\"align_items\"},{\"default\":\"row\",\"kind\":null,\"name\":\"flex_direction\"},{\"default\":\"wrap\",\"kind\":null,\"name\":\"flex_wrap\"},{\"default\":\"flex-start\",\"kind\":null,\"name\":\"justify_content\"}]},{\"extends\":null,\"module\":null,\"name\":\"GridStack1\",\"overrides\":[],\"properties\":[{\"default\":\"warn\",\"kind\":null,\"name\":\"mode\"},{\"default\":null,\"kind\":null,\"name\":\"ncols\"},{\"default\":null,\"kind\":null,\"name\":\"nrows\"},{\"default\":true,\"kind\":null,\"name\":\"allow_resize\"},{\"default\":true,\"kind\":null,\"name\":\"allow_drag\"},{\"default\":[],\"kind\":null,\"name\":\"state\"}]},{\"extends\":null,\"module\":null,\"name\":\"click1\",\"overrides\":[],\"properties\":[{\"default\":\"\",\"kind\":null,\"name\":\"terminal_output\"},{\"default\":\"\",\"kind\":null,\"name\":\"debug_name\"},{\"default\":0,\"kind\":null,\"name\":\"clears\"}]},{\"extends\":null,\"module\":null,\"name\":\"NotificationAreaBase1\",\"overrides\":[],\"properties\":[{\"default\":\"bottom-right\",\"kind\":null,\"name\":\"position\"},{\"default\":0,\"kind\":null,\"name\":\"_clear\"}]},{\"extends\":null,\"module\":null,\"name\":\"NotificationArea1\",\"overrides\":[],\"properties\":[{\"default\":[],\"kind\":null,\"name\":\"notifications\"},{\"default\":\"bottom-right\",\"kind\":null,\"name\":\"position\"},{\"default\":0,\"kind\":null,\"name\":\"_clear\"},{\"default\":[{\"background\":\"#ffc107\",\"icon\":{\"className\":\"fas fa-exclamation-triangle\",\"color\":\"white\",\"tagName\":\"i\"},\"type\":\"warning\"},{\"background\":\"#007bff\",\"icon\":{\"className\":\"fas fa-info-circle\",\"color\":\"white\",\"tagName\":\"i\"},\"type\":\"info\"}],\"kind\":null,\"name\":\"types\"}]},{\"extends\":null,\"module\":null,\"name\":\"Notification\",\"overrides\":[],\"properties\":[{\"default\":null,\"kind\":null,\"name\":\"background\"},{\"default\":3000,\"kind\":null,\"name\":\"duration\"},{\"default\":null,\"kind\":null,\"name\":\"icon\"},{\"default\":\"\",\"kind\":null,\"name\":\"message\"},{\"default\":null,\"kind\":null,\"name\":\"notification_type\"},{\"default\":false,\"kind\":null,\"name\":\"_destroyed\"}]},{\"extends\":null,\"module\":null,\"name\":\"TemplateActions1\",\"overrides\":[],\"properties\":[{\"default\":0,\"kind\":null,\"name\":\"open_modal\"},{\"default\":0,\"kind\":null,\"name\":\"close_modal\"}]},{\"extends\":null,\"module\":null,\"name\":\"MaterialTemplateActions1\",\"overrides\":[],\"properties\":[{\"default\":0,\"kind\":null,\"name\":\"open_modal\"},{\"default\":0,\"kind\":null,\"name\":\"close_modal\"}]}],\"roots\":{\"references\":[{\"attributes\":{},\"id\":\"1875\",\"type\":\"AllLabels\"},{\"attributes\":{\"axis_label\":\"Lat\",\"coordinates\":null,\"formatter\":{\"id\":\"1863\"},\"group\":null,\"major_label_policy\":{\"id\":\"1868\"},\"ticker\":{\"id\":\"1862\"}},\"id\":\"1839\",\"type\":\"LinearAxis\"},{\"attributes\":{\"margin\":[5,5,5,5],\"name\":\"HSpacer02168\",\"sizing_mode\":\"stretch_width\"},\"id\":\"1915\",\"type\":\"Spacer\"},{\"attributes\":{\"axis_label\":\"Long\",\"coordinates\":null,\"formatter\":{\"id\":\"1865\"},\"group\":null,\"major_label_policy\":{\"id\":\"1875\"},\"ticker\":{\"id\":\"1864\"}},\"id\":\"1843\",\"type\":\"LinearAxis\"},{\"attributes\":{},\"id\":\"1904\",\"type\":\"BasicTicker\"},{\"attributes\":{\"axis\":{\"id\":\"1843\"},\"coordinates\":null,\"dimension\":1,\"grid_line_color\":null,\"group\":null,\"ticker\":null},\"id\":\"1846\",\"type\":\"Grid\"},{\"attributes\":{},\"id\":\"1868\",\"type\":\"AllLabels\"},{\"attributes\":{\"coordinates\":null,\"data_source\":{\"id\":\"1894\"},\"glyph\":{\"id\":\"1897\"},\"group\":null,\"hover_glyph\":{\"id\":\"1900\"},\"muted_glyph\":{\"id\":\"1901\"},\"nonselection_glyph\":{\"id\":\"1898\"},\"selection_glyph\":{\"id\":\"1899\"},\"view\":{\"id\":\"1903\"}},\"id\":\"1902\",\"type\":\"GlyphRenderer\"},{\"attributes\":{\"zoom_on_axis\":false},\"id\":\"1849\",\"type\":\"WheelZoomTool\"},{\"attributes\":{\"dimension\":\"lat\"},\"id\":\"1865\",\"type\":\"MercatorTickFormatter\"},{\"attributes\":{\"dimension\":\"lon\"},\"id\":\"1863\",\"type\":\"MercatorTickFormatter\"},{\"attributes\":{},\"id\":\"1847\",\"type\":\"SaveTool\"},{\"attributes\":{\"fill_color\":{\"field\":\"color\",\"transform\":{\"id\":\"1893\"}},\"hatch_color\":{\"field\":\"color\",\"transform\":{\"id\":\"1893\"}},\"line_color\":{\"field\":\"color\",\"transform\":{\"id\":\"1893\"}},\"size\":{\"field\":\"size\"},\"x\":{\"field\":\"Lon\"},\"y\":{\"field\":\"Lat\"}},\"id\":\"1900\",\"type\":\"Scatter\"},{\"attributes\":{\"match_aspect\":true,\"overlay\":{\"id\":\"1852\"}},\"id\":\"1850\",\"type\":\"BoxZoomTool\"},{\"attributes\":{},\"id\":\"1851\",\"type\":\"ResetTool\"},{\"attributes\":{\"dimension\":\"lat\"},\"id\":\"1864\",\"type\":\"MercatorTicker\"},{\"attributes\":{\"fill_alpha\":{\"value\":0.2},\"fill_color\":{\"field\":\"color\",\"transform\":{\"id\":\"1893\"}},\"hatch_alpha\":{\"value\":0.2},\"hatch_color\":{\"field\":\"color\",\"transform\":{\"id\":\"1893\"}},\"line_alpha\":{\"value\":0.2},\"line_color\":{\"field\":\"color\",\"transform\":{\"id\":\"1893\"}},\"size\":{\"field\":\"size\"},\"x\":{\"field\":\"Lon\"},\"y\":{\"field\":\"Lat\"}},\"id\":\"1901\",\"type\":\"Scatter\"},{\"attributes\":{\"dimension\":\"lon\"},\"id\":\"1862\",\"type\":\"MercatorTicker\"},{\"attributes\":{},\"id\":\"1912\",\"type\":\"UnionRenderers\"},{\"attributes\":{\"bottom_units\":\"screen\",\"coordinates\":null,\"fill_alpha\":0.5,\"fill_color\":\"lightgrey\",\"group\":null,\"left_units\":\"screen\",\"level\":\"overlay\",\"line_alpha\":1.0,\"line_color\":\"black\",\"line_dash\":[4,4],\"line_width\":2,\"right_units\":\"screen\",\"syncable\":false,\"top_units\":\"screen\"},\"id\":\"1852\",\"type\":\"BoxAnnotation\"},{\"attributes\":{},\"id\":\"1910\",\"type\":\"NoOverlap\"},{\"attributes\":{\"tools\":[{\"id\":\"1827\"},{\"id\":\"1847\"},{\"id\":\"1848\"},{\"id\":\"1849\"},{\"id\":\"1850\"},{\"id\":\"1851\"}]},\"id\":\"1853\",\"type\":\"Toolbar\"},{\"attributes\":{\"margin\":[5,5,5,5],\"name\":\"HSpacer02167\",\"sizing_mode\":\"stretch_width\"},\"id\":\"1818\",\"type\":\"Spacer\"},{\"attributes\":{\"high\":117131.0,\"low\":130.0,\"palette\":[\"#440154\",\"#440255\",\"#440357\",\"#450558\",\"#45065a\",\"#45085b\",\"#46095c\",\"#460b5e\",\"#460c5f\",\"#460e61\",\"#470f62\",\"#471163\",\"#471265\",\"#471466\",\"#471567\",\"#471669\",\"#47186a\",\"#48196b\",\"#481a6c\",\"#481c6e\",\"#481d6f\",\"#481e70\",\"#482071\",\"#482172\",\"#482273\",\"#482374\",\"#472575\",\"#472676\",\"#472777\",\"#472878\",\"#472a79\",\"#472b7a\",\"#472c7b\",\"#462d7c\",\"#462f7c\",\"#46307d\",\"#46317e\",\"#45327f\",\"#45347f\",\"#453580\",\"#453681\",\"#443781\",\"#443982\",\"#433a83\",\"#433b83\",\"#433c84\",\"#423d84\",\"#423e85\",\"#424085\",\"#414186\",\"#414286\",\"#404387\",\"#404487\",\"#3f4587\",\"#3f4788\",\"#3e4888\",\"#3e4989\",\"#3d4a89\",\"#3d4b89\",\"#3d4c89\",\"#3c4d8a\",\"#3c4e8a\",\"#3b508a\",\"#3b518a\",\"#3a528b\",\"#3a538b\",\"#39548b\",\"#39558b\",\"#38568b\",\"#38578c\",\"#37588c\",\"#37598c\",\"#365a8c\",\"#365b8c\",\"#355c8c\",\"#355d8c\",\"#345e8d\",\"#345f8d\",\"#33608d\",\"#33618d\",\"#32628d\",\"#32638d\",\"#31648d\",\"#31658d\",\"#31668d\",\"#30678d\",\"#30688d\",\"#2f698d\",\"#2f6a8d\",\"#2e6b8e\",\"#2e6c8e\",\"#2e6d8e\",\"#2d6e8e\",\"#2d6f8e\",\"#2c708e\",\"#2c718e\",\"#2c728e\",\"#2b738e\",\"#2b748e\",\"#2a758e\",\"#2a768e\",\"#2a778e\",\"#29788e\",\"#29798e\",\"#287a8e\",\"#287a8e\",\"#287b8e\",\"#277c8e\",\"#277d8e\",\"#277e8e\",\"#267f8e\",\"#26808e\",\"#26818e\",\"#25828e\",\"#25838d\",\"#24848d\",\"#24858d\",\"#24868d\",\"#23878d\",\"#23888d\",\"#23898d\",\"#22898d\",\"#228a8d\",\"#228b8d\",\"#218c8d\",\"#218d8c\",\"#218e8c\",\"#208f8c\",\"#20908c\",\"#20918c\",\"#1f928c\",\"#1f938b\",\"#1f948b\",\"#1f958b\",\"#1f968b\",\"#1e978a\",\"#1e988a\",\"#1e998a\",\"#1e998a\",\"#1e9a89\",\"#1e9b89\",\"#1e9c89\",\"#1e9d88\",\"#1e9e88\",\"#1e9f88\",\"#1ea087\",\"#1fa187\",\"#1fa286\",\"#1fa386\",\"#20a485\",\"#20a585\",\"#21a685\",\"#21a784\",\"#22a784\",\"#23a883\",\"#23a982\",\"#24aa82\",\"#25ab81\",\"#26ac81\",\"#27ad80\",\"#28ae7f\",\"#29af7f\",\"#2ab07e\",\"#2bb17d\",\"#2cb17d\",\"#2eb27c\",\"#2fb37b\",\"#30b47a\",\"#32b57a\",\"#33b679\",\"#35b778\",\"#36b877\",\"#38b976\",\"#39b976\",\"#3bba75\",\"#3dbb74\",\"#3ebc73\",\"#40bd72\",\"#42be71\",\"#44be70\",\"#45bf6f\",\"#47c06e\",\"#49c16d\",\"#4bc26c\",\"#4dc26b\",\"#4fc369\",\"#51c468\",\"#53c567\",\"#55c666\",\"#57c665\",\"#59c764\",\"#5bc862\",\"#5ec961\",\"#60c960\",\"#62ca5f\",\"#64cb5d\",\"#67cc5c\",\"#69cc5b\",\"#6bcd59\",\"#6dce58\",\"#70ce56\",\"#72cf55\",\"#74d054\",\"#77d052\",\"#79d151\",\"#7cd24f\",\"#7ed24e\",\"#81d34c\",\"#83d34b\",\"#86d449\",\"#88d547\",\"#8bd546\",\"#8dd644\",\"#90d643\",\"#92d741\",\"#95d73f\",\"#97d83e\",\"#9ad83c\",\"#9dd93a\",\"#9fd938\",\"#a2da37\",\"#a5da35\",\"#a7db33\",\"#aadb32\",\"#addc30\",\"#afdc2e\",\"#b2dd2c\",\"#b5dd2b\",\"#b7dd29\",\"#bade27\",\"#bdde26\",\"#bfdf24\",\"#c2df22\",\"#c5df21\",\"#c7e01f\",\"#cae01e\",\"#cde01d\",\"#cfe11c\",\"#d2e11b\",\"#d4e11a\",\"#d7e219\",\"#dae218\",\"#dce218\",\"#dfe318\",\"#e1e318\",\"#e4e318\",\"#e7e419\",\"#e9e419\",\"#ece41a\",\"#eee51b\",\"#f1e51c\",\"#f3e51e\",\"#f6e61f\",\"#f8e621\",\"#fae622\",\"#fde724\"]},\"id\":\"1893\",\"type\":\"LinearColorMapper\"},{\"attributes\":{\"children\":[{\"id\":\"1818\"},{\"id\":\"1830\"},{\"id\":\"1915\"}],\"margin\":[0,0,0,0],\"name\":\"Row02163\",\"tags\":[\"embedded\"]},\"id\":\"1817\",\"type\":\"Row\"},{\"attributes\":{\"fill_color\":{\"field\":\"color\",\"transform\":{\"id\":\"1893\"}},\"hatch_color\":{\"field\":\"color\",\"transform\":{\"id\":\"1893\"}},\"line_color\":{\"field\":\"color\",\"transform\":{\"id\":\"1893\"}},\"size\":{\"field\":\"size\"},\"x\":{\"field\":\"Lon\"},\"y\":{\"field\":\"Lat\"}},\"id\":\"1899\",\"type\":\"Scatter\"},{\"attributes\":{},\"id\":\"1848\",\"type\":\"PanTool\"},{\"attributes\":{\"end\":8986086.28987517,\"min_interval\":5,\"reset_end\":8986086.28987517,\"reset_start\":-5102178.460615293,\"start\":-5102178.460615293,\"tags\":[[[\"Lat\",\"Lat\",null]]]},\"id\":\"1824\",\"type\":\"Range1d\"},{\"attributes\":{\"coordinates\":null,\"group\":null,\"text\":\"2020 -2023 World Lay-off population 'Impact'\",\"text_color\":\"black\",\"text_font_size\":\"12pt\"},\"id\":\"1831\",\"type\":\"Title\"},{\"attributes\":{},\"id\":\"1895\",\"type\":\"Selection\"},{\"attributes\":{\"bar_line_color\":\"black\",\"color_mapper\":{\"id\":\"1893\"},\"coordinates\":null,\"group\":null,\"label_standoff\":8,\"location\":[0,0],\"major_label_policy\":{\"id\":\"1910\"},\"major_tick_line_color\":\"black\",\"ticker\":{\"id\":\"1904\"}},\"id\":\"1905\",\"type\":\"ColorBar\"},{\"attributes\":{},\"id\":\"1835\",\"type\":\"LinearScale\"},{\"attributes\":{\"code\":\"\\n        var projections = Bokeh.require(\\\"core/util/projections\\\");\\n        var x = special_vars.data_x\\n        var y = special_vars.data_y\\n        var coords = projections.wgs84_mercator.invert(x, y)\\n        return \\\"\\\" + (coords[1]).toFixed(4)\\n    \"},\"id\":\"1907\",\"type\":\"CustomJSHover\"},{\"attributes\":{\"code\":\"\\n        var projections = Bokeh.require(\\\"core/util/projections\\\");\\n        var x = special_vars.data_x\\n        var y = special_vars.data_y\\n        var coords = projections.wgs84_mercator.invert(x, y)\\n        return \\\"\\\" + (coords[0]).toFixed(4)\\n    \"},\"id\":\"1906\",\"type\":\"CustomJSHover\"},{\"attributes\":{\"data\":{\"Lat\":{\"__ndarray__\":\"nW2i8MQZREHOskT41zJaQeRTDbcFe05BdVNxXAj/SkH3lAXiLVZTQdtnXdWYglJB4bZw2KNFQcEm3XseuTs2QQojR2qTTFpBfyqwX79tUkEuTrkw/6YfQVoqU88o5FNBMEjYCwaSUkHzL+wmNUdIwcKhHyWrXE/BQ9g64RJKWUEt2Xk6fABQQcd2KrhvazZBHHA5V9WdU0H+xDjiiopSQQBaZZubmFxByD1ioE+8TEGZjirn7VdGwRJ30ZqFPDlB4odkN/ZqUkFWNKeRpeBTQfb6vPJpMEZB4Hg4YMfiWkHs1dhrM8xcQW/tOObsqVhBr2ZUlgI+VEEG3nQwTzxJQUp/akGwF2BBuxYtQNGCQ0Gvp+4sEQUlwQMuhGCUfUxBpVglOVUrR8GAIUrQ7vBXQT3CuFTF+SVBGXnp/1J+UEEyqoq5IcdSQfIZW/X5zlJBOch3IDqaWUEAVXNnCQ5QQdkgYdfWyk5BMcd0iH9eUcGmu3LteNRAQX5fsRxgG1JBd1APBwGrRkG6Pb4dR25VQfghiwt4v1VB57mdBeikXEEzDMnB7IJAQb7zyMUHYldBTZ4PY3hwAcEnHYkSXStRQVjPtmBBYUlB7EhEQZP1UkGmeQiJlFZJQcO0nhCwFVVBXUMswQz4X0GayVNOtrJVQU7BMiQMHU9BSCbxpTCJUkH7JB9qkSxOQVa1zUzIzlJBgseLmkOmVEF0TH4f4UxSQbxra4UwTlFBHmUkgk38UkF//fYA4G5NQSzEyjHhB1BBBKgBs8fCVkECFc3g/ZZEwXlFf3ebC1dB8XPbujPyS0Et23E1k6dDQXlM8rmohwFBa97RFTcUV0Hns9CFqM9RQfSRaXOQJlNBSnzA3pt5X0FBRJVglrFWQXIAI02lmk7BDzGWA4mRX0HvFHxgGMxMQdN4yFUhpVRBXXnHnSIbWEHZPPAHRdNVQYRAne6kbVdBIh0skkoiWEHn6inoVfRRQcKDPxCLhVhBVlrpANbyPEE=\",\"dtype\":\"float64\",\"order\":\"little\",\"shape\":[94]},\"Lon\":{\"__ndarray__\":\"NIgvACzSXkEUA3oI458gQTRwWSgN62HBFjFpW+HAZMEdnmEmtZYNQQQFZjF5tmhBXCfdZEqpUsG1NGcNbXlgQfmn/RAJvjZBx3I1zLQWY8G7HfBqqnVfwcgWmvkELV7ByrXg7gBaZsH8yvwf0D5wQQLMRMK40FjBPYRjrw04aMECPpxZPiphweSjZ4caC2FBzYdePtiaYsE3C0KMhZ9hwbavDQ/+WTVBQkPoJc2KY8EAVBM9TexUwR5Y1JIXoz3Bj3kfrHlKZsFMrrq2BKJhwfGRMP/eeldBmS/SA3pEJcGFWtAUwakVwUhm2w2sfi1BcQKT334wYsFVGuls+lpgQW2C1vYSL0VBsL80ON07aEHbfalzna5mQWnAS/rQ6k1BGkwGV1y+VMHMF2PCUIwsQRV+m1W5DxdBoMdVRexyaMHkMRotjr9nwV1z2OXIx2HBLcd4YNLAy8A5g/fvyMxjwSwUCZAcG2nB7CvPJ4HHbkHwXXHeZwxlwZ5aTvg6gmPBIEMvHvEGYcHJL0cRd81jwX4DblnOPV/BCAW7J9TyT0HNB05cnvJeQf9M+aZ1qTNBHO4yetZET0HJzADmx+VkwZ6sX2a2ZGBBo31f+zltX8G6kgzHIWtgQfW827y9il3BlqLkrsA9MkF1FT4SJxJgwaAzv+/PAWPBprGeXQ/rX8GZsdSJ0MtnwUy05vTg+2DB/TmSzG/VXcE3lOOCcXBpwdI9iH6SAGrBDMRfqqHBZ8EPIqiGaOBowdrp1dx6nmnBcr1yH525aME/v34Yic1TwZjSvAZH+WnBb4MBSXzKaUEpsHexiDpoQdpgra3kDGZBYjjkqpTuaMEgVLTeKyljwfAAwJttOl/BFvMu7RCyPkGmYtg+hu9cwTlWSNR6DXBB/vRZ7SgERUGYwxh9SopNQb3aA2bu2mDBKytHzuIjasFFxCM+/wtqwUY8n9RyzztBkqbQCvtcLUE5OpaWVltgwRuON3f7n2TBRJLPE9pqZEE=\",\"dtype\":\"float64\",\"order\":\"little\",\"shape\":[94]},\"color\":{\"__ndarray__\":\"AAAAAABAf0AAAAAAAL3QQAAAAAAAVJ1AAAAAAACKwUAAAAAAAEBvQAAAAAAA+IFAAAAAAADgfkAAAAAAwLDUQAAAAAAAXrFAAAAAAAAAZEAAAAAAAEBgQAAAAAAA5sRAAAAAAADQckAAAAAAAEBoQAAAAAAAMHRAAAAAAADgaUAAAAAAAIBuQAAAAAAAwGJAAAAAAACdtkAAAAAAAKiNQAAAAAAAAG5AAAAAAADAYkAAAAAAAOB8QAAAAAAAwHJAAAAAAAB4gEAAAAAAAHCSQAAAAAAAGI9AAAAAAACAbUAAAAAAAMByQAAAAAAAAGlAAAAAAABAbEAAAAAAAAC1QAAAAAAAQG9AAAAAAADQhkAAAAAAALKoQAAAAAAAwGFAAAAAAADgZ0AAAAAAACBiQAAAAAAAqIFAAAAAAABQeUAAAAAAAIBrQAAAAAAAwHJAAAAAAAD3t0AAAAAAAEBuQAAAAAAACrhAAAAAAABQfUAAAAAAAIBmQAAAAAAAgGZAAAAAAACuokAAAAAAAIBqQAAAAAAAYJBAAAAAAAAAeUAAAAAAAHu2QAAAAAAAkHVAAAAAAADQdUAAAAAAAIB1QAAAAAAA2J1AAAAAAEA720AAAAAAAEBvQAAAAAAAQH9AAAAAAACAYUAAAAAAAPiRQAAAAAAAIHxAAAAAAABIokAAAAAAALmxQAAAAAAACIBAAAAAAAAkmUAAAAAAAAiJQAAAAACwmPxAAAAAAAAYl0AAAAAAAJSfQAAAAAAAMJFAAAAAAACgakAAAAAAAC6/QAAAAACA4+BAAAAAAACkoEAAAAAAAMCiQAAAAAAAL7dAAAAAAABgbkAAAAAAAOiHQAAAAAAAII5AAAAAAADwo0AAAAAAAKBkQAAAAAAAoItAAAAAAACwcEAAAAAAANqmQAAAAAAAQqFAAAAAAABUkkAAAAAAAMBlQAAAAAAA0IFAAAAAAABwp0AAAAAAANShQAAAAAAA4HVAAAAAAAAAaUA=\",\"dtype\":\"float64\",\"order\":\"little\",\"shape\":[94]},\"location\":[\"Ahmedabad\",\"Amsterdam\",\"Atlanta\",\"Austin\",\"Barcelona\",\"Beijing\",\"Belo Horizonte\",\"Bengaluru\",\"Berlin\",\"Berlin\",\"Bogota\",\"Boston\",\"Boulder\",\"Brisbane\",\"Buenos Aires\",\"Calgary\",\"Charlotte\",\"Chennai\",\"Chicago\",\"Columbus\",\"Copenhagen\",\"Copenhagen\",\"Curitiba\",\"Dakar\",\"Denver\",\"Detroit\",\"Dubai\",\"Dublin\",\"Edinburgh\",\"Frankfurt\",\"Grand Rapids\",\"Gurugram\",\"Helsinki\",\"Hong Kong\",\"Jakarta\",\"Jerusalem\",\"Joinville\",\"Karlsruhe\",\"Lagos\",\"Las Vegas\",\"Lehi\",\"Logan\",\"London\",\"London\",\"Los Angeles\",\"Melbourne\",\"Mexico City\",\"Mexico City\",\"Miami\",\"Minneapolis\",\"Montreal\",\"Moscow\",\"Mumbai\",\"Munich\",\"Nairobi\",\"Nashville\",\"New Delhi\",\"New York City\",\"Noida\",\"Non-U.S.\",\"Oslo\",\"Ottawa\",\"Oxford\",\"Philadelphia\",\"Phoenix\",\"Pittsburgh\",\"Portland\",\"Reno\",\"SF Bay Area\",\"Salt Lake City\",\"San Diego\",\"San Luis Obispo\",\"Santa Fe\",\"Sao Paulo\",\"Seattle\",\"Shanghai\",\"Shenzen\",\"Singapore\",\"Spokane\",\"St. Louis\",\"Stamford\",\"Stockholm\",\"Stockholm\",\"Sydney\",\"Tallin\",\"Tel Aviv\",\"Toronto\",\"Vancouver\",\"Vancouver\",\"Vienna\",\"Walldorf\",\"Washington D.C.\",\"Winnipeg\",\"Yangon\"],\"size\":{\"__ndarray__\":\"0vF9glVcNkCacjUwb11gQAt0fZCEqUVAG5XRutKwV0An8pBJbp8vQBzF1BKq+jdAG0I+ZeI5NkCQYn1w1zFiQJSx7stpq1BAU1vaOlhMKUDrErK7ss0mQCkNWyM23FlAm2bMGm9ZMUC8/VC1VdsrQGF/Eibi+DFAIoYysGXGLEBodE4Xsj0vQHppC5mxfihAplHAeXgFU0C9ICrES84+QNpOT7He+y5AemkLmbF+KECNvtrsgn41QOsvN9EMUjFAUl4Q6dv0NkATosbD8SxBQGOHFLgqiz9A255bRX65LkDrLzfRDFIxQMAKHwDGSCxAr18QOQwRLkCFHhW5jlRSQCfykEluny9AIzu2Nr0EO0AtXSrEgxxMQOkJSCQv1SdAfC1nFPujK0AmNXfiSxUoQKr+ye8MxTdAPfMKj+YfNEDY4arvL6otQOsvN9EMUjFAhVMmIeGUU0A58u7M2RwvQGSL28SinFNA0dfoVwqoNUD87mNpM9UqQPzuY2kz1SpAjb901uxySEDp+3Yg1R4tQEgP49S4L0BAAAAAAAAANEC13B9cJvdSQGJiaiz9kjJAWCgvhHmuMkA0eDO5F4wyQMZbCdIN2kVAR66B453fZEAn8pBJbp8vQNLxfYJVXDZALcKT0RCqJ0AWgsbxsPRAQBBIF4CUNjVAOJgSX9AvSEDZYkRK3dZQQIUbQdlFpjZA4PEDO2EOREDiypMpTE08QDCyqLDnY3VADj8MFO44Q0CuAK/sTnpGQIFlfpxHlUBAZ67I3GQwLUB5SiD541VWQGN1WdFPP2dA02fNNnITR0B6aQuZsX5IQBegHi1+QlNAQFZjRUotL0DnRVgynKg7QLOnM6BgDD9ASgc+qjdCSUDOwhVTwrApQC+k41xtuz1ANgdMEBNXMEBURBuQqApLQAAAAAAAgEdAmAIPGuIfQUCXyf5svmEqQBIiCY7q3zdA807ERtliS0D8qZanmOJHQI4n4UpStTJAwAofAMZILEA=\",\"dtype\":\"float64\",\"order\":\"little\",\"shape\":[94]},\"total_laid_off\":{\"__ndarray__\":\"AAAAAABAf0AAAAAAAL3QQAAAAAAAVJ1AAAAAAACKwUAAAAAAAEBvQAAAAAAA+IFAAAAAAADgfkAAAAAAwLDUQAAAAAAAXrFAAAAAAAAAZEAAAAAAAEBgQAAAAAAA5sRAAAAAAADQckAAAAAAAEBoQAAAAAAAMHRAAAAAAADgaUAAAAAAAIBuQAAAAAAAwGJAAAAAAACdtkAAAAAAAKiNQAAAAAAAAG5AAAAAAADAYkAAAAAAAOB8QAAAAAAAwHJAAAAAAAB4gEAAAAAAAHCSQAAAAAAAGI9AAAAAAACAbUAAAAAAAMByQAAAAAAAAGlAAAAAAABAbEAAAAAAAAC1QAAAAAAAQG9AAAAAAADQhkAAAAAAALKoQAAAAAAAwGFAAAAAAADgZ0AAAAAAACBiQAAAAAAAqIFAAAAAAABQeUAAAAAAAIBrQAAAAAAAwHJAAAAAAAD3t0AAAAAAAEBuQAAAAAAACrhAAAAAAABQfUAAAAAAAIBmQAAAAAAAgGZAAAAAAACuokAAAAAAAIBqQAAAAAAAYJBAAAAAAAAAeUAAAAAAAHu2QAAAAAAAkHVAAAAAAADQdUAAAAAAAIB1QAAAAAAA2J1AAAAAAEA720AAAAAAAEBvQAAAAAAAQH9AAAAAAACAYUAAAAAAAPiRQAAAAAAAIHxAAAAAAABIokAAAAAAALmxQAAAAAAACIBAAAAAAAAkmUAAAAAAAAiJQAAAAACwmPxAAAAAAAAYl0AAAAAAAJSfQAAAAAAAMJFAAAAAAACgakAAAAAAAC6/QAAAAACA4+BAAAAAAACkoEAAAAAAAMCiQAAAAAAAL7dAAAAAAABgbkAAAAAAAOiHQAAAAAAAII5AAAAAAADwo0AAAAAAAKBkQAAAAAAAoItAAAAAAACwcEAAAAAAANqmQAAAAAAAQqFAAAAAAABUkkAAAAAAAMBlQAAAAAAA0IFAAAAAAABwp0AAAAAAANShQAAAAAAA4HVAAAAAAAAAaUA=\",\"dtype\":\"float64\",\"order\":\"little\",\"shape\":[94]}},\"selected\":{\"id\":\"1895\"},\"selection_policy\":{\"id\":\"1912\"}},\"id\":\"1894\",\"type\":\"ColumnDataSource\"},{\"attributes\":{},\"id\":\"1837\",\"type\":\"LinearScale\"},{\"attributes\":{\"callback\":null,\"formatters\":{\"$x\":{\"id\":\"1906\"},\"$y\":{\"id\":\"1907\"}},\"renderers\":[{\"id\":\"1902\"}],\"tags\":[\"hv_created\"],\"tooltips\":[[\"Lon\",\"$x{custom}\"],[\"Lat\",\"$y{custom}\"],[\"total_laid_off\",\"@{total_laid_off}\"],[\"location\",\"@{location}\"]]},\"id\":\"1827\",\"type\":\"HoverTool\"},{\"attributes\":{\"attribution\":\"Map tiles by <a href=\\\"https://stamen.com\\\">Stamen Design</a>, under <a href=\\\"https://creativecommons.org/licenses/by/3.0\\\">CC BY 3.0</a>. Data by <a href=\\\"https://openstreetmap.org\\\">OpenStreetMap</a>, under <a href=\\\"https://www.openstreetmap.org/copyright\\\">ODbL</a>.\",\"url\":\"https://stamen-tiles.a.ssl.fastly.net/toner-background/{Z}/{X}/{Y}.png\"},\"id\":\"1888\",\"type\":\"WMTSTileSource\"},{\"attributes\":{\"axis\":{\"id\":\"1839\"},\"coordinates\":null,\"grid_line_color\":null,\"group\":null,\"ticker\":null},\"id\":\"1842\",\"type\":\"Grid\"},{\"attributes\":{\"coordinates\":null,\"group\":null,\"level\":\"glyph\",\"tile_source\":{\"id\":\"1888\"}},\"id\":\"1891\",\"type\":\"TileRenderer\"},{\"attributes\":{\"fill_color\":{\"field\":\"color\",\"transform\":{\"id\":\"1893\"}},\"hatch_color\":{\"field\":\"color\",\"transform\":{\"id\":\"1893\"}},\"line_color\":{\"field\":\"color\",\"transform\":{\"id\":\"1893\"}},\"size\":{\"field\":\"size\"},\"x\":{\"field\":\"Lon\"},\"y\":{\"field\":\"Lat\"}},\"id\":\"1897\",\"type\":\"Scatter\"},{\"attributes\":{\"end\":20108445.91017408,\"min_interval\":5,\"reset_end\":20108445.91017408,\"reset_start\":-16778930.35714465,\"start\":-16778930.35714465,\"tags\":[[[\"Lon\",\"Lon\",null]]]},\"id\":\"1823\",\"type\":\"Range1d\"},{\"attributes\":{\"fill_alpha\":{\"value\":0.1},\"fill_color\":{\"field\":\"color\",\"transform\":{\"id\":\"1893\"}},\"hatch_alpha\":{\"value\":0.1},\"hatch_color\":{\"field\":\"color\",\"transform\":{\"id\":\"1893\"}},\"line_alpha\":{\"value\":0.1},\"line_color\":{\"field\":\"color\",\"transform\":{\"id\":\"1893\"}},\"size\":{\"field\":\"size\"},\"x\":{\"field\":\"Lon\"},\"y\":{\"field\":\"Lat\"}},\"id\":\"1898\",\"type\":\"Scatter\"},{\"attributes\":{\"source\":{\"id\":\"1894\"}},\"id\":\"1903\",\"type\":\"CDSView\"},{\"attributes\":{\"below\":[{\"id\":\"1839\"}],\"center\":[{\"id\":\"1842\"},{\"id\":\"1846\"}],\"frame_height\":1527,\"frame_width\":4000,\"height\":null,\"left\":[{\"id\":\"1843\"}],\"margin\":[5,5,5,5],\"match_aspect\":true,\"min_border_bottom\":10,\"min_border_left\":10,\"min_border_right\":10,\"min_border_top\":10,\"renderers\":[{\"id\":\"1891\"},{\"id\":\"1902\"}],\"right\":[{\"id\":\"1905\"}],\"sizing_mode\":\"fixed\",\"title\":{\"id\":\"1831\"},\"toolbar\":{\"id\":\"1853\"},\"width\":null,\"x_range\":{\"id\":\"1823\"},\"x_scale\":{\"id\":\"1835\"},\"y_range\":{\"id\":\"1824\"},\"y_scale\":{\"id\":\"1837\"}},\"id\":\"1830\",\"subtype\":\"Figure\",\"type\":\"Plot\"}],\"root_ids\":[\"1817\"]},\"title\":\"Bokeh Application\",\"version\":\"2.4.3\"}};\n",
       "    var render_items = [{\"docid\":\"cffa564f-58c1-4e9a-9a71-169c23f2755b\",\"root_ids\":[\"1817\"],\"roots\":{\"1817\":\"2d4d0509-78fb-4df6-ba1b-4c6680278600\"}}];\n",
       "    root.Bokeh.embed.embed_items_notebook(docs_json, render_items);\n",
       "    for (const render_item of render_items) {\n",
       "      for (const root_id of render_item.root_ids) {\n",
       "\tconst id_el = document.getElementById(root_id)\n",
       "\tif (id_el.children.length && (id_el.children[0].className === 'bk-root')) {\n",
       "\t  const root_el = id_el.children[0]\n",
       "\t  root_el.id = root_el.id + '-rendered'\n",
       "\t}\n",
       "      }\n",
       "    }\n",
       "  }\n",
       "  if (root.Bokeh !== undefined && root.Bokeh.Panel !== undefined) {\n",
       "    embed_document(root);\n",
       "  } else {\n",
       "    var attempts = 0;\n",
       "    var timer = setInterval(function(root) {\n",
       "      if (root.Bokeh !== undefined && root.Bokeh.Panel !== undefined) {\n",
       "        clearInterval(timer);\n",
       "        embed_document(root);\n",
       "      } else if (document.readyState == \"complete\") {\n",
       "        attempts++;\n",
       "        if (attempts > 200) {\n",
       "          clearInterval(timer);\n",
       "          console.log(\"Bokeh: ERROR: Unable to run BokehJS code because BokehJS library is missing\");\n",
       "        }\n",
       "      }\n",
       "    }, 25, root)\n",
       "  }\n",
       "})(window);</script>"
      ],
      "text/plain": [
       ":Overlay\n",
       "   .Tiles.I  :Tiles   [x,y]\n",
       "   .Points.I :Points   [Lon,Lat]   (total_laid_off,location)"
      ]
     },
     "execution_count": 13,
     "metadata": {
      "application/vnd.holoviews_exec.v0+json": {
       "id": "1817"
      }
     },
     "output_type": "execute_result"
    }
   ],
   "source": [
    "#Creation of graph were the attribute size provides the proportion of the Layoffs\n",
    "World_impact_layoff=addedlist4.hvplot.points(\n",
    "    \"Lon\",\n",
    "    \"Lat\",\n",
    "    geo=\"True\",\n",
    "     #tiles = \"OSM\",\n",
    "     frame_width = 4000,\n",
    "    # frame_height = 600 ,\n",
    "    color=(\"total_laid_off\"), #show different colors base on the layof numbers\n",
    "    hover_cols=[\"total_laid_off\",\"location\"],\n",
    "    scale=1,\n",
    "     project=False, \n",
    "    rasterize=False,  dynamic=False,tiles='StamenTonerBackground',title=\"2020 -2023 World Lay-off population 'Impact'\",size='total_laid_off',cmap='viridis').opts(\n",
    "    xlabel='Lat',\n",
    "    ylabel='Long',\n",
    ")\n",
    "hvplot.save(World_impact_layoff,'../output/US Impact vs world layoff.png') #graph saved in PNG format\n",
    "World_impact_layoff\n"
   ]
  },
  {
   "attachments": {},
   "cell_type": "markdown",
   "metadata": {},
   "source": [
    "**Preparing data to compare by the slected industres**"
   ]
  },
  {
   "cell_type": "code",
   "execution_count": 14,
   "metadata": {},
   "outputs": [
    {
     "data": {
      "text/html": [
       "<div>\n",
       "<style scoped>\n",
       "    .dataframe tbody tr th:only-of-type {\n",
       "        vertical-align: middle;\n",
       "    }\n",
       "\n",
       "    .dataframe tbody tr th {\n",
       "        vertical-align: top;\n",
       "    }\n",
       "\n",
       "    .dataframe thead th {\n",
       "        text-align: right;\n",
       "    }\n",
       "</style>\n",
       "<table border=\"1\" class=\"dataframe\">\n",
       "  <thead>\n",
       "    <tr style=\"text-align: right;\">\n",
       "      <th></th>\n",
       "      <th></th>\n",
       "      <th>total_laid_off</th>\n",
       "    </tr>\n",
       "    <tr>\n",
       "      <th>industry</th>\n",
       "      <th>date</th>\n",
       "      <th></th>\n",
       "    </tr>\n",
       "  </thead>\n",
       "  <tbody>\n",
       "    <tr>\n",
       "      <th rowspan=\"5\" valign=\"top\">Finance</th>\n",
       "      <th>2020-03-23</th>\n",
       "      <td>13.0</td>\n",
       "    </tr>\n",
       "    <tr>\n",
       "      <th>2020-03-30</th>\n",
       "      <td>51.0</td>\n",
       "    </tr>\n",
       "    <tr>\n",
       "      <th>2020-03-31</th>\n",
       "      <td>0.0</td>\n",
       "    </tr>\n",
       "    <tr>\n",
       "      <th>2020-04-01</th>\n",
       "      <td>50.0</td>\n",
       "    </tr>\n",
       "    <tr>\n",
       "      <th>2020-04-03</th>\n",
       "      <td>35.0</td>\n",
       "    </tr>\n",
       "    <tr>\n",
       "      <th>...</th>\n",
       "      <th>...</th>\n",
       "      <td>...</td>\n",
       "    </tr>\n",
       "    <tr>\n",
       "      <th rowspan=\"5\" valign=\"top\">Healthcare</th>\n",
       "      <th>2023-01-27</th>\n",
       "      <td>0.0</td>\n",
       "    </tr>\n",
       "    <tr>\n",
       "      <th>2023-01-30</th>\n",
       "      <td>0.0</td>\n",
       "    </tr>\n",
       "    <tr>\n",
       "      <th>2023-02-01</th>\n",
       "      <td>56.0</td>\n",
       "    </tr>\n",
       "    <tr>\n",
       "      <th>2023-02-02</th>\n",
       "      <td>127.0</td>\n",
       "    </tr>\n",
       "    <tr>\n",
       "      <th>2023-02-05</th>\n",
       "      <td>70.0</td>\n",
       "    </tr>\n",
       "  </tbody>\n",
       "</table>\n",
       "<p>273 rows × 1 columns</p>\n",
       "</div>"
      ],
      "text/plain": [
       "                       total_laid_off\n",
       "industry   date                      \n",
       "Finance    2020-03-23            13.0\n",
       "           2020-03-30            51.0\n",
       "           2020-03-31             0.0\n",
       "           2020-04-01            50.0\n",
       "           2020-04-03            35.0\n",
       "...                               ...\n",
       "Healthcare 2023-01-27             0.0\n",
       "           2023-01-30             0.0\n",
       "           2023-02-01            56.0\n",
       "           2023-02-02           127.0\n",
       "           2023-02-05            70.0\n",
       "\n",
       "[273 rows x 1 columns]"
      ]
     },
     "execution_count": 14,
     "metadata": {},
     "output_type": "execute_result"
    }
   ],
   "source": [
    "#Getting the original df as a copy\n",
    "by_month_lay=industry_lay_df\n",
    "#this df  I did not use for the project but I will keep it because I'm plannng to add other views \n",
    "by_month_lay['date']=pd.to_datetime(by_month_lay['date'])\n",
    "by_month_lay['month']=(by_month_lay['date']).dt.month\n",
    "by_month_lay['year']=(by_month_lay['date']).dt.year\n",
    "#Filtering the df by the industries selected and just the US\n",
    "similar_ind=by_month_lay.loc[(by_month_lay['industry']==\"Food\") |(by_month_lay['industry']==\"Finance\") |(by_month_lay['industry']==\"Healthcare\")]\n",
    "similar_indUS=similar_ind.loc[(similar_ind['country']==\"United States\")]\n",
    "#deleting columns that I wont be using\n",
    "similar_indUS_clean=similar_indUS.drop(['percentage_laid_off','funds_raised','company','stage','World','location','month','year'],axis=1)\n",
    "#Grouping and adding \n",
    "similar_indUS_clean2=similar_indUS_clean.groupby(['industry','date']).sum()\n",
    "similar_indUS_clean2\n"
   ]
  },
  {
   "cell_type": "code",
   "execution_count": 15,
   "metadata": {},
   "outputs": [],
   "source": [
    "#resetting indexes\n",
    "similar_indUS_clean2.reset_index(inplace=True)\n"
   ]
  },
  {
   "attachments": {},
   "cell_type": "markdown",
   "metadata": {},
   "source": [
    "**Calling back the DF prepared with the Unemplyment data from 2020 forward. To compare Unemployment vs Lay off  US**"
   ]
  },
  {
   "cell_type": "code",
   "execution_count": 16,
   "metadata": {},
   "outputs": [
    {
     "data": {
      "text/html": [
       "<div>\n",
       "<style scoped>\n",
       "    .dataframe tbody tr th:only-of-type {\n",
       "        vertical-align: middle;\n",
       "    }\n",
       "\n",
       "    .dataframe tbody tr th {\n",
       "        vertical-align: top;\n",
       "    }\n",
       "\n",
       "    .dataframe thead th {\n",
       "        text-align: right;\n",
       "    }\n",
       "</style>\n",
       "<table border=\"1\" class=\"dataframe\">\n",
       "  <thead>\n",
       "    <tr style=\"text-align: right;\">\n",
       "      <th></th>\n",
       "      <th>Unnamed: 0</th>\n",
       "      <th>Unemployment Rate (S)</th>\n",
       "      <th>Unemployment Rate (U)</th>\n",
       "      <th>Women (S)</th>\n",
       "      <th>Men (S)</th>\n",
       "      <th>Part-Time Workers (S)</th>\n",
       "      <th>Full-Time Workers (S)</th>\n",
       "      <th>Leisure and Hospitality (U)</th>\n",
       "      <th>Education and Health Services (U)</th>\n",
       "      <th>Financial Activities Industry (U)</th>\n",
       "      <th>...</th>\n",
       "      <th>Utah (S)</th>\n",
       "      <th>Vermont (S)</th>\n",
       "      <th>Virginia (S)</th>\n",
       "      <th>Washington (S)</th>\n",
       "      <th>West Virginia (S)</th>\n",
       "      <th>Wisconsin (S)</th>\n",
       "      <th>Wyoming (S)</th>\n",
       "      <th>month</th>\n",
       "      <th>year</th>\n",
       "      <th>period</th>\n",
       "    </tr>\n",
       "  </thead>\n",
       "  <tbody>\n",
       "    <tr>\n",
       "      <th>24</th>\n",
       "      <td>2020-01-01</td>\n",
       "      <td>3.5</td>\n",
       "      <td>4.0</td>\n",
       "      <td>3.5</td>\n",
       "      <td>3.5</td>\n",
       "      <td>4.0</td>\n",
       "      <td>3.5</td>\n",
       "      <td>5.9</td>\n",
       "      <td>2.4</td>\n",
       "      <td>2.5</td>\n",
       "      <td>...</td>\n",
       "      <td>2.5</td>\n",
       "      <td>2.5</td>\n",
       "      <td>2.6</td>\n",
       "      <td>3.9</td>\n",
       "      <td>5.1</td>\n",
       "      <td>3.1</td>\n",
       "      <td>4.7</td>\n",
       "      <td>1</td>\n",
       "      <td>2020</td>\n",
       "      <td>2020 1</td>\n",
       "    </tr>\n",
       "    <tr>\n",
       "      <th>25</th>\n",
       "      <td>2020-02-01</td>\n",
       "      <td>3.5</td>\n",
       "      <td>3.8</td>\n",
       "      <td>3.4</td>\n",
       "      <td>3.5</td>\n",
       "      <td>3.6</td>\n",
       "      <td>3.5</td>\n",
       "      <td>5.7</td>\n",
       "      <td>2.4</td>\n",
       "      <td>1.7</td>\n",
       "      <td>...</td>\n",
       "      <td>2.6</td>\n",
       "      <td>2.6</td>\n",
       "      <td>2.7</td>\n",
       "      <td>3.9</td>\n",
       "      <td>5.1</td>\n",
       "      <td>3.0</td>\n",
       "      <td>4.9</td>\n",
       "      <td>2</td>\n",
       "      <td>2020</td>\n",
       "      <td>2020 2</td>\n",
       "    </tr>\n",
       "    <tr>\n",
       "      <th>26</th>\n",
       "      <td>2020-03-01</td>\n",
       "      <td>4.4</td>\n",
       "      <td>4.5</td>\n",
       "      <td>4.4</td>\n",
       "      <td>4.4</td>\n",
       "      <td>5.9</td>\n",
       "      <td>4.1</td>\n",
       "      <td>8.1</td>\n",
       "      <td>3.1</td>\n",
       "      <td>2.2</td>\n",
       "      <td>...</td>\n",
       "      <td>2.5</td>\n",
       "      <td>2.7</td>\n",
       "      <td>2.9</td>\n",
       "      <td>5.3</td>\n",
       "      <td>5.2</td>\n",
       "      <td>2.9</td>\n",
       "      <td>5.2</td>\n",
       "      <td>3</td>\n",
       "      <td>2020</td>\n",
       "      <td>2020 3</td>\n",
       "    </tr>\n",
       "    <tr>\n",
       "      <th>27</th>\n",
       "      <td>2020-04-01</td>\n",
       "      <td>14.7</td>\n",
       "      <td>14.4</td>\n",
       "      <td>16.2</td>\n",
       "      <td>13.5</td>\n",
       "      <td>24.3</td>\n",
       "      <td>12.9</td>\n",
       "      <td>39.3</td>\n",
       "      <td>10.9</td>\n",
       "      <td>5.4</td>\n",
       "      <td>...</td>\n",
       "      <td>10.0</td>\n",
       "      <td>14.3</td>\n",
       "      <td>11.6</td>\n",
       "      <td>16.8</td>\n",
       "      <td>15.5</td>\n",
       "      <td>14.1</td>\n",
       "      <td>5.4</td>\n",
       "      <td>4</td>\n",
       "      <td>2020</td>\n",
       "      <td>2020 4</td>\n",
       "    </tr>\n",
       "    <tr>\n",
       "      <th>28</th>\n",
       "      <td>2020-05-01</td>\n",
       "      <td>13.2</td>\n",
       "      <td>13.0</td>\n",
       "      <td>14.5</td>\n",
       "      <td>12.1</td>\n",
       "      <td>19.6</td>\n",
       "      <td>11.9</td>\n",
       "      <td>35.9</td>\n",
       "      <td>10.1</td>\n",
       "      <td>5.7</td>\n",
       "      <td>...</td>\n",
       "      <td>7.6</td>\n",
       "      <td>9.5</td>\n",
       "      <td>9.6</td>\n",
       "      <td>13.2</td>\n",
       "      <td>12.2</td>\n",
       "      <td>10.4</td>\n",
       "      <td>8.6</td>\n",
       "      <td>5</td>\n",
       "      <td>2020</td>\n",
       "      <td>2020 5</td>\n",
       "    </tr>\n",
       "  </tbody>\n",
       "</table>\n",
       "<p>5 rows × 65 columns</p>\n",
       "</div>"
      ],
      "text/plain": [
       "   Unnamed: 0  Unemployment Rate (S)  Unemployment Rate (U)  Women (S)  \\\n",
       "24 2020-01-01                    3.5                    4.0        3.5   \n",
       "25 2020-02-01                    3.5                    3.8        3.4   \n",
       "26 2020-03-01                    4.4                    4.5        4.4   \n",
       "27 2020-04-01                   14.7                   14.4       16.2   \n",
       "28 2020-05-01                   13.2                   13.0       14.5   \n",
       "\n",
       "    Men (S)  Part-Time Workers (S)  Full-Time Workers (S)  \\\n",
       "24      3.5                    4.0                    3.5   \n",
       "25      3.5                    3.6                    3.5   \n",
       "26      4.4                    5.9                    4.1   \n",
       "27     13.5                   24.3                   12.9   \n",
       "28     12.1                   19.6                   11.9   \n",
       "\n",
       "    Leisure and Hospitality (U)  Education and Health Services (U)  \\\n",
       "24                          5.9                                2.4   \n",
       "25                          5.7                                2.4   \n",
       "26                          8.1                                3.1   \n",
       "27                         39.3                               10.9   \n",
       "28                         35.9                               10.1   \n",
       "\n",
       "    Financial Activities Industry (U)  ...  Utah (S)  Vermont (S)  \\\n",
       "24                                2.5  ...       2.5          2.5   \n",
       "25                                1.7  ...       2.6          2.6   \n",
       "26                                2.2  ...       2.5          2.7   \n",
       "27                                5.4  ...      10.0         14.3   \n",
       "28                                5.7  ...       7.6          9.5   \n",
       "\n",
       "    Virginia (S)  Washington (S)  West Virginia (S)  Wisconsin (S)  \\\n",
       "24           2.6             3.9                5.1            3.1   \n",
       "25           2.7             3.9                5.1            3.0   \n",
       "26           2.9             5.3                5.2            2.9   \n",
       "27          11.6            16.8               15.5           14.1   \n",
       "28           9.6            13.2               12.2           10.4   \n",
       "\n",
       "    Wyoming (S)  month  year  period  \n",
       "24          4.7      1  2020  2020 1  \n",
       "25          4.9      2  2020  2020 2  \n",
       "26          5.2      3  2020  2020 3  \n",
       "27          5.4      4  2020  2020 4  \n",
       "28          8.6      5  2020  2020 5  \n",
       "\n",
       "[5 rows x 65 columns]"
      ]
     },
     "execution_count": 16,
     "metadata": {},
     "output_type": "execute_result"
    }
   ],
   "source": [
    "indus_unmp2.head()"
   ]
  },
  {
   "cell_type": "code",
   "execution_count": 17,
   "metadata": {},
   "outputs": [],
   "source": [
    "#grouping data by date in a year month format. df not use now, it will be further develop\n",
    "indus_unmp3=indus_unmp2.groupby([indus_unmp2['Unnamed: 0'].dt.year,indus_unmp2['Unnamed: 0'].dt.month])['Leisure and Hospitality (U)'].sum()\n",
    "#indus_unmp3\n"
   ]
  },
  {
   "attachments": {},
   "cell_type": "markdown",
   "metadata": {},
   "source": [
    "**Unemployment data seen from 2020, Below LayOff data in the same period of time**"
   ]
  },
  {
   "cell_type": "code",
   "execution_count": 18,
   "metadata": {},
   "outputs": [
    {
     "data": {},
     "metadata": {},
     "output_type": "display_data"
    },
    {
     "data": {
      "application/vnd.holoviews_exec.v0+json": "",
      "text/html": [
       "<div id='2519'>\n",
       "  <div class=\"bk-root\" id=\"10c87cdc-8566-4a39-a5d9-6e5bc34fd02f\" data-root-id=\"2519\"></div>\n",
       "</div>\n",
       "<script type=\"application/javascript\">(function(root) {\n",
       "  function embed_document(root) {\n",
       "    var docs_json = {\"13f6e290-e6fe-4aa5-b1fc-fed208fa1ed9\":{\"defs\":[{\"extends\":null,\"module\":null,\"name\":\"ReactiveHTML1\",\"overrides\":[],\"properties\":[]},{\"extends\":null,\"module\":null,\"name\":\"FlexBox1\",\"overrides\":[],\"properties\":[{\"default\":\"flex-start\",\"kind\":null,\"name\":\"align_content\"},{\"default\":\"flex-start\",\"kind\":null,\"name\":\"align_items\"},{\"default\":\"row\",\"kind\":null,\"name\":\"flex_direction\"},{\"default\":\"wrap\",\"kind\":null,\"name\":\"flex_wrap\"},{\"default\":\"flex-start\",\"kind\":null,\"name\":\"justify_content\"}]},{\"extends\":null,\"module\":null,\"name\":\"GridStack1\",\"overrides\":[],\"properties\":[{\"default\":\"warn\",\"kind\":null,\"name\":\"mode\"},{\"default\":null,\"kind\":null,\"name\":\"ncols\"},{\"default\":null,\"kind\":null,\"name\":\"nrows\"},{\"default\":true,\"kind\":null,\"name\":\"allow_resize\"},{\"default\":true,\"kind\":null,\"name\":\"allow_drag\"},{\"default\":[],\"kind\":null,\"name\":\"state\"}]},{\"extends\":null,\"module\":null,\"name\":\"click1\",\"overrides\":[],\"properties\":[{\"default\":\"\",\"kind\":null,\"name\":\"terminal_output\"},{\"default\":\"\",\"kind\":null,\"name\":\"debug_name\"},{\"default\":0,\"kind\":null,\"name\":\"clears\"}]},{\"extends\":null,\"module\":null,\"name\":\"NotificationAreaBase1\",\"overrides\":[],\"properties\":[{\"default\":\"bottom-right\",\"kind\":null,\"name\":\"position\"},{\"default\":0,\"kind\":null,\"name\":\"_clear\"}]},{\"extends\":null,\"module\":null,\"name\":\"NotificationArea1\",\"overrides\":[],\"properties\":[{\"default\":[],\"kind\":null,\"name\":\"notifications\"},{\"default\":\"bottom-right\",\"kind\":null,\"name\":\"position\"},{\"default\":0,\"kind\":null,\"name\":\"_clear\"},{\"default\":[{\"background\":\"#ffc107\",\"icon\":{\"className\":\"fas fa-exclamation-triangle\",\"color\":\"white\",\"tagName\":\"i\"},\"type\":\"warning\"},{\"background\":\"#007bff\",\"icon\":{\"className\":\"fas fa-info-circle\",\"color\":\"white\",\"tagName\":\"i\"},\"type\":\"info\"}],\"kind\":null,\"name\":\"types\"}]},{\"extends\":null,\"module\":null,\"name\":\"Notification\",\"overrides\":[],\"properties\":[{\"default\":null,\"kind\":null,\"name\":\"background\"},{\"default\":3000,\"kind\":null,\"name\":\"duration\"},{\"default\":null,\"kind\":null,\"name\":\"icon\"},{\"default\":\"\",\"kind\":null,\"name\":\"message\"},{\"default\":null,\"kind\":null,\"name\":\"notification_type\"},{\"default\":false,\"kind\":null,\"name\":\"_destroyed\"}]},{\"extends\":null,\"module\":null,\"name\":\"TemplateActions1\",\"overrides\":[],\"properties\":[{\"default\":0,\"kind\":null,\"name\":\"open_modal\"},{\"default\":0,\"kind\":null,\"name\":\"close_modal\"}]},{\"extends\":null,\"module\":null,\"name\":\"MaterialTemplateActions1\",\"overrides\":[],\"properties\":[{\"default\":0,\"kind\":null,\"name\":\"open_modal\"},{\"default\":0,\"kind\":null,\"name\":\"close_modal\"}]}],\"roots\":{\"references\":[{\"attributes\":{\"source\":{\"id\":\"2635\"}},\"id\":\"2642\",\"type\":\"CDSView\"},{\"attributes\":{},\"id\":\"2563\",\"type\":\"DatetimeTickFormatter\"},{\"attributes\":{\"line_color\":\"#e5ae38\",\"line_width\":2,\"x\":{\"field\":\"Unnamed: 0\"},\"y\":{\"field\":\"value\"}},\"id\":\"2638\",\"type\":\"Line\"},{\"attributes\":{\"line_alpha\":0.1,\"line_color\":\"#e5ae38\",\"line_width\":2,\"x\":{\"field\":\"Unnamed: 0\"},\"y\":{\"field\":\"value\"}},\"id\":\"2639\",\"type\":\"Line\"},{\"attributes\":{},\"id\":\"2564\",\"type\":\"AllLabels\"},{\"attributes\":{\"line_alpha\":0.2,\"line_color\":\"#e5ae38\",\"line_width\":2,\"x\":{\"field\":\"Unnamed: 0\"},\"y\":{\"field\":\"value\"}},\"id\":\"2640\",\"type\":\"Line\"},{\"attributes\":{},\"id\":\"2583\",\"type\":\"UnionRenderers\"},{\"attributes\":{\"coordinates\":null,\"data_source\":{\"id\":\"2635\"},\"glyph\":{\"id\":\"2638\"},\"group\":null,\"hover_glyph\":null,\"muted_glyph\":{\"id\":\"2640\"},\"nonselection_glyph\":{\"id\":\"2639\"},\"selection_glyph\":{\"id\":\"2670\"},\"view\":{\"id\":\"2642\"}},\"id\":\"2641\",\"type\":\"GlyphRenderer\"},{\"attributes\":{\"label\":{\"value\":\"Education and Health Services (U)\"},\"renderers\":[{\"id\":\"2641\"}]},\"id\":\"2669\",\"type\":\"LegendItem\"},{\"attributes\":{},\"id\":\"2654\",\"type\":\"UnionRenderers\"},{\"attributes\":{\"line_color\":\"#30a2da\",\"line_width\":2,\"x\":{\"field\":\"Unnamed: 0\"},\"y\":{\"field\":\"value\"}},\"id\":\"2600\",\"type\":\"Line\"},{\"attributes\":{\"margin\":[5,5,5,5],\"name\":\"HSpacer02541\",\"sizing_mode\":\"stretch_width\"},\"id\":\"2520\",\"type\":\"Spacer\"},{\"attributes\":{},\"id\":\"2566\",\"type\":\"BasicTickFormatter\"},{\"attributes\":{},\"id\":\"2567\",\"type\":\"AllLabels\"},{\"attributes\":{\"children\":[{\"id\":\"2520\"},{\"id\":\"2530\"},{\"id\":\"2697\"}],\"margin\":[0,0,0,0],\"name\":\"Row02537\",\"tags\":[\"embedded\"]},\"id\":\"2519\",\"type\":\"Row\"},{\"attributes\":{},\"id\":\"2602\",\"type\":\"Selection\"},{\"attributes\":{\"line_color\":\"#fc4f30\",\"line_width\":2,\"x\":{\"field\":\"Unnamed: 0\"},\"y\":{\"field\":\"value\"}},\"id\":\"2604\",\"type\":\"Line\"},{\"attributes\":{},\"id\":\"2569\",\"type\":\"Selection\"},{\"attributes\":{\"mantissas\":[1,2,5],\"max_interval\":500.0,\"num_minor_ticks\":0},\"id\":\"2586\",\"type\":\"AdaptiveTicker\"},{\"attributes\":{\"line_alpha\":0.2,\"line_color\":\"#30a2da\",\"line_width\":2,\"x\":{\"field\":\"Unnamed: 0\"},\"y\":{\"field\":\"value\"}},\"id\":\"2573\",\"type\":\"Line\"},{\"attributes\":{\"line_alpha\":0.1,\"line_color\":\"#fc4f30\",\"line_width\":2,\"x\":{\"field\":\"Unnamed: 0\"},\"y\":{\"field\":\"value\"}},\"id\":\"2605\",\"type\":\"Line\"},{\"attributes\":{\"end\":43.099999999999994,\"reset_end\":43.099999999999994,\"reset_start\":-2.5,\"start\":-2.5,\"tags\":[[[\"value\",\"value\",null]]]},\"id\":\"2524\",\"type\":\"Range1d\"},{\"attributes\":{\"source\":{\"id\":\"2601\"}},\"id\":\"2608\",\"type\":\"CDSView\"},{\"attributes\":{\"base\":60,\"mantissas\":[1,2,5,10,15,20,30],\"max_interval\":1800000.0,\"min_interval\":1000.0,\"num_minor_ticks\":0},\"id\":\"2587\",\"type\":\"AdaptiveTicker\"},{\"attributes\":{\"line_alpha\":0.2,\"line_color\":\"#fc4f30\",\"line_width\":2,\"x\":{\"field\":\"Unnamed: 0\"},\"y\":{\"field\":\"value\"}},\"id\":\"2606\",\"type\":\"Line\"},{\"attributes\":{\"base\":24,\"mantissas\":[1,2,4,6,8,12],\"max_interval\":43200000.0,\"min_interval\":3600000.0,\"num_minor_ticks\":0},\"id\":\"2588\",\"type\":\"AdaptiveTicker\"},{\"attributes\":{\"callback\":null,\"formatters\":{\"@{Unnamed: 0}\":\"datetime\",\"@{Unnamed_colon_0}\":\"datetime\"},\"renderers\":[{\"id\":\"2574\"},{\"id\":\"2607\"},{\"id\":\"2641\"}],\"tags\":[\"hv_created\"],\"tooltips\":[[\"Variable\",\"@{Variable}\"],[\"Unnamed: 0\",\"@{Unnamed_colon_0}{%F %T}\"],[\"value\",\"@{value}\"]]},\"id\":\"2525\",\"type\":\"HoverTool\"},{\"attributes\":{},\"id\":\"2597\",\"type\":\"YearsTicker\"},{\"attributes\":{\"months\":[0,1,2,3,4,5,6,7,8,9,10,11]},\"id\":\"2593\",\"type\":\"MonthsTicker\"},{\"attributes\":{\"coordinates\":null,\"data_source\":{\"id\":\"2601\"},\"glyph\":{\"id\":\"2604\"},\"group\":null,\"hover_glyph\":null,\"muted_glyph\":{\"id\":\"2606\"},\"nonselection_glyph\":{\"id\":\"2605\"},\"selection_glyph\":{\"id\":\"2634\"},\"view\":{\"id\":\"2608\"}},\"id\":\"2607\",\"type\":\"GlyphRenderer\"},{\"attributes\":{\"days\":[1,15]},\"id\":\"2592\",\"type\":\"DaysTicker\"},{\"attributes\":{\"label\":{\"value\":\"Leisure and Hospitality (U)\"},\"renderers\":[{\"id\":\"2607\"}]},\"id\":\"2633\",\"type\":\"LegendItem\"},{\"attributes\":{\"days\":[1,2,3,4,5,6,7,8,9,10,11,12,13,14,15,16,17,18,19,20,21,22,23,24,25,26,27,28,29,30,31]},\"id\":\"2589\",\"type\":\"DaysTicker\"},{\"attributes\":{\"line_color\":\"#30a2da\",\"line_width\":2,\"x\":{\"field\":\"Unnamed: 0\"},\"y\":{\"field\":\"value\"}},\"id\":\"2571\",\"type\":\"Line\"},{\"attributes\":{\"days\":[1,4,7,10,13,16,19,22,25,28]},\"id\":\"2590\",\"type\":\"DaysTicker\"},{\"attributes\":{\"source\":{\"id\":\"2568\"}},\"id\":\"2575\",\"type\":\"CDSView\"},{\"attributes\":{\"line_color\":\"#e5ae38\",\"line_width\":2,\"x\":{\"field\":\"Unnamed: 0\"},\"y\":{\"field\":\"value\"}},\"id\":\"2670\",\"type\":\"Line\"},{\"attributes\":{\"days\":[1,8,15,22]},\"id\":\"2591\",\"type\":\"DaysTicker\"},{\"attributes\":{\"label\":{\"value\":\"Financial Activities Industry (U)\"},\"renderers\":[{\"id\":\"2574\"}]},\"id\":\"2599\",\"type\":\"LegendItem\"},{\"attributes\":{\"months\":[0,6]},\"id\":\"2596\",\"type\":\"MonthsTicker\"},{\"attributes\":{\"coordinates\":null,\"data_source\":{\"id\":\"2568\"},\"glyph\":{\"id\":\"2571\"},\"group\":null,\"hover_glyph\":null,\"muted_glyph\":{\"id\":\"2573\"},\"nonselection_glyph\":{\"id\":\"2572\"},\"selection_glyph\":{\"id\":\"2600\"},\"view\":{\"id\":\"2575\"}},\"id\":\"2574\",\"type\":\"GlyphRenderer\"},{\"attributes\":{},\"id\":\"2618\",\"type\":\"UnionRenderers\"},{\"attributes\":{\"months\":[0,2,4,6,8,10]},\"id\":\"2594\",\"type\":\"MonthsTicker\"},{\"attributes\":{\"end\":1669852800000.0,\"reset_end\":1669852800000.0,\"reset_start\":1577836800000.0,\"start\":1577836800000.0,\"tags\":[[[\"Unnamed: 0\",\"Unnamed: 0\",null]]]},\"id\":\"2523\",\"type\":\"Range1d\"},{\"attributes\":{\"line_alpha\":0.1,\"line_color\":\"#30a2da\",\"line_width\":2,\"x\":{\"field\":\"Unnamed: 0\"},\"y\":{\"field\":\"value\"}},\"id\":\"2572\",\"type\":\"Line\"},{\"attributes\":{\"margin\":[5,5,5,5],\"name\":\"HSpacer02542\",\"sizing_mode\":\"stretch_width\"},\"id\":\"2697\",\"type\":\"Spacer\"},{\"attributes\":{\"months\":[0,4,8]},\"id\":\"2595\",\"type\":\"MonthsTicker\"},{\"attributes\":{\"below\":[{\"id\":\"2539\"}],\"center\":[{\"id\":\"2542\"},{\"id\":\"2546\"},{\"id\":\"2598\"}],\"frame_width\":1000,\"height\":300,\"left\":[{\"id\":\"2543\"}],\"margin\":[5,5,5,5],\"min_border_bottom\":10,\"min_border_left\":10,\"min_border_right\":10,\"min_border_top\":10,\"renderers\":[{\"id\":\"2574\"},{\"id\":\"2607\"},{\"id\":\"2641\"}],\"sizing_mode\":\"fixed\",\"title\":{\"id\":\"2531\"},\"toolbar\":{\"id\":\"2553\"},\"width\":null,\"x_range\":{\"id\":\"2523\"},\"x_scale\":{\"id\":\"2535\"},\"y_range\":{\"id\":\"2524\"},\"y_scale\":{\"id\":\"2537\"}},\"id\":\"2530\",\"subtype\":\"Figure\",\"type\":\"Plot\"},{\"attributes\":{\"axis\":{\"id\":\"2539\"},\"coordinates\":null,\"grid_line_color\":null,\"group\":null,\"ticker\":null},\"id\":\"2542\",\"type\":\"Grid\"},{\"attributes\":{\"data\":{\"Unnamed: 0\":{\"__ndarray__\":\"AACAbub1dkIAAMDA4P92QgAAgEc2CXdCAADAmTATd0IAAECG2Bx3QgAAgNjSJndCAAAAxXowd0IAAEAXdTp3QgAAgGlvRHdCAAAAVhdOd0IAAECoEVh3QgAAwJS5YXdCAAAA57Nrd0IAAEA5rnV3QgAAQFqxfndCAACArKuId0IAAACZU5J3QgAAQOtNnHdCAADA1/Wld0IAAAAq8K93QgAAQHzquXdCAADAaJLDd0IAAAC7jM13QgAAgKc013dCAADA+S7hd0IAAABMKet3QgAAAG0s9HdCAABAvyb+d0IAAMCrzgd4QgAAAP7IEXhCAACA6nAbeEIAAMA8ayV4QgAAAI9lL3hCAACAew05eEIAAMDNB0N4QgAAQLqvTHhC\",\"dtype\":\"float64\",\"order\":\"little\",\"shape\":[36]},\"Unnamed_colon_0\":{\"__ndarray__\":\"AACAbub1dkIAAMDA4P92QgAAgEc2CXdCAADAmTATd0IAAECG2Bx3QgAAgNjSJndCAAAAxXowd0IAAEAXdTp3QgAAgGlvRHdCAAAAVhdOd0IAAECoEVh3QgAAwJS5YXdCAAAA57Nrd0IAAEA5rnV3QgAAQFqxfndCAACArKuId0IAAACZU5J3QgAAQOtNnHdCAADA1/Wld0IAAAAq8K93QgAAQHzquXdCAADAaJLDd0IAAAC7jM13QgAAgKc013dCAADA+S7hd0IAAABMKet3QgAAAG0s9HdCAABAvyb+d0IAAMCrzgd4QgAAAP7IEXhCAACA6nAbeEIAAMA8ayV4QgAAAI9lL3hCAACAew05eEIAAMDNB0N4QgAAQLqvTHhC\",\"dtype\":\"float64\",\"order\":\"little\",\"shape\":[36]},\"Variable\":[\"Leisure and Hospitality (U)\",\"Leisure and Hospitality (U)\",\"Leisure and Hospitality (U)\",\"Leisure and Hospitality (U)\",\"Leisure and Hospitality (U)\",\"Leisure and Hospitality (U)\",\"Leisure and Hospitality (U)\",\"Leisure and Hospitality (U)\",\"Leisure and Hospitality (U)\",\"Leisure and Hospitality (U)\",\"Leisure and Hospitality (U)\",\"Leisure and Hospitality (U)\",\"Leisure and Hospitality (U)\",\"Leisure and Hospitality (U)\",\"Leisure and Hospitality (U)\",\"Leisure and Hospitality (U)\",\"Leisure and Hospitality (U)\",\"Leisure and Hospitality (U)\",\"Leisure and Hospitality (U)\",\"Leisure and Hospitality (U)\",\"Leisure and Hospitality (U)\",\"Leisure and Hospitality (U)\",\"Leisure and Hospitality (U)\",\"Leisure and Hospitality (U)\",\"Leisure and Hospitality (U)\",\"Leisure and Hospitality (U)\",\"Leisure and Hospitality (U)\",\"Leisure and Hospitality (U)\",\"Leisure and Hospitality (U)\",\"Leisure and Hospitality (U)\",\"Leisure and Hospitality (U)\",\"Leisure and Hospitality (U)\",\"Leisure and Hospitality (U)\",\"Leisure and Hospitality (U)\",\"Leisure and Hospitality (U)\",\"Leisure and Hospitality (U)\"],\"value\":{\"__ndarray__\":\"mpmZmZmZF0DNzMzMzMwWQDMzMzMzMyBAZmZmZmamQ0AzMzMzM/NBQGZmZmZm5jxAAAAAAAAAOUDNzMzMzEw1QAAAAAAAADNAzczMzMxMMEAAAAAAAAAuQDMzMzMzszBAzczMzMzML0AAAAAAAAArQAAAAAAAACpAmpmZmZmZJUAzMzMzMzMkQM3MzMzMzCVAAAAAAAAAIkAzMzMzMzMiQM3MzMzMzB5AAAAAAAAAHkAAAAAAAAAeQM3MzMzMzBpAZmZmZmZmIEBmZmZmZmYaQJqZmZmZmRdAMzMzMzMzE0BmZmZmZmYUQM3MzMzMzBRAMzMzMzMzE0BmZmZmZmYYQJqZmZmZmRdAAAAAAAAAFkAzMzMzMzMXQJqZmZmZmRVA\",\"dtype\":\"float64\",\"order\":\"little\",\"shape\":[36]}},\"selected\":{\"id\":\"2602\"},\"selection_policy\":{\"id\":\"2618\"}},\"id\":\"2601\",\"type\":\"ColumnDataSource\"},{\"attributes\":{},\"id\":\"2535\",\"type\":\"LinearScale\"},{\"attributes\":{\"data\":{\"Unnamed: 0\":{\"__ndarray__\":\"AACAbub1dkIAAMDA4P92QgAAgEc2CXdCAADAmTATd0IAAECG2Bx3QgAAgNjSJndCAAAAxXowd0IAAEAXdTp3QgAAgGlvRHdCAAAAVhdOd0IAAECoEVh3QgAAwJS5YXdCAAAA57Nrd0IAAEA5rnV3QgAAQFqxfndCAACArKuId0IAAACZU5J3QgAAQOtNnHdCAADA1/Wld0IAAAAq8K93QgAAQHzquXdCAADAaJLDd0IAAAC7jM13QgAAgKc013dCAADA+S7hd0IAAABMKet3QgAAAG0s9HdCAABAvyb+d0IAAMCrzgd4QgAAAP7IEXhCAACA6nAbeEIAAMA8ayV4QgAAAI9lL3hCAACAew05eEIAAMDNB0N4QgAAQLqvTHhC\",\"dtype\":\"float64\",\"order\":\"little\",\"shape\":[36]},\"Unnamed_colon_0\":{\"__ndarray__\":\"AACAbub1dkIAAMDA4P92QgAAgEc2CXdCAADAmTATd0IAAECG2Bx3QgAAgNjSJndCAAAAxXowd0IAAEAXdTp3QgAAgGlvRHdCAAAAVhdOd0IAAECoEVh3QgAAwJS5YXdCAAAA57Nrd0IAAEA5rnV3QgAAQFqxfndCAACArKuId0IAAACZU5J3QgAAQOtNnHdCAADA1/Wld0IAAAAq8K93QgAAQHzquXdCAADAaJLDd0IAAAC7jM13QgAAgKc013dCAADA+S7hd0IAAABMKet3QgAAAG0s9HdCAABAvyb+d0IAAMCrzgd4QgAAAP7IEXhCAACA6nAbeEIAAMA8ayV4QgAAAI9lL3hCAACAew05eEIAAMDNB0N4QgAAQLqvTHhC\",\"dtype\":\"float64\",\"order\":\"little\",\"shape\":[36]},\"Variable\":[\"Education and Health Services (U)\",\"Education and Health Services (U)\",\"Education and Health Services (U)\",\"Education and Health Services (U)\",\"Education and Health Services (U)\",\"Education and Health Services (U)\",\"Education and Health Services (U)\",\"Education and Health Services (U)\",\"Education and Health Services (U)\",\"Education and Health Services (U)\",\"Education and Health Services (U)\",\"Education and Health Services (U)\",\"Education and Health Services (U)\",\"Education and Health Services (U)\",\"Education and Health Services (U)\",\"Education and Health Services (U)\",\"Education and Health Services (U)\",\"Education and Health Services (U)\",\"Education and Health Services (U)\",\"Education and Health Services (U)\",\"Education and Health Services (U)\",\"Education and Health Services (U)\",\"Education and Health Services (U)\",\"Education and Health Services (U)\",\"Education and Health Services (U)\",\"Education and Health Services (U)\",\"Education and Health Services (U)\",\"Education and Health Services (U)\",\"Education and Health Services (U)\",\"Education and Health Services (U)\",\"Education and Health Services (U)\",\"Education and Health Services (U)\",\"Education and Health Services (U)\",\"Education and Health Services (U)\",\"Education and Health Services (U)\",\"Education and Health Services (U)\"],\"value\":{\"__ndarray__\":\"MzMzMzMzA0AzMzMzMzMDQM3MzMzMzAhAzczMzMzMJUAzMzMzMzMkQDMzMzMzMyFAAAAAAAAAIEAzMzMzMzMZQGZmZmZmZhRAzczMzMzMEECamZmZmZkNQGZmZmZmZhBAMzMzMzMzEUCamZmZmZkNQGZmZmZmZg5AMzMzMzMzC0AzMzMzMzMLQJqZmZmZmRFAmpmZmZmZEUAzMzMzMzMRQGZmZmZmZgpAZmZmZmZmBkBmZmZmZmYCQM3MzMzMzABAMzMzMzMzB0AAAAAAAAAIQAAAAAAAAARAmpmZmZmZAUAAAAAAAAAEQGZmZmZmZgpAmpmZmZmZCUDNzMzMzMwIQM3MzMzMzARAmpmZmZmZBUDNzMzMzMwAQAAAAAAAAABA\",\"dtype\":\"float64\",\"order\":\"little\",\"shape\":[36]}},\"selected\":{\"id\":\"2636\"},\"selection_policy\":{\"id\":\"2654\"}},\"id\":\"2635\",\"type\":\"ColumnDataSource\"},{\"attributes\":{},\"id\":\"2537\",\"type\":\"LinearScale\"},{\"attributes\":{\"coordinates\":null,\"group\":null,\"text\":\"Unemployment (x1000) United States for specific industries\",\"text_color\":\"black\",\"text_font_size\":\"12pt\"},\"id\":\"2531\",\"type\":\"Title\"},{\"attributes\":{\"data\":{\"Unnamed: 0\":{\"__ndarray__\":\"AACAbub1dkIAAMDA4P92QgAAgEc2CXdCAADAmTATd0IAAECG2Bx3QgAAgNjSJndCAAAAxXowd0IAAEAXdTp3QgAAgGlvRHdCAAAAVhdOd0IAAECoEVh3QgAAwJS5YXdCAAAA57Nrd0IAAEA5rnV3QgAAQFqxfndCAACArKuId0IAAACZU5J3QgAAQOtNnHdCAADA1/Wld0IAAAAq8K93QgAAQHzquXdCAADAaJLDd0IAAAC7jM13QgAAgKc013dCAADA+S7hd0IAAABMKet3QgAAAG0s9HdCAABAvyb+d0IAAMCrzgd4QgAAAP7IEXhCAACA6nAbeEIAAMA8ayV4QgAAAI9lL3hCAACAew05eEIAAMDNB0N4QgAAQLqvTHhC\",\"dtype\":\"float64\",\"order\":\"little\",\"shape\":[36]},\"Unnamed_colon_0\":{\"__ndarray__\":\"AACAbub1dkIAAMDA4P92QgAAgEc2CXdCAADAmTATd0IAAECG2Bx3QgAAgNjSJndCAAAAxXowd0IAAEAXdTp3QgAAgGlvRHdCAAAAVhdOd0IAAECoEVh3QgAAwJS5YXdCAAAA57Nrd0IAAEA5rnV3QgAAQFqxfndCAACArKuId0IAAACZU5J3QgAAQOtNnHdCAADA1/Wld0IAAAAq8K93QgAAQHzquXdCAADAaJLDd0IAAAC7jM13QgAAgKc013dCAADA+S7hd0IAAABMKet3QgAAAG0s9HdCAABAvyb+d0IAAMCrzgd4QgAAAP7IEXhCAACA6nAbeEIAAMA8ayV4QgAAAI9lL3hCAACAew05eEIAAMDNB0N4QgAAQLqvTHhC\",\"dtype\":\"float64\",\"order\":\"little\",\"shape\":[36]},\"Variable\":[\"Financial Activities Industry (U)\",\"Financial Activities Industry (U)\",\"Financial Activities Industry (U)\",\"Financial Activities Industry (U)\",\"Financial Activities Industry (U)\",\"Financial Activities Industry (U)\",\"Financial Activities Industry (U)\",\"Financial Activities Industry (U)\",\"Financial Activities Industry (U)\",\"Financial Activities Industry (U)\",\"Financial Activities Industry (U)\",\"Financial Activities Industry (U)\",\"Financial Activities Industry (U)\",\"Financial Activities Industry (U)\",\"Financial Activities Industry (U)\",\"Financial Activities Industry (U)\",\"Financial Activities Industry (U)\",\"Financial Activities Industry (U)\",\"Financial Activities Industry (U)\",\"Financial Activities Industry (U)\",\"Financial Activities Industry (U)\",\"Financial Activities Industry (U)\",\"Financial Activities Industry (U)\",\"Financial Activities Industry (U)\",\"Financial Activities Industry (U)\",\"Financial Activities Industry (U)\",\"Financial Activities Industry (U)\",\"Financial Activities Industry (U)\",\"Financial Activities Industry (U)\",\"Financial Activities Industry (U)\",\"Financial Activities Industry (U)\",\"Financial Activities Industry (U)\",\"Financial Activities Industry (U)\",\"Financial Activities Industry (U)\",\"Financial Activities Industry (U)\",\"Financial Activities Industry (U)\"],\"value\":{\"__ndarray__\":\"AAAAAAAABEAzMzMzMzP7P5qZmZmZmQFAmpmZmZmZFUDNzMzMzMwWQGZmZmZmZhRAzczMzMzMEkDNzMzMzMwQQJqZmZmZmRFAZmZmZmZmDkAAAAAAAAAMQM3MzMzMzAhAMzMzMzMzC0CamZmZmZkNQDMzMzMzMwtAmpmZmZmZBUAAAAAAAAAIQDMzMzMzMwtAAAAAAAAACECamZmZmZkJQAAAAAAAAARAZmZmZmZm/j8AAAAAAAAAQDMzMzMzMwNAZmZmZmZm/j8zMzMzMzMDQAAAAAAAAABAZmZmZmZm/j9mZmZmZmb+P83MzMzMzABAmpmZmZmZ+T/NzMzMzMz8P83MzMzMzPQ/ZmZmZmZm/j9mZmZmZmb+P83MzMzMzARA\",\"dtype\":\"float64\",\"order\":\"little\",\"shape\":[36]}},\"selected\":{\"id\":\"2569\"},\"selection_policy\":{\"id\":\"2583\"}},\"id\":\"2568\",\"type\":\"ColumnDataSource\"},{\"attributes\":{\"num_minor_ticks\":5,\"tickers\":[{\"id\":\"2586\"},{\"id\":\"2587\"},{\"id\":\"2588\"},{\"id\":\"2589\"},{\"id\":\"2590\"},{\"id\":\"2591\"},{\"id\":\"2592\"},{\"id\":\"2593\"},{\"id\":\"2594\"},{\"id\":\"2595\"},{\"id\":\"2596\"},{\"id\":\"2597\"}]},\"id\":\"2540\",\"type\":\"DatetimeTicker\"},{\"attributes\":{},\"id\":\"2548\",\"type\":\"PanTool\"},{\"attributes\":{\"axis_label\":\"Thousands\",\"coordinates\":null,\"formatter\":{\"id\":\"2566\"},\"group\":null,\"major_label_policy\":{\"id\":\"2567\"},\"ticker\":{\"id\":\"2544\"}},\"id\":\"2543\",\"type\":\"LinearAxis\"},{\"attributes\":{\"axis_label\":\"2020 - 2023\",\"coordinates\":null,\"formatter\":{\"id\":\"2563\"},\"group\":null,\"major_label_policy\":{\"id\":\"2564\"},\"ticker\":{\"id\":\"2540\"}},\"id\":\"2539\",\"type\":\"DatetimeAxis\"},{\"attributes\":{\"axis\":{\"id\":\"2543\"},\"coordinates\":null,\"dimension\":1,\"grid_line_color\":null,\"group\":null,\"ticker\":null},\"id\":\"2546\",\"type\":\"Grid\"},{\"attributes\":{},\"id\":\"2544\",\"type\":\"BasicTicker\"},{\"attributes\":{},\"id\":\"2549\",\"type\":\"WheelZoomTool\"},{\"attributes\":{},\"id\":\"2636\",\"type\":\"Selection\"},{\"attributes\":{\"bottom_units\":\"screen\",\"coordinates\":null,\"fill_alpha\":0.5,\"fill_color\":\"lightgrey\",\"group\":null,\"left_units\":\"screen\",\"level\":\"overlay\",\"line_alpha\":1.0,\"line_color\":\"black\",\"line_dash\":[4,4],\"line_width\":2,\"right_units\":\"screen\",\"syncable\":false,\"top_units\":\"screen\"},\"id\":\"2552\",\"type\":\"BoxAnnotation\"},{\"attributes\":{},\"id\":\"2547\",\"type\":\"SaveTool\"},{\"attributes\":{\"line_color\":\"#fc4f30\",\"line_width\":2,\"x\":{\"field\":\"Unnamed: 0\"},\"y\":{\"field\":\"value\"}},\"id\":\"2634\",\"type\":\"Line\"},{\"attributes\":{\"overlay\":{\"id\":\"2552\"}},\"id\":\"2550\",\"type\":\"BoxZoomTool\"},{\"attributes\":{\"click_policy\":\"mute\",\"coordinates\":null,\"group\":null,\"items\":[{\"id\":\"2599\"},{\"id\":\"2633\"},{\"id\":\"2669\"}],\"title\":\"Variable\"},\"id\":\"2598\",\"type\":\"Legend\"},{\"attributes\":{},\"id\":\"2551\",\"type\":\"ResetTool\"},{\"attributes\":{\"tools\":[{\"id\":\"2525\"},{\"id\":\"2547\"},{\"id\":\"2548\"},{\"id\":\"2549\"},{\"id\":\"2550\"},{\"id\":\"2551\"}]},\"id\":\"2553\",\"type\":\"Toolbar\"}],\"root_ids\":[\"2519\"]},\"title\":\"Bokeh Application\",\"version\":\"2.4.3\"}};\n",
       "    var render_items = [{\"docid\":\"13f6e290-e6fe-4aa5-b1fc-fed208fa1ed9\",\"root_ids\":[\"2519\"],\"roots\":{\"2519\":\"10c87cdc-8566-4a39-a5d9-6e5bc34fd02f\"}}];\n",
       "    root.Bokeh.embed.embed_items_notebook(docs_json, render_items);\n",
       "    for (const render_item of render_items) {\n",
       "      for (const root_id of render_item.root_ids) {\n",
       "\tconst id_el = document.getElementById(root_id)\n",
       "\tif (id_el.children.length && (id_el.children[0].className === 'bk-root')) {\n",
       "\t  const root_el = id_el.children[0]\n",
       "\t  root_el.id = root_el.id + '-rendered'\n",
       "\t}\n",
       "      }\n",
       "    }\n",
       "  }\n",
       "  if (root.Bokeh !== undefined && root.Bokeh.Panel !== undefined) {\n",
       "    embed_document(root);\n",
       "  } else {\n",
       "    var attempts = 0;\n",
       "    var timer = setInterval(function(root) {\n",
       "      if (root.Bokeh !== undefined && root.Bokeh.Panel !== undefined) {\n",
       "        clearInterval(timer);\n",
       "        embed_document(root);\n",
       "      } else if (document.readyState == \"complete\") {\n",
       "        attempts++;\n",
       "        if (attempts > 200) {\n",
       "          clearInterval(timer);\n",
       "          console.log(\"Bokeh: ERROR: Unable to run BokehJS code because BokehJS library is missing\");\n",
       "        }\n",
       "      }\n",
       "    }, 25, root)\n",
       "  }\n",
       "})(window);</script>"
      ],
      "text/plain": [
       ":NdOverlay   [Variable]\n",
       "   :Curve   [Unnamed: 0]   (value)"
      ]
     },
     "execution_count": 18,
     "metadata": {
      "application/vnd.holoviews_exec.v0+json": {
       "id": "2519"
      }
     },
     "output_type": "execute_result"
    }
   ],
   "source": [
    "#creation of graph for three industries\n",
    "unemployment_US_grapgh=indus_unmp2.hvplot.line(x='Unnamed: 0', y=['Financial Activities Industry (U)','Leisure and Hospitality (U)','Education and Health Services (U)'],\n",
    "frame_width = 1000,legend='top_right',colorbar=True).opts(\n",
    "    title='Unemployment (x1000) United States for specific industries',\n",
    "    xlabel='2020 - 2023',\n",
    "    ylabel='Thousands',\n",
    ")\n",
    "hvplot.save(unemployment_US_grapgh,'../output/Unemployment_graph 2020 2022v2.png')\n",
    "unemployment_US_grapgh"
   ]
  },
  {
   "cell_type": "code",
   "execution_count": 19,
   "metadata": {},
   "outputs": [
    {
     "data": {},
     "metadata": {},
     "output_type": "display_data"
    },
    {
     "data": {
      "application/vnd.holoviews_exec.v0+json": "",
      "text/html": [
       "<div id='3396'>\n",
       "  <div class=\"bk-root\" id=\"2f169400-7698-4506-ab78-78fa7ff52dd5\" data-root-id=\"3396\"></div>\n",
       "</div>\n",
       "<script type=\"application/javascript\">(function(root) {\n",
       "  function embed_document(root) {\n",
       "    var docs_json = {\"4696f6c0-9ce5-4dc2-bd4d-527fafbe5028\":{\"defs\":[{\"extends\":null,\"module\":null,\"name\":\"ReactiveHTML1\",\"overrides\":[],\"properties\":[]},{\"extends\":null,\"module\":null,\"name\":\"FlexBox1\",\"overrides\":[],\"properties\":[{\"default\":\"flex-start\",\"kind\":null,\"name\":\"align_content\"},{\"default\":\"flex-start\",\"kind\":null,\"name\":\"align_items\"},{\"default\":\"row\",\"kind\":null,\"name\":\"flex_direction\"},{\"default\":\"wrap\",\"kind\":null,\"name\":\"flex_wrap\"},{\"default\":\"flex-start\",\"kind\":null,\"name\":\"justify_content\"}]},{\"extends\":null,\"module\":null,\"name\":\"GridStack1\",\"overrides\":[],\"properties\":[{\"default\":\"warn\",\"kind\":null,\"name\":\"mode\"},{\"default\":null,\"kind\":null,\"name\":\"ncols\"},{\"default\":null,\"kind\":null,\"name\":\"nrows\"},{\"default\":true,\"kind\":null,\"name\":\"allow_resize\"},{\"default\":true,\"kind\":null,\"name\":\"allow_drag\"},{\"default\":[],\"kind\":null,\"name\":\"state\"}]},{\"extends\":null,\"module\":null,\"name\":\"click1\",\"overrides\":[],\"properties\":[{\"default\":\"\",\"kind\":null,\"name\":\"terminal_output\"},{\"default\":\"\",\"kind\":null,\"name\":\"debug_name\"},{\"default\":0,\"kind\":null,\"name\":\"clears\"}]},{\"extends\":null,\"module\":null,\"name\":\"NotificationAreaBase1\",\"overrides\":[],\"properties\":[{\"default\":\"bottom-right\",\"kind\":null,\"name\":\"position\"},{\"default\":0,\"kind\":null,\"name\":\"_clear\"}]},{\"extends\":null,\"module\":null,\"name\":\"NotificationArea1\",\"overrides\":[],\"properties\":[{\"default\":[],\"kind\":null,\"name\":\"notifications\"},{\"default\":\"bottom-right\",\"kind\":null,\"name\":\"position\"},{\"default\":0,\"kind\":null,\"name\":\"_clear\"},{\"default\":[{\"background\":\"#ffc107\",\"icon\":{\"className\":\"fas fa-exclamation-triangle\",\"color\":\"white\",\"tagName\":\"i\"},\"type\":\"warning\"},{\"background\":\"#007bff\",\"icon\":{\"className\":\"fas fa-info-circle\",\"color\":\"white\",\"tagName\":\"i\"},\"type\":\"info\"}],\"kind\":null,\"name\":\"types\"}]},{\"extends\":null,\"module\":null,\"name\":\"Notification\",\"overrides\":[],\"properties\":[{\"default\":null,\"kind\":null,\"name\":\"background\"},{\"default\":3000,\"kind\":null,\"name\":\"duration\"},{\"default\":null,\"kind\":null,\"name\":\"icon\"},{\"default\":\"\",\"kind\":null,\"name\":\"message\"},{\"default\":null,\"kind\":null,\"name\":\"notification_type\"},{\"default\":false,\"kind\":null,\"name\":\"_destroyed\"}]},{\"extends\":null,\"module\":null,\"name\":\"TemplateActions1\",\"overrides\":[],\"properties\":[{\"default\":0,\"kind\":null,\"name\":\"open_modal\"},{\"default\":0,\"kind\":null,\"name\":\"close_modal\"}]},{\"extends\":null,\"module\":null,\"name\":\"MaterialTemplateActions1\",\"overrides\":[],\"properties\":[{\"default\":0,\"kind\":null,\"name\":\"open_modal\"},{\"default\":0,\"kind\":null,\"name\":\"close_modal\"}]}],\"roots\":{\"references\":[{\"attributes\":{\"line_alpha\":0.1,\"line_color\":\"#e5ae38\",\"line_width\":2,\"x\":{\"field\":\"date\"},\"y\":{\"field\":\"total_laid_off\"}},\"id\":\"3516\",\"type\":\"Line\"},{\"attributes\":{\"source\":{\"id\":\"3512\"}},\"id\":\"3519\",\"type\":\"CDSView\"},{\"attributes\":{\"bottom_units\":\"screen\",\"coordinates\":null,\"fill_alpha\":0.5,\"fill_color\":\"lightgrey\",\"group\":null,\"left_units\":\"screen\",\"level\":\"overlay\",\"line_alpha\":1.0,\"line_color\":\"black\",\"line_dash\":[4,4],\"line_width\":2,\"right_units\":\"screen\",\"syncable\":false,\"top_units\":\"screen\"},\"id\":\"3429\",\"type\":\"BoxAnnotation\"},{\"attributes\":{\"line_alpha\":0.2,\"line_color\":\"#e5ae38\",\"line_width\":2,\"x\":{\"field\":\"date\"},\"y\":{\"field\":\"total_laid_off\"}},\"id\":\"3517\",\"type\":\"Line\"},{\"attributes\":{\"line_color\":\"#e5ae38\",\"line_width\":2,\"x\":{\"field\":\"date\"},\"y\":{\"field\":\"total_laid_off\"}},\"id\":\"3547\",\"type\":\"Line\"},{\"attributes\":{},\"id\":\"3440\",\"type\":\"DatetimeTickFormatter\"},{\"attributes\":{},\"id\":\"3460\",\"type\":\"UnionRenderers\"},{\"attributes\":{\"coordinates\":null,\"data_source\":{\"id\":\"3512\"},\"glyph\":{\"id\":\"3515\"},\"group\":null,\"hover_glyph\":null,\"muted_glyph\":{\"id\":\"3517\"},\"nonselection_glyph\":{\"id\":\"3516\"},\"selection_glyph\":{\"id\":\"3547\"},\"view\":{\"id\":\"3519\"}},\"id\":\"3518\",\"type\":\"GlyphRenderer\"},{\"attributes\":{\"label\":{\"value\":\"Healthcare\"},\"renderers\":[{\"id\":\"3518\"}]},\"id\":\"3546\",\"type\":\"LegendItem\"},{\"attributes\":{},\"id\":\"3441\",\"type\":\"AllLabels\"},{\"attributes\":{},\"id\":\"3531\",\"type\":\"UnionRenderers\"},{\"attributes\":{\"line_alpha\":0.2,\"line_color\":\"#30a2da\",\"line_width\":2,\"x\":{\"field\":\"date\"},\"y\":{\"field\":\"total_laid_off\"}},\"id\":\"3450\",\"type\":\"Line\"},{\"attributes\":{\"line_color\":\"#30a2da\",\"line_width\":2,\"x\":{\"field\":\"date\"},\"y\":{\"field\":\"total_laid_off\"}},\"id\":\"3477\",\"type\":\"Line\"},{\"attributes\":{\"end\":2601.5,\"reset_end\":2601.5,\"reset_start\":-236.5,\"start\":-236.5,\"tags\":[[[\"total_laid_off\",\"total_laid_off\",null]]]},\"id\":\"3401\",\"type\":\"Range1d\"},{\"attributes\":{},\"id\":\"3443\",\"type\":\"BasicTickFormatter\"},{\"attributes\":{\"coordinates\":null,\"data_source\":{\"id\":\"3478\"},\"glyph\":{\"id\":\"3481\"},\"group\":null,\"hover_glyph\":null,\"muted_glyph\":{\"id\":\"3483\"},\"nonselection_glyph\":{\"id\":\"3482\"},\"selection_glyph\":{\"id\":\"3511\"},\"view\":{\"id\":\"3485\"}},\"id\":\"3484\",\"type\":\"GlyphRenderer\"},{\"attributes\":{\"callback\":null,\"formatters\":{\"@{date}\":\"datetime\"},\"renderers\":[{\"id\":\"3451\"},{\"id\":\"3484\"},{\"id\":\"3518\"}],\"tags\":[\"hv_created\"],\"tooltips\":[[\"industry\",\"@{industry}\"],[\"date\",\"@{date}{%F %T}\"],[\"total_laid_off\",\"@{total_laid_off}\"]]},\"id\":\"3402\",\"type\":\"HoverTool\"},{\"attributes\":{},\"id\":\"3444\",\"type\":\"AllLabels\"},{\"attributes\":{\"margin\":[5,5,5,5],\"name\":\"HSpacer02831\",\"sizing_mode\":\"stretch_width\"},\"id\":\"3397\",\"type\":\"Spacer\"},{\"attributes\":{\"line_color\":\"#fc4f30\",\"line_width\":2,\"x\":{\"field\":\"date\"},\"y\":{\"field\":\"total_laid_off\"}},\"id\":\"3481\",\"type\":\"Line\"},{\"attributes\":{\"children\":[{\"id\":\"3397\"},{\"id\":\"3407\"},{\"id\":\"3574\"}],\"margin\":[0,0,0,0],\"name\":\"Row02827\",\"tags\":[\"embedded\"]},\"id\":\"3396\",\"type\":\"Row\"},{\"attributes\":{\"mantissas\":[1,2,5],\"max_interval\":500.0,\"num_minor_ticks\":0},\"id\":\"3463\",\"type\":\"AdaptiveTicker\"},{\"attributes\":{\"base\":60,\"mantissas\":[1,2,5,10,15,20,30],\"max_interval\":1800000.0,\"min_interval\":1000.0,\"num_minor_ticks\":0},\"id\":\"3464\",\"type\":\"AdaptiveTicker\"},{\"attributes\":{\"base\":24,\"mantissas\":[1,2,4,6,8,12],\"max_interval\":43200000.0,\"min_interval\":3600000.0,\"num_minor_ticks\":0},\"id\":\"3465\",\"type\":\"AdaptiveTicker\"},{\"attributes\":{\"source\":{\"id\":\"3478\"}},\"id\":\"3485\",\"type\":\"CDSView\"},{\"attributes\":{},\"id\":\"3474\",\"type\":\"YearsTicker\"},{\"attributes\":{\"source\":{\"id\":\"3445\"}},\"id\":\"3452\",\"type\":\"CDSView\"},{\"attributes\":{},\"id\":\"3479\",\"type\":\"Selection\"},{\"attributes\":{\"months\":[0,1,2,3,4,5,6,7,8,9,10,11]},\"id\":\"3470\",\"type\":\"MonthsTicker\"},{\"attributes\":{\"days\":[1,15]},\"id\":\"3469\",\"type\":\"DaysTicker\"},{\"attributes\":{\"label\":{\"value\":\"Food\"},\"renderers\":[{\"id\":\"3484\"}]},\"id\":\"3510\",\"type\":\"LegendItem\"},{\"attributes\":{\"days\":[1,2,3,4,5,6,7,8,9,10,11,12,13,14,15,16,17,18,19,20,21,22,23,24,25,26,27,28,29,30,31]},\"id\":\"3466\",\"type\":\"DaysTicker\"},{\"attributes\":{\"line_alpha\":0.1,\"line_color\":\"#30a2da\",\"line_width\":2,\"x\":{\"field\":\"date\"},\"y\":{\"field\":\"total_laid_off\"}},\"id\":\"3449\",\"type\":\"Line\"},{\"attributes\":{\"line_color\":\"#fc4f30\",\"line_width\":2,\"x\":{\"field\":\"date\"},\"y\":{\"field\":\"total_laid_off\"}},\"id\":\"3511\",\"type\":\"Line\"},{\"attributes\":{\"days\":[1,4,7,10,13,16,19,22,25,28]},\"id\":\"3467\",\"type\":\"DaysTicker\"},{\"attributes\":{\"end\":1675814400000.0,\"reset_end\":1675814400000.0,\"reset_start\":1584921600000.0,\"start\":1584921600000.0,\"tags\":[[[\"date\",\"date\",null]]]},\"id\":\"3400\",\"type\":\"Range1d\"},{\"attributes\":{\"line_alpha\":0.1,\"line_color\":\"#fc4f30\",\"line_width\":2,\"x\":{\"field\":\"date\"},\"y\":{\"field\":\"total_laid_off\"}},\"id\":\"3482\",\"type\":\"Line\"},{\"attributes\":{},\"id\":\"3495\",\"type\":\"UnionRenderers\"},{\"attributes\":{\"days\":[1,8,15,22]},\"id\":\"3468\",\"type\":\"DaysTicker\"},{\"attributes\":{\"months\":[0,6]},\"id\":\"3473\",\"type\":\"MonthsTicker\"},{\"attributes\":{\"click_policy\":\"mute\",\"coordinates\":null,\"group\":null,\"items\":[{\"id\":\"3476\"},{\"id\":\"3510\"},{\"id\":\"3546\"}],\"location\":\"top_left\",\"title\":\"industry\"},\"id\":\"3475\",\"type\":\"Legend\"},{\"attributes\":{\"months\":[0,2,4,6,8,10]},\"id\":\"3471\",\"type\":\"MonthsTicker\"},{\"attributes\":{\"line_color\":\"#30a2da\",\"line_width\":2,\"x\":{\"field\":\"date\"},\"y\":{\"field\":\"total_laid_off\"}},\"id\":\"3448\",\"type\":\"Line\"},{\"attributes\":{\"label\":{\"value\":\"Finance\"},\"renderers\":[{\"id\":\"3451\"}]},\"id\":\"3476\",\"type\":\"LegendItem\"},{\"attributes\":{\"coordinates\":null,\"data_source\":{\"id\":\"3445\"},\"glyph\":{\"id\":\"3448\"},\"group\":null,\"hover_glyph\":null,\"muted_glyph\":{\"id\":\"3450\"},\"nonselection_glyph\":{\"id\":\"3449\"},\"selection_glyph\":{\"id\":\"3477\"},\"view\":{\"id\":\"3452\"}},\"id\":\"3451\",\"type\":\"GlyphRenderer\"},{\"attributes\":{\"months\":[0,4,8]},\"id\":\"3472\",\"type\":\"MonthsTicker\"},{\"attributes\":{\"margin\":[5,5,5,5],\"name\":\"HSpacer02832\",\"sizing_mode\":\"stretch_width\"},\"id\":\"3574\",\"type\":\"Spacer\"},{\"attributes\":{\"axis\":{\"id\":\"3416\"},\"coordinates\":null,\"grid_line_color\":null,\"group\":null,\"ticker\":null},\"id\":\"3419\",\"type\":\"Grid\"},{\"attributes\":{\"below\":[{\"id\":\"3416\"}],\"center\":[{\"id\":\"3419\"},{\"id\":\"3423\"},{\"id\":\"3475\"}],\"frame_width\":1000,\"height\":300,\"left\":[{\"id\":\"3420\"}],\"margin\":[5,5,5,5],\"min_border_bottom\":10,\"min_border_left\":10,\"min_border_right\":10,\"min_border_top\":10,\"renderers\":[{\"id\":\"3451\"},{\"id\":\"3484\"},{\"id\":\"3518\"}],\"sizing_mode\":\"fixed\",\"title\":{\"id\":\"3408\"},\"toolbar\":{\"id\":\"3430\"},\"width\":null,\"x_range\":{\"id\":\"3400\"},\"x_scale\":{\"id\":\"3412\"},\"y_range\":{\"id\":\"3401\"},\"y_scale\":{\"id\":\"3414\"}},\"id\":\"3407\",\"subtype\":\"Figure\",\"type\":\"Plot\"},{\"attributes\":{\"data\":{\"date\":{\"__ndarray__\":\"AADAa50Qd0IAAACdlBF3QgAAQM6LEndCAACA/4ITd0IAAED8HhV3QgAAAGJxFXdCAABAKrIXd0IAAMD1Vhh3QgAAwLozHHdCAACAIIYcd0IAAADmfTl3QgAAAODQVXdCAAAA2iNyd0IAAIClyHJ3QgAAANWswHdCAACA6Trpd0IAAACOL/13QgAAgIdnAHhCAAAAoqIMeEIAAMBjGxJ4QgAAgMltEnhCAACAjkoWeEIAAED0nBZ4QgAAQOcMHXhCAADAsrEdeEIAAIAYBB54QgAAAOSoHnhCAADASfseeEIAAICvTR94QgAAQKzpIHhCAACA3eAheEIAAIALdCR4QgAAQAgQJnhCAAAABawneEIAAMBq/id4QgAAgJUtLHhCAAAAYdIseEIAAMDGJC14QgAAgE16NnhCAABAs8w2eEIAAMAVuzh4QgAAQHipOnhCAABAD/M7eEIAAECmPD14QgAAAKPYPnhCAADANr5BeEIAAIAzWkN4QgAAQJmsQ3hCAADAwHdJeEIAAIBUXUx4QgAAgILwTnhCAACAGTpQeEIAAADl3lB4QgAAQM4iXHhCAABAk/9feEIAAIDE9mB4Qg==\",\"dtype\":\"float64\",\"order\":\"little\",\"shape\":[56]},\"industry\":[\"Food\",\"Food\",\"Food\",\"Food\",\"Food\",\"Food\",\"Food\",\"Food\",\"Food\",\"Food\",\"Food\",\"Food\",\"Food\",\"Food\",\"Food\",\"Food\",\"Food\",\"Food\",\"Food\",\"Food\",\"Food\",\"Food\",\"Food\",\"Food\",\"Food\",\"Food\",\"Food\",\"Food\",\"Food\",\"Food\",\"Food\",\"Food\",\"Food\",\"Food\",\"Food\",\"Food\",\"Food\",\"Food\",\"Food\",\"Food\",\"Food\",\"Food\",\"Food\",\"Food\",\"Food\",\"Food\",\"Food\",\"Food\",\"Food\",\"Food\",\"Food\",\"Food\",\"Food\",\"Food\",\"Food\",\"Food\"],\"total_laid_off\":{\"__ndarray__\":\"AAAAAADAVUAAAAAAAKBuQAAAAAAAACJAAAAAAAAAFEAAAAAAAJCaQAAAAAAAABBAAAAAAAAAaUAAAAAAAIBBQAAAAAAAAF9AAAAAAAAAAAAAAAAAAAAAAAAAAAAAAAAAAAAAAABUnUAAAAAAAIBmQAAAAAAAAAAAAAAAAAAAWUAAAAAAACB8QAAAAAAAADRAAAAAAAAAWUAAAAAAAAA9QAAAAAAAADVAAAAAAADAYkAAAAAAAABJQAAAAAAAAAAAAAAAAABAj0AAAAAAAAAAAAAAAAAAAAAAAAAAAABwl0AAAAAAAABZQAAAAAAAAAAAAAAAAAAATkAAAAAAAEBXQAAAAAAAAERAAAAAAAAAAAAAAAAAAAAAAAAAAAAAAAAAAAAAAAAAAAAAAAAAAABEQAAAAAAAADpAAAAAAAAAAAAAAAAAAAAAAAAAAAAAAElAAAAAAAAYg0AAAAAAAABpQAAAAAAAQG9AAAAAAAAAWUAAAAAAAABJQAAAAAAAAAAAAAAAAABAV0AAAAAAAJCVQAAAAAAAAAAAAAAAAACQdEAAAAAAAABEQAAAAAAAAAAAAAAAAACAYUAAAAAAAABZQA==\",\"dtype\":\"float64\",\"order\":\"little\",\"shape\":[56]}},\"selected\":{\"id\":\"3479\"},\"selection_policy\":{\"id\":\"3495\"}},\"id\":\"3478\",\"type\":\"ColumnDataSource\"},{\"attributes\":{\"data\":{\"date\":{\"__ndarray__\":\"AAAABksQd0IAAEDOixJ3QgAAADTeEndCAADAmTATd0IAAEBl1RN3QgAAgJbMFHdCAABA/B4Vd0IAAABicRV3QgAAwMfDFXdCAACALRYWd0IAAIDEXxd3QgAAQCqyF3dCAACAW6kYd0IAAMCMoBl3QgAAAL6XGndCAAAAVeEbd0IAAMDoxh53QgAAgE4ZH3dCAACA5WIgd0IAAEBLtSB3QgAAALEHIXdCAADAraMid0IAAIAT9iJ3QgAAAHbkJHdCAABAp9sld0IAAEA+JSd3QgAAAKR3J3dCAACAbxwod0IAAMA3XSp3QgAAQDGVLXdCAAAAl+ctd0IAAECNuzJ3QgAAQFKYNndCAADAS9A5d0IAAMDP3F13QgAAgEmibXdCAACA4Otud0IAAACHTOd3QgAAwAAS93dCAABAVnD/d0IAAMDm8QN4QgAAgExEBHhCAAAArzIGeEIAAADdxQh4QgAAgD+0CnhCAADAcKsLeEIAAEBq4w54QgAAANA1D3hCAADANYgPeEIAAECYdhF4QgAAwGMbEnhCAACAYLcTeEIAAMCRrhR4QgAAAFrvFnhCAACAvN0YeEIAAEAiMBl4QgAAgFMnGnhCAADAhB4beEIAAICBuhx4QgAAAE1fHXhCAACAr00feEIAAAASPCF4QgAAwHeOIXhCAADApSEkeEIAAICivSV4QgAAAG5iJnhCAADAav4neEIAAEA2oyh4QgAAQM3sKXhCAACA/uMqeEIAAEBkNit4QgAAAGHSLHhCAACALHcteEIAAEApEy94QgAAAL34MXhCAABAhTk0eEIAAIBNejZ4QgAAQHipOnhCAAAAdUU8eEIAAACj2D54QgAAgAXHQHhCAABAaxlBeEIAAADRa0F4QgAAAGi1QnhCAADAzQdDeEIAAIAzWkN4QgAAQJmsQ3hCAADA+5pFeEIAAIBh7UV4QgAAQF6JR3hCAADAKS5IeEIAAICPgEh4QgAAwMB3SXhCAABAjBxKeEIAAIBUXUx4QgAAACACTXhCAAAAt0tOeEIAAMAcnk54QgAAgILwTnhCAABA6EJPeEIAAABOlU94QgAAgBk6UHhCAACAsINReEIAAICj81d4QgAAQKCPWXhCAAAABuJZeEIAAMBrNFp4QgAAgGjQW3hCAABAziJceEIAAAA0dVx4QgAAwJnHXHhCAADAMBFeeEIAAED8tV54QgAAQJP/X3hCAAAA+VFgeEIAAAAn5WJ4Qg==\",\"dtype\":\"float64\",\"order\":\"little\",\"shape\":[116]},\"industry\":[\"Finance\",\"Finance\",\"Finance\",\"Finance\",\"Finance\",\"Finance\",\"Finance\",\"Finance\",\"Finance\",\"Finance\",\"Finance\",\"Finance\",\"Finance\",\"Finance\",\"Finance\",\"Finance\",\"Finance\",\"Finance\",\"Finance\",\"Finance\",\"Finance\",\"Finance\",\"Finance\",\"Finance\",\"Finance\",\"Finance\",\"Finance\",\"Finance\",\"Finance\",\"Finance\",\"Finance\",\"Finance\",\"Finance\",\"Finance\",\"Finance\",\"Finance\",\"Finance\",\"Finance\",\"Finance\",\"Finance\",\"Finance\",\"Finance\",\"Finance\",\"Finance\",\"Finance\",\"Finance\",\"Finance\",\"Finance\",\"Finance\",\"Finance\",\"Finance\",\"Finance\",\"Finance\",\"Finance\",\"Finance\",\"Finance\",\"Finance\",\"Finance\",\"Finance\",\"Finance\",\"Finance\",\"Finance\",\"Finance\",\"Finance\",\"Finance\",\"Finance\",\"Finance\",\"Finance\",\"Finance\",\"Finance\",\"Finance\",\"Finance\",\"Finance\",\"Finance\",\"Finance\",\"Finance\",\"Finance\",\"Finance\",\"Finance\",\"Finance\",\"Finance\",\"Finance\",\"Finance\",\"Finance\",\"Finance\",\"Finance\",\"Finance\",\"Finance\",\"Finance\",\"Finance\",\"Finance\",\"Finance\",\"Finance\",\"Finance\",\"Finance\",\"Finance\",\"Finance\",\"Finance\",\"Finance\",\"Finance\",\"Finance\",\"Finance\",\"Finance\",\"Finance\",\"Finance\",\"Finance\",\"Finance\",\"Finance\",\"Finance\",\"Finance\",\"Finance\",\"Finance\",\"Finance\",\"Finance\",\"Finance\",\"Finance\"],\"total_laid_off\":{\"__ndarray__\":\"AAAAAAAAKkAAAAAAAIBJQAAAAAAAAAAAAAAAAAAASUAAAAAAAIBBQAAAAAAAAFlAAAAAAAAAX0AAAAAAAEBWQAAAAAAAoGRAAAAAAAAAAAAAAAAAAAAAAAAAAAAAIGRAAAAAAAAAAAAAAAAAAMB8QAAAAAAAADJAAAAAAAAAO0AAAAAAAABWQAAAAAAAACJAAAAAAAAAAAAAAAAAAAA5QAAAAAAAAD5AAAAAAAAAAAAAAAAAAABcQAAAAAAAAElAAAAAAAAAT0AAAAAAAAAsQAAAAAAAADZAAAAAAAAAMkAAAAAAAIBPQAAAAAAAWIZAAAAAAACAVkAAAAAAAEBVQAAAAAAAADZAAAAAAAAAAAAAAAAAAAAUQAAAAAAAAAAAAAAAAAAAAAAAAAAAAKB0QAAAAAAAAAAAAAAAAAAAAAAAAAAAAABpQAAAAAAAAEpAAAAAAABAdUAAAAAAAIBRQAAAAAAAYHNAAAAAAAAANkAAAAAAAMBUQAAAAAAAAERAAAAAAACQdUAAAAAAAABGQAAAAAAAQGVAAAAAAAAAAAAAAAAAAAA0QAAAAAAAQFFAAAAAAAAALkAAAAAAAGBlQAAAAAAAAAAAAAAAAAAAREAAAAAAAAA0QAAAAAAAwGJAAAAAAAAAAAAAAAAAAABDQAAAAAAAwFJAAAAAAAAATkAAAAAAAEiGQAAAAAAAQG9AAAAAAAAATkAAAAAAAAAAAAAAAAAAgGtAAAAAAAAAAAAAAAAAAABJQAAAAAAAAC5AAAAAAAAANEAAAAAAAIBRQAAAAAAAAAAAAAAAAAAAREAAAAAAAIBmQAAAAAAAAAAAAAAAAAAAdUAAAAAAAABAQAAAAAAAgGZAAAAAAACAV0AAAAAAAABVQAAAAAAAgEtAAAAAAACAYUAAAAAAAKByQAAAAAAAGJVAAAAAAAAgYUAAAAAAAABZQAAAAAAAAElAAAAAAACAQkAAAAAAAAAAAAAAAAAAAAAAAAAAAAAAAAAAAAAAAMBjQAAAAAAAgEdAAAAAAACogkAAAAAAAPBxQAAAAAAAwFdAAAAAAAAANEAAAAAAAAAAAAAAAAAAAAAAAAAAAAAAAAAAAAAAAABaQAAAAAAAQHVAAAAAAADAXkAAAAAAAJB0QAAAAAAAAAAAAAAAAABAcEAAAAAAADCRQAAAAAAAAAAAAAAAAAAASUAAAAAAAAAAAAAAAAAAAAAAAAAAAAB6okAAAAAAAAA4QA==\",\"dtype\":\"float64\",\"order\":\"little\",\"shape\":[116]}},\"selected\":{\"id\":\"3446\"},\"selection_policy\":{\"id\":\"3460\"}},\"id\":\"3445\",\"type\":\"ColumnDataSource\"},{\"attributes\":{},\"id\":\"3412\",\"type\":\"LinearScale\"},{\"attributes\":{},\"id\":\"3414\",\"type\":\"LinearScale\"},{\"attributes\":{\"line_alpha\":0.2,\"line_color\":\"#fc4f30\",\"line_width\":2,\"x\":{\"field\":\"date\"},\"y\":{\"field\":\"total_laid_off\"}},\"id\":\"3483\",\"type\":\"Line\"},{\"attributes\":{},\"id\":\"3446\",\"type\":\"Selection\"},{\"attributes\":{\"coordinates\":null,\"group\":null,\"text\":\"Lay-off People (x100)) United States,  for specific industries\",\"text_color\":\"black\",\"text_font_size\":\"12pt\"},\"id\":\"3408\",\"type\":\"Title\"},{\"attributes\":{\"num_minor_ticks\":5,\"tickers\":[{\"id\":\"3463\"},{\"id\":\"3464\"},{\"id\":\"3465\"},{\"id\":\"3466\"},{\"id\":\"3467\"},{\"id\":\"3468\"},{\"id\":\"3469\"},{\"id\":\"3470\"},{\"id\":\"3471\"},{\"id\":\"3472\"},{\"id\":\"3473\"},{\"id\":\"3474\"}]},\"id\":\"3417\",\"type\":\"DatetimeTicker\"},{\"attributes\":{},\"id\":\"3425\",\"type\":\"PanTool\"},{\"attributes\":{\"axis_label\":\"Hundreds\",\"coordinates\":null,\"formatter\":{\"id\":\"3443\"},\"group\":null,\"major_label_policy\":{\"id\":\"3444\"},\"ticker\":{\"id\":\"3421\"}},\"id\":\"3420\",\"type\":\"LinearAxis\"},{\"attributes\":{\"axis_label\":\"2020 - 2023\",\"coordinates\":null,\"formatter\":{\"id\":\"3440\"},\"group\":null,\"major_label_policy\":{\"id\":\"3441\"},\"ticker\":{\"id\":\"3417\"}},\"id\":\"3416\",\"type\":\"DatetimeAxis\"},{\"attributes\":{},\"id\":\"3513\",\"type\":\"Selection\"},{\"attributes\":{\"axis\":{\"id\":\"3420\"},\"coordinates\":null,\"dimension\":1,\"grid_line_color\":null,\"group\":null,\"ticker\":null},\"id\":\"3423\",\"type\":\"Grid\"},{\"attributes\":{},\"id\":\"3421\",\"type\":\"BasicTicker\"},{\"attributes\":{\"data\":{\"date\":{\"__ndarray__\":\"AADAmTATd0IAAEBl1RN3QgAAQPweFXdCAAAAJ04Zd0IAAMCMoBl3QgAAQFhFGndCAAAAvpcad0IAAECG2Bx3QgAAgLfPHXdCAADAzqYrd0IAAICKck13QgAAAHcaV3dCAABABDhdd0IAAEA1bfZ3QgAAgP2t+HdCAABAYwD5d0IAAADqVQJ4QgAAwE+oAnhCAABA4CkHeEIAAICoagl4QgAAgNb9C3hCAABAmHYReEIAAMBjGxJ4QgAAQMYJFHhCAABA9JwWeEIAAECL5hd4QgAAgLzdGHhCAABAIjAZeEIAAIBTJxp4QgAAQLl5GnhCAACA6nAbeEIAAEBQwxt4QgAAAE1fHXhCAADAsrEdeEIAAADkqB54QgAAQBWgH3hCAABArOkgeEIAAAASPCF4QgAAgN3gIXhCAABAQzMieEIAAIB0KiN4QgAAgKK9JXhCAABACBAmeEIAAABuYiZ4QgAAwGr+J3hCAACA0FAoeEIAAEA2oyh4QgAAQM3sKXhCAACA/uMqeEIAAMBdbi54QgAAQCkTL3hCAAAAj2UveEIAAMCLATF4QgAAgPFTMXhCAABAV6YxeEIAAABUQjN4QgAAgB/nM3hCAACAtjA1eEIAAEAcgzV4QgAAwBW7OHhCAACAElc6eEIAAADe+zp4QgAAQA/zO3hCAAAAdUU8eEIAAMCfdEB4QgAAwDa+QXhCAADAzQdDeEIAAECZrEN4QgAAAJZIRXhCAADA+5pFeEIAAID4Nkd4QgAAAMTbR3hCAACAj4BIeEIAAIAmykl4QgAAwO4KTHhCAACAVF1MeEIAAEC6r0x4QgAAQFH5TXhCAAAAt0tOeEIAAICC8E54QgAAQH+MUHhCAAAA5d5QeEIAAICwg1F4QgAAwOF6UnhCAADAPaFXeEIAAICj81d4QgAAQAlGWHhCAACAOj1ZeEIAAAAG4ll4QgAAwGs0WnhCAACA0YZaeEIAAEDOIlx4QgAAADR1XHhCAADAmcdceEIAAMAwEV54QgAAgJZjXnhCAAAAYghfeEIAAECT/194QgAAwF6kYHhCAACAxPZgeEIAAMD17WF4Qg==\",\"dtype\":\"float64\",\"order\":\"little\",\"shape\":[101]},\"industry\":[\"Healthcare\",\"Healthcare\",\"Healthcare\",\"Healthcare\",\"Healthcare\",\"Healthcare\",\"Healthcare\",\"Healthcare\",\"Healthcare\",\"Healthcare\",\"Healthcare\",\"Healthcare\",\"Healthcare\",\"Healthcare\",\"Healthcare\",\"Healthcare\",\"Healthcare\",\"Healthcare\",\"Healthcare\",\"Healthcare\",\"Healthcare\",\"Healthcare\",\"Healthcare\",\"Healthcare\",\"Healthcare\",\"Healthcare\",\"Healthcare\",\"Healthcare\",\"Healthcare\",\"Healthcare\",\"Healthcare\",\"Healthcare\",\"Healthcare\",\"Healthcare\",\"Healthcare\",\"Healthcare\",\"Healthcare\",\"Healthcare\",\"Healthcare\",\"Healthcare\",\"Healthcare\",\"Healthcare\",\"Healthcare\",\"Healthcare\",\"Healthcare\",\"Healthcare\",\"Healthcare\",\"Healthcare\",\"Healthcare\",\"Healthcare\",\"Healthcare\",\"Healthcare\",\"Healthcare\",\"Healthcare\",\"Healthcare\",\"Healthcare\",\"Healthcare\",\"Healthcare\",\"Healthcare\",\"Healthcare\",\"Healthcare\",\"Healthcare\",\"Healthcare\",\"Healthcare\",\"Healthcare\",\"Healthcare\",\"Healthcare\",\"Healthcare\",\"Healthcare\",\"Healthcare\",\"Healthcare\",\"Healthcare\",\"Healthcare\",\"Healthcare\",\"Healthcare\",\"Healthcare\",\"Healthcare\",\"Healthcare\",\"Healthcare\",\"Healthcare\",\"Healthcare\",\"Healthcare\",\"Healthcare\",\"Healthcare\",\"Healthcare\",\"Healthcare\",\"Healthcare\",\"Healthcare\",\"Healthcare\",\"Healthcare\",\"Healthcare\",\"Healthcare\",\"Healthcare\",\"Healthcare\",\"Healthcare\",\"Healthcare\",\"Healthcare\",\"Healthcare\",\"Healthcare\",\"Healthcare\",\"Healthcare\"],\"total_laid_off\":{\"__ndarray__\":\"AAAAAABAW0AAAAAAAAAxQAAAAAAAUHlAAAAAAACAQEAAAAAAAABEQAAAAAAAgFFAAAAAAAAAJEAAAAAAAIBRQAAAAAAAAAAAAAAAAAAARkAAAAAAAIBHQAAAAAAAgFRAAAAAAACAZUAAAAAAAABZQAAAAAAAAAAAAAAAAADAYkAAAAAAAABGQAAAAAAAAAAAAAAAAADwfkAAAAAAAABPQAAAAAAAADhAAAAAAAAAAAAAAAAAAEBvQAAAAAAAwGJAAAAAAAAAAAAAAAAAAEBZQAAAAAAAAAAAAAAAAAAAAAAAAAAAAEBlQAAAAAAAgFtAAAAAAAAASkAAAAAAAAAAAAAAAAAAAAAAAAAAAACAY0AAAAAAAAAAAAAAAAAAAAAAAAAAAACAV0AAAAAAAKiWQAAAAAAAACZAAAAAAABAUEAAAAAAAAA5QAAAAAAAAAAAAAAAAACgYkAAAAAAAABZQAAAAAAAUI5AAAAAAAAAAAAAAAAAAJBwQAAAAAAAoHBAAAAAAACAQUAAAAAAAMBXQAAAAAAAQGVAAAAAAACAVkAAAAAAAABEQAAAAAAAAAAAAAAAAAAAN0AAAAAAAABkQAAAAAAAAAAAAAAAAAAAPUAAAAAAAEBbQAAAAAAAAAAAAAAAAAAAAAAAAAAAAABeQAAAAAAAwFBAAAAAAABAf0AAAAAAAAB5QAAAAAAAAEBAAAAAAAAAAAAAAAAAAAAAAAAAAAAAQFBAAAAAAAAAAAAAAAAAAPSRQAAAAAAAgE1AAAAAAABAWkAAAAAAAAAAAAAAAAAAAAAAAAAAAAAAAAAAAAAAAAAAAAAAAAAAAAAAAAAAAAAAAAAAAAAAAIBFQAAAAAAAgFNAAAAAAAAASUAAAAAAAAAAAAAAAAAAAAAAAAAAAAAAAAAAAAAAAEB4QAAAAAAAAGlAAAAAAACwc0AAAAAAADByQAAAAAAAQFlAAAAAAAAAREAAAAAAAMByQAAAAAAAAAAAAAAAAAAAPkAAAAAAAFBwQAAAAAAAQGBAAAAAAAAAAAAAAAAAAAAAAAAAAAAAAExAAAAAAADAX0AAAAAAAIBRQA==\",\"dtype\":\"float64\",\"order\":\"little\",\"shape\":[101]}},\"selected\":{\"id\":\"3513\"},\"selection_policy\":{\"id\":\"3531\"}},\"id\":\"3512\",\"type\":\"ColumnDataSource\"},{\"attributes\":{},\"id\":\"3426\",\"type\":\"WheelZoomTool\"},{\"attributes\":{\"tools\":[{\"id\":\"3402\"},{\"id\":\"3424\"},{\"id\":\"3425\"},{\"id\":\"3426\"},{\"id\":\"3427\"},{\"id\":\"3428\"}]},\"id\":\"3430\",\"type\":\"Toolbar\"},{\"attributes\":{\"line_color\":\"#e5ae38\",\"line_width\":2,\"x\":{\"field\":\"date\"},\"y\":{\"field\":\"total_laid_off\"}},\"id\":\"3515\",\"type\":\"Line\"},{\"attributes\":{},\"id\":\"3424\",\"type\":\"SaveTool\"},{\"attributes\":{\"overlay\":{\"id\":\"3429\"}},\"id\":\"3427\",\"type\":\"BoxZoomTool\"},{\"attributes\":{},\"id\":\"3428\",\"type\":\"ResetTool\"}],\"root_ids\":[\"3396\"]},\"title\":\"Bokeh Application\",\"version\":\"2.4.3\"}};\n",
       "    var render_items = [{\"docid\":\"4696f6c0-9ce5-4dc2-bd4d-527fafbe5028\",\"root_ids\":[\"3396\"],\"roots\":{\"3396\":\"2f169400-7698-4506-ab78-78fa7ff52dd5\"}}];\n",
       "    root.Bokeh.embed.embed_items_notebook(docs_json, render_items);\n",
       "    for (const render_item of render_items) {\n",
       "      for (const root_id of render_item.root_ids) {\n",
       "\tconst id_el = document.getElementById(root_id)\n",
       "\tif (id_el.children.length && (id_el.children[0].className === 'bk-root')) {\n",
       "\t  const root_el = id_el.children[0]\n",
       "\t  root_el.id = root_el.id + '-rendered'\n",
       "\t}\n",
       "      }\n",
       "    }\n",
       "  }\n",
       "  if (root.Bokeh !== undefined && root.Bokeh.Panel !== undefined) {\n",
       "    embed_document(root);\n",
       "  } else {\n",
       "    var attempts = 0;\n",
       "    var timer = setInterval(function(root) {\n",
       "      if (root.Bokeh !== undefined && root.Bokeh.Panel !== undefined) {\n",
       "        clearInterval(timer);\n",
       "        embed_document(root);\n",
       "      } else if (document.readyState == \"complete\") {\n",
       "        attempts++;\n",
       "        if (attempts > 200) {\n",
       "          clearInterval(timer);\n",
       "          console.log(\"Bokeh: ERROR: Unable to run BokehJS code because BokehJS library is missing\");\n",
       "        }\n",
       "      }\n",
       "    }, 25, root)\n",
       "  }\n",
       "})(window);</script>"
      ],
      "text/plain": [
       ":NdOverlay   [industry]\n",
       "   :Curve   [date]   (total_laid_off)"
      ]
     },
     "execution_count": 19,
     "metadata": {
      "application/vnd.holoviews_exec.v0+json": {
       "id": "3396"
      }
     },
     "output_type": "execute_result"
    }
   ],
   "source": [
    "#graph for Lay-offs in the US for three comparable Industries\n",
    "layoff_graph=similar_indUS_clean2.hvplot.line(x='date', y='total_laid_off',by='industry',frame_width = 1000,stacked=True,legend='top_left',colorbar=True).opts(\n",
    "    title='Lay-off People (x100)) United States,  for specific industries',\n",
    "    xlabel='2020 - 2023',\n",
    "    ylabel='Hundreds',\n",
    ")\n",
    "\n",
    "hvplot.save(layoff_graph,'../output/layoff_graph.png')\n",
    "layoff_graph"
   ]
  }
 ],
 "metadata": {
  "kernelspec": {
   "display_name": "base",
   "language": "python",
   "name": "python3"
  },
  "language_info": {
   "codemirror_mode": {
    "name": "ipython",
    "version": 3
   },
   "file_extension": ".py",
   "mimetype": "text/x-python",
   "name": "python",
   "nbconvert_exporter": "python",
   "pygments_lexer": "ipython3",
   "version": "3.9.13"
  },
  "orig_nbformat": 4,
  "vscode": {
   "interpreter": {
    "hash": "a077222d77dfe082b8f1dd562ad70e458ac2ab76993a0b248ab0476e32e9e8dd"
   }
  }
 },
 "nbformat": 4,
 "nbformat_minor": 2
}
